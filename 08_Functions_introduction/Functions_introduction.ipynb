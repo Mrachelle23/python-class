{
 "cells": [
  {
   "cell_type": "markdown",
   "metadata": {
    "toc": true
   },
   "source": [
    "<h1>Table of Contents<span class=\"tocSkip\"></span></h1>\n",
    "<div class=\"toc\"><ul class=\"toc-item\"><li><span><a href=\"#A-first-example\" data-toc-modified-id=\"A-first-example-1\"><span class=\"toc-item-num\">1&nbsp;&nbsp;</span>A first example</a></span></li><li><span><a href=\"#Scope\" data-toc-modified-id=\"Scope-2\"><span class=\"toc-item-num\">2&nbsp;&nbsp;</span>Scope</a></span></li><li><span><a href=\"#Returning-new-variables-versus-changing-existing-variables\" data-toc-modified-id=\"Returning-new-variables-versus-changing-existing-variables-3\"><span class=\"toc-item-num\">3&nbsp;&nbsp;</span>Returning new variables versus changing existing variables</a></span><ul class=\"toc-item\"><li><span><a href=\"#New-returning-new-variables\" data-toc-modified-id=\"New-returning-new-variables-3.1\"><span class=\"toc-item-num\">3.1&nbsp;&nbsp;</span>New returning new variables</a></span></li><li><span><a href=\"#Mutating-the-original\" data-toc-modified-id=\"Mutating-the-original-3.2\"><span class=\"toc-item-num\">3.2&nbsp;&nbsp;</span>Mutating the original</a></span></li></ul></li><li><span><a href=\"#Returning-multiple-values\" data-toc-modified-id=\"Returning-multiple-values-4\"><span class=\"toc-item-num\">4&nbsp;&nbsp;</span>Returning multiple values</a></span></li><li><span><a href=\"#Exercises\" data-toc-modified-id=\"Exercises-5\"><span class=\"toc-item-num\">5&nbsp;&nbsp;</span>Exercises</a></span></li></ul></div>"
   ]
  },
  {
   "cell_type": "markdown",
   "metadata": {},
   "source": [
    "# Functions\n",
    "\n",
    "## A first example\n",
    "\n",
    "A function is defined by the keyword def, followed by a name (you choose) and the required arguments."
   ]
  },
  {
   "cell_type": "code",
   "execution_count": 1,
   "metadata": {},
   "outputs": [
    {
     "name": "stdout",
     "output_type": "stream",
     "text": [
      "200\n"
     ]
    }
   ],
   "source": [
    "# Define the function\n",
    "def multiply(a,b):\n",
    "    result = a * b\n",
    "    return result\n",
    "\n",
    "# Use the function\n",
    "c = multiply(10,20)\n",
    "print(c)"
   ]
  },
  {
   "cell_type": "markdown",
   "metadata": {},
   "source": [
    "## Scope\n",
    "\n",
    "It is important to realize that a function is encapsulated. All variables and operations that are used inside the function are only accessible inside the function. For example, the variable *result* can not be accessed outside of the function. The following fails."
   ]
  },
  {
   "cell_type": "code",
   "execution_count": 2,
   "metadata": {},
   "outputs": [
    {
     "ename": "NameError",
     "evalue": "name 'result' is not defined",
     "output_type": "error",
     "traceback": [
      "\u001b[0;31m---------------------------------------------------------------------------\u001b[0m",
      "\u001b[0;31mNameError\u001b[0m                                 Traceback (most recent call last)",
      "\u001b[0;32m<ipython-input-2-6459d04d738f>\u001b[0m in \u001b[0;36m<module>\u001b[0;34m()\u001b[0m\n\u001b[0;32m----> 1\u001b[0;31m \u001b[0mprint\u001b[0m\u001b[0;34m(\u001b[0m\u001b[0mresult\u001b[0m\u001b[0;34m)\u001b[0m\u001b[0;34m\u001b[0m\u001b[0m\n\u001b[0m",
      "\u001b[0;31mNameError\u001b[0m: name 'result' is not defined"
     ]
    }
   ],
   "source": [
    "print(result)"
   ]
  },
  {
   "cell_type": "markdown",
   "metadata": {},
   "source": [
    "## Returning new variables versus changing existing variables\n",
    "The convention in Python is that functions either mutate (change) something, or return something, not both."
   ]
  },
  {
   "cell_type": "markdown",
   "metadata": {},
   "source": [
    "### New returning new variables"
   ]
  },
  {
   "cell_type": "code",
   "execution_count": 1,
   "metadata": {},
   "outputs": [
    {
     "name": "stdout",
     "output_type": "stream",
     "text": [
      "[1, 2, 3]\n",
      "[1, 2, 3, 4]\n"
     ]
    }
   ],
   "source": [
    "def add_to_list(baselist, y):\n",
    "    baselist = baselist + [y]\n",
    "    return baselist\n",
    "    \n",
    "a = [1,2,3]\n",
    "c = add_to_list(a, 4)\n",
    "print(a)\n",
    "print(c)"
   ]
  },
  {
   "cell_type": "markdown",
   "metadata": {},
   "source": [
    "### Mutating the original"
   ]
  },
  {
   "cell_type": "code",
   "execution_count": 4,
   "metadata": {
    "scrolled": true
   },
   "outputs": [
    {
     "name": "stdout",
     "output_type": "stream",
     "text": [
      "[1, 2, 3, 4]\n"
     ]
    }
   ],
   "source": [
    "def add_to_list(x, y):\n",
    "    x.append(y)\n",
    "    \n",
    "a = [1,2,3]\n",
    "add_to_list(a, 4)\n",
    "print(a)"
   ]
  },
  {
   "cell_type": "markdown",
   "metadata": {},
   "source": [
    "## Returning multiple values\n",
    "\n",
    "Multiple values can be returned by separating them using commas."
   ]
  },
  {
   "cell_type": "code",
   "execution_count": 5,
   "metadata": {},
   "outputs": [
    {
     "name": "stdout",
     "output_type": "stream",
     "text": [
      "30 -10\n"
     ]
    }
   ],
   "source": [
    "def sum_and_diff(a,b):\n",
    "    sm = a+b\n",
    "    df = a-b\n",
    "    return sm,df\n",
    "\n",
    "summed,differ = sum_and_diff(10,20)\n",
    "print(summed,differ)"
   ]
  },
  {
   "cell_type": "markdown",
   "metadata": {},
   "source": [
    "## Exercises\n",
    "\n",
    "+ Write a function that returns True or False depending on whether the input is even or not.\n",
    "+ Write a function that takes the radius of a circle and returns its circumference.\n",
    "+ Change the function to return both the circumference and surface area.\n",
    "+ Write a function that sums all odd numbers from 0 to n.\n",
    "+ Write a function that calculates a tip:\n",
    "    + Input: cost of meal, tax as percentage, and a tip percentage\n",
    "    + Prints: total cost of meal, tip and total.\n",
    "+ Define a function histogram() that takes a list of integers and prints a histogram to the screen. Histogram([4, 9, 7]) should print the following:\n",
    "    ~~~\n",
    "    ++++\n",
    "    +++++++++\n",
    "    +++++++\n",
    "    ~~~"
   ]
  }
 ],
 "metadata": {
  "anaconda-cloud": {},
  "kernelspec": {
   "display_name": "Python 3",
   "language": "python",
   "name": "python3"
  },
  "language_info": {
   "codemirror_mode": {
    "name": "ipython",
    "version": 3
   },
   "file_extension": ".py",
   "mimetype": "text/x-python",
   "name": "python",
   "nbconvert_exporter": "python",
   "pygments_lexer": "ipython3",
   "version": "3.7.2"
  },
  "nav_menu": {},
  "toc": {
   "base_numbering": 1,
   "nav_menu": {
    "height": "135px",
    "width": "252px"
   },
   "number_sections": true,
   "sideBar": true,
   "skip_h1_title": true,
   "title_cell": "Table of Contents",
   "title_sidebar": "Contents",
   "toc_cell": true,
   "toc_position": {},
   "toc_section_display": "block",
   "toc_window_display": true
  }
 },
 "nbformat": 4,
 "nbformat_minor": 1
}
