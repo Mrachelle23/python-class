{
 "cells": [
  {
   "cell_type": "code",
   "execution_count": 244,
   "metadata": {},
   "outputs": [],
   "source": [
    "import pandas\n",
    "import numpy\n",
    "from matplotlib import pyplot\n",
    "from sklearn.decomposition import PCA\n",
    "from sklearn.decomposition import FactorAnalysis\n",
    "\n",
    "%matplotlib inline"
   ]
  },
  {
   "cell_type": "code",
   "execution_count": 245,
   "metadata": {},
   "outputs": [
    {
     "data": {
      "text/html": [
       "<div>\n",
       "<style scoped>\n",
       "    .dataframe tbody tr th:only-of-type {\n",
       "        vertical-align: middle;\n",
       "    }\n",
       "\n",
       "    .dataframe tbody tr th {\n",
       "        vertical-align: top;\n",
       "    }\n",
       "\n",
       "    .dataframe thead th {\n",
       "        text-align: right;\n",
       "    }\n",
       "</style>\n",
       "<table border=\"1\" class=\"dataframe\">\n",
       "  <thead>\n",
       "    <tr style=\"text-align: right;\">\n",
       "      <th></th>\n",
       "      <th>Biacromial</th>\n",
       "      <th>Biiliac</th>\n",
       "      <th>Bitrochanteric</th>\n",
       "      <th>ChestDepth</th>\n",
       "      <th>ChestDia</th>\n",
       "      <th>ElbowDia</th>\n",
       "      <th>WristDia</th>\n",
       "      <th>KneeDia</th>\n",
       "      <th>AnkleDia</th>\n",
       "      <th>Shoulder</th>\n",
       "      <th>...</th>\n",
       "      <th>Bicep</th>\n",
       "      <th>Forearm</th>\n",
       "      <th>Knee</th>\n",
       "      <th>Calf</th>\n",
       "      <th>Ankle</th>\n",
       "      <th>Wrist</th>\n",
       "      <th>Age</th>\n",
       "      <th>Weight</th>\n",
       "      <th>Height</th>\n",
       "      <th>Gender</th>\n",
       "    </tr>\n",
       "  </thead>\n",
       "  <tbody>\n",
       "    <tr>\n",
       "      <th>0</th>\n",
       "      <td>42.9</td>\n",
       "      <td>26.0</td>\n",
       "      <td>31.5</td>\n",
       "      <td>17.7</td>\n",
       "      <td>28.0</td>\n",
       "      <td>13.1</td>\n",
       "      <td>10.4</td>\n",
       "      <td>18.8</td>\n",
       "      <td>14.1</td>\n",
       "      <td>106.2</td>\n",
       "      <td>...</td>\n",
       "      <td>32.5</td>\n",
       "      <td>26.0</td>\n",
       "      <td>34.5</td>\n",
       "      <td>36.5</td>\n",
       "      <td>23.5</td>\n",
       "      <td>16.5</td>\n",
       "      <td>21</td>\n",
       "      <td>65.6</td>\n",
       "      <td>174.0</td>\n",
       "      <td>1</td>\n",
       "    </tr>\n",
       "    <tr>\n",
       "      <th>1</th>\n",
       "      <td>43.7</td>\n",
       "      <td>28.5</td>\n",
       "      <td>33.5</td>\n",
       "      <td>16.9</td>\n",
       "      <td>30.8</td>\n",
       "      <td>14.0</td>\n",
       "      <td>11.8</td>\n",
       "      <td>20.6</td>\n",
       "      <td>15.1</td>\n",
       "      <td>110.5</td>\n",
       "      <td>...</td>\n",
       "      <td>34.4</td>\n",
       "      <td>28.0</td>\n",
       "      <td>36.5</td>\n",
       "      <td>37.5</td>\n",
       "      <td>24.5</td>\n",
       "      <td>17.0</td>\n",
       "      <td>23</td>\n",
       "      <td>71.8</td>\n",
       "      <td>175.3</td>\n",
       "      <td>1</td>\n",
       "    </tr>\n",
       "    <tr>\n",
       "      <th>2</th>\n",
       "      <td>40.1</td>\n",
       "      <td>28.2</td>\n",
       "      <td>33.3</td>\n",
       "      <td>20.9</td>\n",
       "      <td>31.7</td>\n",
       "      <td>13.9</td>\n",
       "      <td>10.9</td>\n",
       "      <td>19.7</td>\n",
       "      <td>14.1</td>\n",
       "      <td>115.1</td>\n",
       "      <td>...</td>\n",
       "      <td>33.4</td>\n",
       "      <td>28.8</td>\n",
       "      <td>37.0</td>\n",
       "      <td>37.3</td>\n",
       "      <td>21.9</td>\n",
       "      <td>16.9</td>\n",
       "      <td>28</td>\n",
       "      <td>80.7</td>\n",
       "      <td>193.5</td>\n",
       "      <td>1</td>\n",
       "    </tr>\n",
       "    <tr>\n",
       "      <th>3</th>\n",
       "      <td>44.3</td>\n",
       "      <td>29.9</td>\n",
       "      <td>34.0</td>\n",
       "      <td>18.4</td>\n",
       "      <td>28.2</td>\n",
       "      <td>13.9</td>\n",
       "      <td>11.2</td>\n",
       "      <td>20.9</td>\n",
       "      <td>15.0</td>\n",
       "      <td>104.5</td>\n",
       "      <td>...</td>\n",
       "      <td>31.0</td>\n",
       "      <td>26.2</td>\n",
       "      <td>37.0</td>\n",
       "      <td>34.8</td>\n",
       "      <td>23.0</td>\n",
       "      <td>16.6</td>\n",
       "      <td>23</td>\n",
       "      <td>72.6</td>\n",
       "      <td>186.5</td>\n",
       "      <td>1</td>\n",
       "    </tr>\n",
       "    <tr>\n",
       "      <th>4</th>\n",
       "      <td>42.5</td>\n",
       "      <td>29.9</td>\n",
       "      <td>34.0</td>\n",
       "      <td>21.5</td>\n",
       "      <td>29.4</td>\n",
       "      <td>15.2</td>\n",
       "      <td>11.6</td>\n",
       "      <td>20.7</td>\n",
       "      <td>14.9</td>\n",
       "      <td>107.5</td>\n",
       "      <td>...</td>\n",
       "      <td>32.0</td>\n",
       "      <td>28.4</td>\n",
       "      <td>37.7</td>\n",
       "      <td>38.6</td>\n",
       "      <td>24.4</td>\n",
       "      <td>18.0</td>\n",
       "      <td>22</td>\n",
       "      <td>78.8</td>\n",
       "      <td>187.2</td>\n",
       "      <td>1</td>\n",
       "    </tr>\n",
       "  </tbody>\n",
       "</table>\n",
       "<p>5 rows × 25 columns</p>\n",
       "</div>"
      ],
      "text/plain": [
       "   Biacromial  Biiliac  Bitrochanteric  ChestDepth  ChestDia  ElbowDia  \\\n",
       "0        42.9     26.0            31.5        17.7      28.0      13.1   \n",
       "1        43.7     28.5            33.5        16.9      30.8      14.0   \n",
       "2        40.1     28.2            33.3        20.9      31.7      13.9   \n",
       "3        44.3     29.9            34.0        18.4      28.2      13.9   \n",
       "4        42.5     29.9            34.0        21.5      29.4      15.2   \n",
       "\n",
       "   WristDia  KneeDia  AnkleDia  Shoulder   ...    Bicep  Forearm  Knee  Calf  \\\n",
       "0      10.4     18.8      14.1     106.2   ...     32.5     26.0  34.5  36.5   \n",
       "1      11.8     20.6      15.1     110.5   ...     34.4     28.0  36.5  37.5   \n",
       "2      10.9     19.7      14.1     115.1   ...     33.4     28.8  37.0  37.3   \n",
       "3      11.2     20.9      15.0     104.5   ...     31.0     26.2  37.0  34.8   \n",
       "4      11.6     20.7      14.9     107.5   ...     32.0     28.4  37.7  38.6   \n",
       "\n",
       "   Ankle  Wrist  Age  Weight  Height  Gender  \n",
       "0   23.5   16.5   21    65.6   174.0       1  \n",
       "1   24.5   17.0   23    71.8   175.3       1  \n",
       "2   21.9   16.9   28    80.7   193.5       1  \n",
       "3   23.0   16.6   23    72.6   186.5       1  \n",
       "4   24.4   18.0   22    78.8   187.2       1  \n",
       "\n",
       "[5 rows x 25 columns]"
      ]
     },
     "execution_count": 245,
     "metadata": {},
     "output_type": "execute_result"
    }
   ],
   "source": [
    "data = pandas.read_csv('body.csv')\n",
    "data.head()"
   ]
  },
  {
   "cell_type": "code",
   "execution_count": 246,
   "metadata": {},
   "outputs": [],
   "source": [
    "n_vars = data.shape[1]"
   ]
  },
  {
   "cell_type": "markdown",
   "metadata": {},
   "source": [
    "https://matplotlib.org/examples/color/colormaps_reference.html"
   ]
  },
  {
   "cell_type": "code",
   "execution_count": 247,
   "metadata": {},
   "outputs": [
    {
     "data": {
      "text/plain": [
       "<matplotlib.colorbar.Colorbar at 0x7f8d69b716d8>"
      ]
     },
     "execution_count": 247,
     "metadata": {},
     "output_type": "execute_result"
    },
    {
     "data": {
      "image/png": "[encoded data removed]",
      "text/plain": [
       "<matplotlib.figure.Figure at 0x7f8d69ac4978>"
      ]
     },
     "metadata": {},
     "output_type": "display_data"
    }
   ],
   "source": [
    "matrix  = data.corr()\n",
    "pyplot.matshow(matrix);\n",
    "pyplot.set_cmap('hot')\n",
    "pyplot.colorbar()"
   ]
  },
  {
   "cell_type": "code",
   "execution_count": 248,
   "metadata": {},
   "outputs": [
    {
     "data": {
      "text/html": [
       "<div>\n",
       "<style scoped>\n",
       "    .dataframe tbody tr th:only-of-type {\n",
       "        vertical-align: middle;\n",
       "    }\n",
       "\n",
       "    .dataframe tbody tr th {\n",
       "        vertical-align: top;\n",
       "    }\n",
       "\n",
       "    .dataframe thead th {\n",
       "        text-align: right;\n",
       "    }\n",
       "</style>\n",
       "<table border=\"1\" class=\"dataframe\">\n",
       "  <thead>\n",
       "    <tr style=\"text-align: right;\">\n",
       "      <th></th>\n",
       "      <th>0</th>\n",
       "      <th>1</th>\n",
       "      <th>2</th>\n",
       "      <th>3</th>\n",
       "      <th>4</th>\n",
       "    </tr>\n",
       "  </thead>\n",
       "  <tbody>\n",
       "    <tr>\n",
       "      <th>0</th>\n",
       "      <td>-10.481560</td>\n",
       "      <td>-13.670794</td>\n",
       "      <td>-2.865463</td>\n",
       "      <td>-0.704068</td>\n",
       "      <td>0.739847</td>\n",
       "    </tr>\n",
       "    <tr>\n",
       "      <th>1</th>\n",
       "      <td>5.830000</td>\n",
       "      <td>-9.054799</td>\n",
       "      <td>-0.551681</td>\n",
       "      <td>0.563593</td>\n",
       "      <td>-4.262120</td>\n",
       "    </tr>\n",
       "    <tr>\n",
       "      <th>2</th>\n",
       "      <td>18.653130</td>\n",
       "      <td>-14.385908</td>\n",
       "      <td>-7.879560</td>\n",
       "      <td>-11.564623</td>\n",
       "      <td>-1.387807</td>\n",
       "    </tr>\n",
       "    <tr>\n",
       "      <th>3</th>\n",
       "      <td>3.271981</td>\n",
       "      <td>-14.938962</td>\n",
       "      <td>-5.253739</td>\n",
       "      <td>-9.782403</td>\n",
       "      <td>-4.170538</td>\n",
       "    </tr>\n",
       "    <tr>\n",
       "      <th>4</th>\n",
       "      <td>12.005287</td>\n",
       "      <td>-14.642828</td>\n",
       "      <td>-0.409950</td>\n",
       "      <td>-10.526348</td>\n",
       "      <td>-1.786329</td>\n",
       "    </tr>\n",
       "  </tbody>\n",
       "</table>\n",
       "</div>"
      ],
      "text/plain": [
       "           0          1         2          3         4\n",
       "0 -10.481560 -13.670794 -2.865463  -0.704068  0.739847\n",
       "1   5.830000  -9.054799 -0.551681   0.563593 -4.262120\n",
       "2  18.653130 -14.385908 -7.879560 -11.564623 -1.387807\n",
       "3   3.271981 -14.938962 -5.253739  -9.782403 -4.170538\n",
       "4  12.005287 -14.642828 -0.409950 -10.526348 -1.786329"
      ]
     },
     "execution_count": 248,
     "metadata": {},
     "output_type": "execute_result"
    }
   ],
   "source": [
    "pca = PCA(n_components=5)\n",
    "transformed_data = pca.fit_transform(data)\n",
    "transformed_data = pandas.DataFrame(transformed_data)\n",
    "transformed_data.head()"
   ]
  },
  {
   "cell_type": "code",
   "execution_count": 249,
   "metadata": {},
   "outputs": [
    {
     "data": {
      "text/html": [
       "<div>\n",
       "<style scoped>\n",
       "    .dataframe tbody tr th:only-of-type {\n",
       "        vertical-align: middle;\n",
       "    }\n",
       "\n",
       "    .dataframe tbody tr th {\n",
       "        vertical-align: top;\n",
       "    }\n",
       "\n",
       "    .dataframe thead th {\n",
       "        text-align: right;\n",
       "    }\n",
       "</style>\n",
       "<table border=\"1\" class=\"dataframe\">\n",
       "  <thead>\n",
       "    <tr style=\"text-align: right;\">\n",
       "      <th></th>\n",
       "      <th>0</th>\n",
       "      <th>1</th>\n",
       "      <th>2</th>\n",
       "      <th>3</th>\n",
       "      <th>4</th>\n",
       "    </tr>\n",
       "  </thead>\n",
       "  <tbody>\n",
       "    <tr>\n",
       "      <th>0</th>\n",
       "      <td>1.000000e+00</td>\n",
       "      <td>-4.391360e-17</td>\n",
       "      <td>1.990135e-17</td>\n",
       "      <td>4.815395e-18</td>\n",
       "      <td>3.684720e-18</td>\n",
       "    </tr>\n",
       "    <tr>\n",
       "      <th>1</th>\n",
       "      <td>-4.391360e-17</td>\n",
       "      <td>1.000000e+00</td>\n",
       "      <td>-2.911837e-17</td>\n",
       "      <td>2.952229e-17</td>\n",
       "      <td>4.733597e-17</td>\n",
       "    </tr>\n",
       "    <tr>\n",
       "      <th>2</th>\n",
       "      <td>1.990135e-17</td>\n",
       "      <td>-2.911837e-17</td>\n",
       "      <td>1.000000e+00</td>\n",
       "      <td>-8.819318e-17</td>\n",
       "      <td>2.127395e-17</td>\n",
       "    </tr>\n",
       "    <tr>\n",
       "      <th>3</th>\n",
       "      <td>4.815395e-18</td>\n",
       "      <td>2.952229e-17</td>\n",
       "      <td>-8.819318e-17</td>\n",
       "      <td>1.000000e+00</td>\n",
       "      <td>-4.133585e-17</td>\n",
       "    </tr>\n",
       "    <tr>\n",
       "      <th>4</th>\n",
       "      <td>3.684720e-18</td>\n",
       "      <td>4.733597e-17</td>\n",
       "      <td>2.127395e-17</td>\n",
       "      <td>-4.133585e-17</td>\n",
       "      <td>1.000000e+00</td>\n",
       "    </tr>\n",
       "  </tbody>\n",
       "</table>\n",
       "</div>"
      ],
      "text/plain": [
       "              0             1             2             3             4\n",
       "0  1.000000e+00 -4.391360e-17  1.990135e-17  4.815395e-18  3.684720e-18\n",
       "1 -4.391360e-17  1.000000e+00 -2.911837e-17  2.952229e-17  4.733597e-17\n",
       "2  1.990135e-17 -2.911837e-17  1.000000e+00 -8.819318e-17  2.127395e-17\n",
       "3  4.815395e-18  2.952229e-17 -8.819318e-17  1.000000e+00 -4.133585e-17\n",
       "4  3.684720e-18  4.733597e-17  2.127395e-17 -4.133585e-17  1.000000e+00"
      ]
     },
     "execution_count": 249,
     "metadata": {},
     "output_type": "execute_result"
    }
   ],
   "source": [
    "transformed_data.corr()"
   ]
  },
  {
   "cell_type": "code",
   "execution_count": 250,
   "metadata": {},
   "outputs": [
    {
     "data": {
      "image/png": "[encoded data removed]",
      "text/plain": [
       "<matplotlib.figure.Figure at 0x7f8d69b91c88>"
      ]
     },
     "metadata": {},
     "output_type": "display_data"
    }
   ],
   "source": [
    "explained = pca.explained_variance_ratio_\n",
    "pyplot.plot(explained, 's-');"
   ]
  },
  {
   "cell_type": "code",
   "execution_count": 251,
   "metadata": {},
   "outputs": [
    {
     "data": {
      "text/plain": [
       "array([0.69443916, 0.81200141, 0.88664326, 0.93056985, 0.94966453])"
      ]
     },
     "execution_count": 251,
     "metadata": {},
     "output_type": "execute_result"
    }
   ],
   "source": [
    "numpy.cumsum(explained)"
   ]
  },
  {
   "cell_type": "code",
   "execution_count": 252,
   "metadata": {},
   "outputs": [
    {
     "data": {
      "text/plain": [
       "array([[ 0.08864834,  0.04215074,  0.05225649,  0.08192632,  0.09238726,\n",
       "         0.04322526,  0.02875173,  0.03920766,  0.03604789,  0.37267389,\n",
       "         0.37156148,  0.40958779,  0.28095484,  0.19695227,  0.08807714,\n",
       "         0.14848955,  0.09770069,  0.07776416,  0.08099087,  0.05479063,\n",
       "         0.04497675,  0.11740985,  0.51623259,  0.25878953,  0.01364414],\n",
       "       [-0.10633063,  0.04710582,  0.03065228,  0.01075486, -0.04495658,\n",
       "        -0.03034185, -0.01874801, -0.01460245, -0.0173054 , -0.2269996 ,\n",
       "        -0.09315791,  0.13832745,  0.43186943,  0.17926757,  0.06941886,\n",
       "        -0.06252397, -0.06431437, -0.00469206, -0.01361441, -0.01884424,\n",
       "        -0.03014021,  0.71906602, -0.10831003, -0.37446874, -0.01657147],\n",
       "       [-0.09661216,  0.05188927,  0.04718337, -0.02231277, -0.04252912,\n",
       "        -0.03730429, -0.02587847,  0.00294945, -0.03231531, -0.19013978,\n",
       "        -0.12800483, -0.01452337,  0.36386724,  0.4006413 ,  0.37112727,\n",
       "        -0.02777638, -0.03745837,  0.08470854,  0.08359385,  0.01404848,\n",
       "        -0.03335213, -0.60103872,  0.13735852, -0.31376299, -0.02681262],\n",
       "       [-0.02616207, -0.14130249, -0.10976522,  0.02302566,  0.0600289 ,\n",
       "        -0.00990645, -0.00133904, -0.02735138, -0.02610381,  0.34092433,\n",
       "         0.36215958,  0.21119491, -0.1594549 , -0.16479719, -0.05548974,\n",
       "         0.14172834,  0.06467943, -0.07688485, -0.02992292, -0.02612013,\n",
       "         0.00916191, -0.12120801, -0.13353479, -0.74128736,  0.01045082],\n",
       "       [ 0.02049529, -0.01346333,  0.09208426, -0.04788536,  0.03506797,\n",
       "         0.02489045,  0.02188295,  0.08553136,  0.01084656,  0.23802729,\n",
       "        -0.07669764, -0.46174699, -0.45395825,  0.30094411,  0.39714084,\n",
       "         0.10064662,  0.08360335,  0.15348419,  0.23652986,  0.07062109,\n",
       "         0.03845118,  0.29205313,  0.18946142, -0.15589359, -0.01289611]])"
      ]
     },
     "execution_count": 252,
     "metadata": {},
     "output_type": "execute_result"
    }
   ],
   "source": [
    "loadings = pca.components_\n",
    "loadings"
   ]
  },
  {
   "cell_type": "code",
   "execution_count": 253,
   "metadata": {},
   "outputs": [
    {
     "data": {
      "text/plain": [
       "<matplotlib.colorbar.Colorbar at 0x7f8d699c8518>"
      ]
     },
     "execution_count": 253,
     "metadata": {},
     "output_type": "execute_result"
    },
    {
     "data": {
      "image/png": "[encoded data removed]",
      "text/plain": [
       "<matplotlib.figure.Figure at 0x7f8d699c8be0>"
      ]
     },
     "metadata": {},
     "output_type": "display_data"
    }
   ],
   "source": [
    "pyplot.matshow(loadings);\n",
    "pyplot.colorbar()"
   ]
  },
  {
   "cell_type": "code",
   "execution_count": 254,
   "metadata": {},
   "outputs": [
    {
     "data": {
      "image/png": "[encoded data removed]",
      "text/plain": [
       "<matplotlib.figure.Figure at 0x7f8d66fbac88>"
      ]
     },
     "metadata": {},
     "output_type": "display_data"
    }
   ],
   "source": [
    "component = 0\n",
    "x_values = range(0,n_vars)\n",
    "pyplot.bar(x_values, loadings[component,:])\n",
    "pyplot.xticks(x_values, data.columns, rotation=90);"
   ]
  },
  {
   "cell_type": "code",
   "execution_count": 284,
   "metadata": {},
   "outputs": [
    {
     "data": {
      "text/html": [
       "<div>\n",
       "<style scoped>\n",
       "    .dataframe tbody tr th:only-of-type {\n",
       "        vertical-align: middle;\n",
       "    }\n",
       "\n",
       "    .dataframe tbody tr th {\n",
       "        vertical-align: top;\n",
       "    }\n",
       "\n",
       "    .dataframe thead th {\n",
       "        text-align: right;\n",
       "    }\n",
       "</style>\n",
       "<table border=\"1\" class=\"dataframe\">\n",
       "  <thead>\n",
       "    <tr style=\"text-align: right;\">\n",
       "      <th></th>\n",
       "      <th>race</th>\n",
       "      <th>age</th>\n",
       "      <th>engnat</th>\n",
       "      <th>gender</th>\n",
       "      <th>hand</th>\n",
       "      <th>source</th>\n",
       "      <th>country</th>\n",
       "      <th>E1</th>\n",
       "      <th>E2</th>\n",
       "      <th>E3</th>\n",
       "      <th>...</th>\n",
       "      <th>O1</th>\n",
       "      <th>O2</th>\n",
       "      <th>O3</th>\n",
       "      <th>O4</th>\n",
       "      <th>O5</th>\n",
       "      <th>O6</th>\n",
       "      <th>O7</th>\n",
       "      <th>O8</th>\n",
       "      <th>O9</th>\n",
       "      <th>O10</th>\n",
       "    </tr>\n",
       "  </thead>\n",
       "  <tbody>\n",
       "    <tr>\n",
       "      <th>0</th>\n",
       "      <td>3</td>\n",
       "      <td>53</td>\n",
       "      <td>1</td>\n",
       "      <td>1</td>\n",
       "      <td>1</td>\n",
       "      <td>1</td>\n",
       "      <td>US</td>\n",
       "      <td>4</td>\n",
       "      <td>2</td>\n",
       "      <td>5</td>\n",
       "      <td>...</td>\n",
       "      <td>4</td>\n",
       "      <td>1</td>\n",
       "      <td>3</td>\n",
       "      <td>1</td>\n",
       "      <td>5</td>\n",
       "      <td>1</td>\n",
       "      <td>4</td>\n",
       "      <td>2</td>\n",
       "      <td>5</td>\n",
       "      <td>5</td>\n",
       "    </tr>\n",
       "    <tr>\n",
       "      <th>1</th>\n",
       "      <td>13</td>\n",
       "      <td>46</td>\n",
       "      <td>1</td>\n",
       "      <td>2</td>\n",
       "      <td>1</td>\n",
       "      <td>1</td>\n",
       "      <td>US</td>\n",
       "      <td>2</td>\n",
       "      <td>2</td>\n",
       "      <td>3</td>\n",
       "      <td>...</td>\n",
       "      <td>3</td>\n",
       "      <td>3</td>\n",
       "      <td>3</td>\n",
       "      <td>3</td>\n",
       "      <td>2</td>\n",
       "      <td>3</td>\n",
       "      <td>3</td>\n",
       "      <td>1</td>\n",
       "      <td>3</td>\n",
       "      <td>2</td>\n",
       "    </tr>\n",
       "    <tr>\n",
       "      <th>2</th>\n",
       "      <td>1</td>\n",
       "      <td>14</td>\n",
       "      <td>2</td>\n",
       "      <td>2</td>\n",
       "      <td>1</td>\n",
       "      <td>1</td>\n",
       "      <td>PK</td>\n",
       "      <td>5</td>\n",
       "      <td>1</td>\n",
       "      <td>1</td>\n",
       "      <td>...</td>\n",
       "      <td>4</td>\n",
       "      <td>5</td>\n",
       "      <td>5</td>\n",
       "      <td>1</td>\n",
       "      <td>5</td>\n",
       "      <td>1</td>\n",
       "      <td>5</td>\n",
       "      <td>5</td>\n",
       "      <td>5</td>\n",
       "      <td>5</td>\n",
       "    </tr>\n",
       "    <tr>\n",
       "      <th>3</th>\n",
       "      <td>3</td>\n",
       "      <td>19</td>\n",
       "      <td>2</td>\n",
       "      <td>2</td>\n",
       "      <td>1</td>\n",
       "      <td>1</td>\n",
       "      <td>RO</td>\n",
       "      <td>2</td>\n",
       "      <td>5</td>\n",
       "      <td>2</td>\n",
       "      <td>...</td>\n",
       "      <td>4</td>\n",
       "      <td>3</td>\n",
       "      <td>5</td>\n",
       "      <td>2</td>\n",
       "      <td>4</td>\n",
       "      <td>2</td>\n",
       "      <td>5</td>\n",
       "      <td>2</td>\n",
       "      <td>5</td>\n",
       "      <td>5</td>\n",
       "    </tr>\n",
       "    <tr>\n",
       "      <th>10</th>\n",
       "      <td>3</td>\n",
       "      <td>17</td>\n",
       "      <td>2</td>\n",
       "      <td>2</td>\n",
       "      <td>1</td>\n",
       "      <td>1</td>\n",
       "      <td>IT</td>\n",
       "      <td>1</td>\n",
       "      <td>5</td>\n",
       "      <td>2</td>\n",
       "      <td>...</td>\n",
       "      <td>5</td>\n",
       "      <td>3</td>\n",
       "      <td>5</td>\n",
       "      <td>3</td>\n",
       "      <td>4</td>\n",
       "      <td>1</td>\n",
       "      <td>3</td>\n",
       "      <td>5</td>\n",
       "      <td>4</td>\n",
       "      <td>5</td>\n",
       "    </tr>\n",
       "  </tbody>\n",
       "</table>\n",
       "<p>5 rows × 57 columns</p>\n",
       "</div>"
      ],
      "text/plain": [
       "    race  age  engnat  gender  hand  source country  E1  E2  E3 ...   O1  O2  \\\n",
       "0      3   53       1       1     1       1      US   4   2   5 ...    4   1   \n",
       "1     13   46       1       2     1       1      US   2   2   3 ...    3   3   \n",
       "2      1   14       2       2     1       1      PK   5   1   1 ...    4   5   \n",
       "3      3   19       2       2     1       1      RO   2   5   2 ...    4   3   \n",
       "10     3   17       2       2     1       1      IT   1   5   2 ...    5   3   \n",
       "\n",
       "    O3  O4  O5  O6  O7  O8  O9  O10  \n",
       "0    3   1   5   1   4   2   5    5  \n",
       "1    3   3   2   3   3   1   3    2  \n",
       "2    5   1   5   1   5   5   5    5  \n",
       "3    5   2   4   2   5   2   5    5  \n",
       "10   5   3   4   1   3   5   4    5  \n",
       "\n",
       "[5 rows x 57 columns]"
      ]
     },
     "execution_count": 284,
     "metadata": {},
     "output_type": "execute_result"
    }
   ],
   "source": [
    "data = pandas.read_csv('BIG5/data.csv',sep='\\t')\n",
    "data = data[data['source']==1]\n",
    "data.head()"
   ]
  },
  {
   "cell_type": "code",
   "execution_count": 285,
   "metadata": {},
   "outputs": [
    {
     "data": {
      "text/plain": [
       "(12099, 57)"
      ]
     },
     "execution_count": 285,
     "metadata": {},
     "output_type": "execute_result"
    }
   ],
   "source": [
    "data.shape"
   ]
  },
  {
   "cell_type": "markdown",
   "metadata": {},
   "source": [
    "http://scikit-learn.org/stable/modules/preprocessing.html"
   ]
  },
  {
   "cell_type": "code",
   "execution_count": 310,
   "metadata": {
    "scrolled": true
   },
   "outputs": [],
   "source": [
    "from sklearn.preprocessing import Normalizer\n",
    "\n",
    "\n",
    "scores = data.loc[:,'E1':'O10']\n",
    "\n",
    "#scaler = Normalizer()\n",
    "#scores = scaler.fit_transform(scores)"
   ]
  },
  {
   "cell_type": "code",
   "execution_count": 311,
   "metadata": {},
   "outputs": [
    {
     "data": {
      "text/plain": [
       "<matplotlib.colorbar.Colorbar at 0x7f8d619470b8>"
      ]
     },
     "execution_count": 311,
     "metadata": {},
     "output_type": "execute_result"
    },
    {
     "data": {
      "image/png": "[encoded data removed]",
      "text/plain": [
       "<matplotlib.figure.Figure at 0x7f8d6189f8d0>"
      ]
     },
     "metadata": {},
     "output_type": "display_data"
    }
   ],
   "source": [
    "correlations = numpy.corrcoef(scores,rowvar=False)\n",
    "pyplot.matshow(correlations)\n",
    "pyplot.colorbar()"
   ]
  },
  {
   "cell_type": "markdown",
   "metadata": {},
   "source": [
    "http://scikit-learn.org/stable/modules/preprocessing.html"
   ]
  },
  {
   "cell_type": "code",
   "execution_count": 312,
   "metadata": {},
   "outputs": [
    {
     "name": "stdout",
     "output_type": "stream",
     "text": [
      "(5, 50)\n"
     ]
    },
    {
     "data": {
      "text/plain": [
       "<Container object of 50 artists>"
      ]
     },
     "execution_count": 312,
     "metadata": {},
     "output_type": "execute_result"
    },
    {
     "data": {
      "image/png": "[encoded data removed]",
      "text/plain": [
       "<matplotlib.figure.Figure at 0x7f8d614cd0f0>"
      ]
     },
     "metadata": {},
     "output_type": "display_data"
    }
   ],
   "source": [
    "pca = PCA(n_components=5)\n",
    "pca.fit_transform(scores)\n",
    "loadings = numpy.abs(pca.components_)\n",
    "print(loadings.shape)\n",
    "component =  0\n",
    "x_values = range(0,scores.shape[1])\n",
    "pyplot.bar(x_values,loadings[component,:])\n",
    "#pyplot.xticks(x_values, scores.columns, rotation=90);"
   ]
  },
  {
   "cell_type": "code",
   "execution_count": 216,
   "metadata": {},
   "outputs": [
    {
     "data": {
      "text/plain": [
       "50"
      ]
     },
     "execution_count": 216,
     "metadata": {},
     "output_type": "execute_result"
    }
   ],
   "source": [
    "n_vars"
   ]
  },
  {
   "cell_type": "code",
   "execution_count": 231,
   "metadata": {},
   "outputs": [
    {
     "data": {
      "text/html": [
       "<div>\n",
       "<style scoped>\n",
       "    .dataframe tbody tr th:only-of-type {\n",
       "        vertical-align: middle;\n",
       "    }\n",
       "\n",
       "    .dataframe tbody tr th {\n",
       "        vertical-align: top;\n",
       "    }\n",
       "\n",
       "    .dataframe thead th {\n",
       "        text-align: right;\n",
       "    }\n",
       "</style>\n",
       "<table border=\"1\" class=\"dataframe\">\n",
       "  <thead>\n",
       "    <tr style=\"text-align: right;\">\n",
       "      <th></th>\n",
       "      <th>A1</th>\n",
       "      <th>A2</th>\n",
       "      <th>A3</th>\n",
       "      <th>A4</th>\n",
       "      <th>A5</th>\n",
       "      <th>A6</th>\n",
       "      <th>A7</th>\n",
       "      <th>A8</th>\n",
       "      <th>A9</th>\n",
       "      <th>A10</th>\n",
       "      <th>...</th>\n",
       "      <th>P7</th>\n",
       "      <th>P8</th>\n",
       "      <th>P9</th>\n",
       "      <th>P10</th>\n",
       "      <th>age</th>\n",
       "      <th>gender</th>\n",
       "      <th>accuracy</th>\n",
       "      <th>country</th>\n",
       "      <th>source</th>\n",
       "      <th>elapsed</th>\n",
       "    </tr>\n",
       "  </thead>\n",
       "  <tbody>\n",
       "    <tr>\n",
       "      <th>0</th>\n",
       "      <td>1</td>\n",
       "      <td>4</td>\n",
       "      <td>2</td>\n",
       "      <td>3</td>\n",
       "      <td>3</td>\n",
       "      <td>2</td>\n",
       "      <td>3</td>\n",
       "      <td>4</td>\n",
       "      <td>4</td>\n",
       "      <td>3</td>\n",
       "      <td>...</td>\n",
       "      <td>1</td>\n",
       "      <td>2</td>\n",
       "      <td>5</td>\n",
       "      <td>2</td>\n",
       "      <td>17</td>\n",
       "      <td>1</td>\n",
       "      <td>92</td>\n",
       "      <td>US</td>\n",
       "      <td>6</td>\n",
       "      <td>914</td>\n",
       "    </tr>\n",
       "    <tr>\n",
       "      <th>1</th>\n",
       "      <td>4</td>\n",
       "      <td>3</td>\n",
       "      <td>4</td>\n",
       "      <td>3</td>\n",
       "      <td>4</td>\n",
       "      <td>4</td>\n",
       "      <td>4</td>\n",
       "      <td>4</td>\n",
       "      <td>2</td>\n",
       "      <td>2</td>\n",
       "      <td>...</td>\n",
       "      <td>3</td>\n",
       "      <td>2</td>\n",
       "      <td>2</td>\n",
       "      <td>2</td>\n",
       "      <td>37</td>\n",
       "      <td>1</td>\n",
       "      <td>100</td>\n",
       "      <td>US</td>\n",
       "      <td>1</td>\n",
       "      <td>891</td>\n",
       "    </tr>\n",
       "    <tr>\n",
       "      <th>2</th>\n",
       "      <td>3</td>\n",
       "      <td>4</td>\n",
       "      <td>4</td>\n",
       "      <td>4</td>\n",
       "      <td>4</td>\n",
       "      <td>4</td>\n",
       "      <td>4</td>\n",
       "      <td>3</td>\n",
       "      <td>2</td>\n",
       "      <td>2</td>\n",
       "      <td>...</td>\n",
       "      <td>2</td>\n",
       "      <td>3</td>\n",
       "      <td>3</td>\n",
       "      <td>3</td>\n",
       "      <td>31</td>\n",
       "      <td>1</td>\n",
       "      <td>80</td>\n",
       "      <td>US</td>\n",
       "      <td>6</td>\n",
       "      <td>903</td>\n",
       "    </tr>\n",
       "    <tr>\n",
       "      <th>3</th>\n",
       "      <td>4</td>\n",
       "      <td>5</td>\n",
       "      <td>4</td>\n",
       "      <td>4</td>\n",
       "      <td>4</td>\n",
       "      <td>3</td>\n",
       "      <td>3</td>\n",
       "      <td>2</td>\n",
       "      <td>2</td>\n",
       "      <td>2</td>\n",
       "      <td>...</td>\n",
       "      <td>2</td>\n",
       "      <td>3</td>\n",
       "      <td>4</td>\n",
       "      <td>4</td>\n",
       "      <td>32</td>\n",
       "      <td>1</td>\n",
       "      <td>93</td>\n",
       "      <td>US</td>\n",
       "      <td>1</td>\n",
       "      <td>806</td>\n",
       "    </tr>\n",
       "    <tr>\n",
       "      <th>4</th>\n",
       "      <td>4</td>\n",
       "      <td>0</td>\n",
       "      <td>4</td>\n",
       "      <td>4</td>\n",
       "      <td>4</td>\n",
       "      <td>3</td>\n",
       "      <td>5</td>\n",
       "      <td>1</td>\n",
       "      <td>2</td>\n",
       "      <td>4</td>\n",
       "      <td>...</td>\n",
       "      <td>4</td>\n",
       "      <td>2</td>\n",
       "      <td>3</td>\n",
       "      <td>2</td>\n",
       "      <td>46</td>\n",
       "      <td>2</td>\n",
       "      <td>87</td>\n",
       "      <td>NZ</td>\n",
       "      <td>1</td>\n",
       "      <td>1826</td>\n",
       "    </tr>\n",
       "  </tbody>\n",
       "</table>\n",
       "<p>5 rows × 169 columns</p>\n",
       "</div>"
      ],
      "text/plain": [
       "   A1  A2  A3  A4  A5  A6  A7  A8  A9  A10   ...     P7  P8  P9  P10  age  \\\n",
       "0   1   4   2   3   3   2   3   4   4    3   ...      1   2   5    2   17   \n",
       "1   4   3   4   3   4   4   4   4   2    2   ...      3   2   2    2   37   \n",
       "2   3   4   4   4   4   4   4   3   2    2   ...      2   3   3    3   31   \n",
       "3   4   5   4   4   4   3   3   2   2    2   ...      2   3   4    4   32   \n",
       "4   4   0   4   4   4   3   5   1   2    4   ...      4   2   3    2   46   \n",
       "\n",
       "   gender  accuracy  country  source  elapsed  \n",
       "0       1        92       US       6      914  \n",
       "1       1       100       US       1      891  \n",
       "2       1        80       US       6      903  \n",
       "3       1        93       US       1      806  \n",
       "4       2        87       NZ       1     1826  \n",
       "\n",
       "[5 rows x 169 columns]"
      ]
     },
     "execution_count": 231,
     "metadata": {},
     "output_type": "execute_result"
    }
   ],
   "source": [
    "data = pandas.read_csv('16PF/data.csv',sep='\\t')\n",
    "data.head()"
   ]
  },
  {
   "cell_type": "code",
   "execution_count": 241,
   "metadata": {},
   "outputs": [
    {
     "data": {
      "image/png": "[encoded data removed]",
      "text/plain": [
       "<matplotlib.figure.Figure at 0x7f8d67049b70>"
      ]
     },
     "metadata": {},
     "output_type": "display_data"
    }
   ],
   "source": [
    "scores = data.loc[:, 'A1':'P10']\n",
    "pca = PCA(n_components=5)\n",
    "transformed = pca.fit_transform(scores)\n",
    "explained = pca.explained_variance_ratio_\n",
    "pyplot.plot(explained, 's-');"
   ]
  },
  {
   "cell_type": "code",
   "execution_count": 242,
   "metadata": {},
   "outputs": [
    {
     "name": "stdout",
     "output_type": "stream",
     "text": [
      "(5, 163)\n"
     ]
    },
    {
     "data": {
      "text/plain": [
       "<Container object of 163 artists>"
      ]
     },
     "execution_count": 242,
     "metadata": {},
     "output_type": "execute_result"
    },
    {
     "data": {
      "image/png": "[encoded data removed]",
      "text/plain": [
       "<matplotlib.figure.Figure at 0x7f8d676605c0>"
      ]
     },
     "metadata": {},
     "output_type": "display_data"
    }
   ],
   "source": [
    "loadings = pca.components_\n",
    "print(loadings.shape)\n",
    "component = 0\n",
    "x_values = range(0,scores.shape[1])\n",
    "pyplot.bar(x_values,loadings[component,:])"
   ]
  },
  {
   "cell_type": "code",
   "execution_count": 243,
   "metadata": {},
   "outputs": [
    {
     "data": {
      "text/plain": [
       "array([[ 4.74432046, -3.20754963,  5.07154974, -3.35076349,  0.63049736],\n",
       "       [ 3.90207448,  0.38556159,  2.3611641 , -1.8474768 , -1.45303506],\n",
       "       [ 3.89341349,  1.25116888,  3.57119468,  1.74698879, -1.9033613 ],\n",
       "       ...,\n",
       "       [ 0.62267567,  0.64412025, -1.80325767,  4.10193181, -0.64600808],\n",
       "       [-5.19922939, -0.23337767,  6.20007383, -4.23601152,  2.55706368],\n",
       "       [-9.6591951 , -1.78368931, -0.25271009,  0.09506674, -2.94619123]])"
      ]
     },
     "execution_count": 243,
     "metadata": {},
     "output_type": "execute_result"
    }
   ],
   "source": [
    "transformed"
   ]
  },
  {
   "cell_type": "code",
   "execution_count": null,
   "metadata": {},
   "outputs": [],
   "source": []
  }
 ],
 "metadata": {
  "kernelspec": {
   "display_name": "Python 3",
   "language": "python",
   "name": "python3"
  },
  "language_info": {
   "codemirror_mode": {
    "name": "ipython",
    "version": 3
   },
   "file_extension": ".py",
   "mimetype": "text/x-python",
   "name": "python",
   "nbconvert_exporter": "python",
   "pygments_lexer": "ipython3",
   "version": "3.6.4"
  }
 },
 "nbformat": 4,
 "nbformat_minor": 2
}
