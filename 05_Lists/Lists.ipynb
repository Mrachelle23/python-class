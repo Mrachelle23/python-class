{
 "cells": [
  {
   "cell_type": "markdown",
   "metadata": {
    "toc": true
   },
   "source": [
    "<h1>Table of Contents<span class=\"tocSkip\"></span></h1>\n",
    "<div class=\"toc\"><ul class=\"toc-item\"><li><span><a href=\"#Lists-of-lists-(of-lists)\" data-toc-modified-id=\"Lists-of-lists-(of-lists)-1\"><span class=\"toc-item-num\">1&nbsp;&nbsp;</span>Lists of lists (of lists)</a></span></li><li><span><a href=\"#Slicing-&amp;-indexing\" data-toc-modified-id=\"Slicing-&amp;-indexing-2\"><span class=\"toc-item-num\">2&nbsp;&nbsp;</span>Slicing &amp; indexing</a></span></li><li><span><a href=\"#Making-a-list-of-sequential-integers\" data-toc-modified-id=\"Making-a-list-of-sequential-integers-3\"><span class=\"toc-item-num\">3&nbsp;&nbsp;</span>Making a list of sequential integers</a></span></li><li><span><a href=\"#The-Random-module-and-lists\" data-toc-modified-id=\"The-Random-module-and-lists-4\"><span class=\"toc-item-num\">4&nbsp;&nbsp;</span>The Random module and lists</a></span></li><li><span><a href=\"#Check-whether-a-lists-contains-an-item\" data-toc-modified-id=\"Check-whether-a-lists-contains-an-item-5\"><span class=\"toc-item-num\">5&nbsp;&nbsp;</span>Check whether a lists contains an item</a></span></li><li><span><a href=\"#List-methods\" data-toc-modified-id=\"List-methods-6\"><span class=\"toc-item-num\">6&nbsp;&nbsp;</span>List methods</a></span><ul class=\"toc-item\"><li><span><a href=\"#Extending-a-list\" data-toc-modified-id=\"Extending-a-list-6.1\"><span class=\"toc-item-num\">6.1&nbsp;&nbsp;</span>Extending a list</a></span></li><li><span><a href=\"#Counting-items\" data-toc-modified-id=\"Counting-items-6.2\"><span class=\"toc-item-num\">6.2&nbsp;&nbsp;</span>Counting items</a></span></li><li><span><a href=\"#Removing-items\" data-toc-modified-id=\"Removing-items-6.3\"><span class=\"toc-item-num\">6.3&nbsp;&nbsp;</span>Removing items</a></span></li><li><span><a href=\"#Reversing-the-list\" data-toc-modified-id=\"Reversing-the-list-6.4\"><span class=\"toc-item-num\">6.4&nbsp;&nbsp;</span>Reversing the list</a></span></li><li><span><a href=\"#List-to-string\" data-toc-modified-id=\"List-to-string-6.5\"><span class=\"toc-item-num\">6.5&nbsp;&nbsp;</span>List to string</a></span></li><li><span><a href=\"#Copying-lists\" data-toc-modified-id=\"Copying-lists-6.6\"><span class=\"toc-item-num\">6.6&nbsp;&nbsp;</span>Copying lists</a></span></li></ul></li></ul></div>"
   ]
  },
  {
   "cell_type": "markdown",
   "metadata": {},
   "source": [
    "# Lists\n",
    "\n",
    "The Python list object is the most general sequence provided by the language. Lists are positionally ordered collections of **arbitrarily typed objects**, and they have no fixed size."
   ]
  },
  {
   "cell_type": "code",
   "execution_count": 1,
   "metadata": {},
   "outputs": [
    {
     "name": "stdout",
     "output_type": "stream",
     "text": [
      "[1, 2, 3]\n",
      "[3.141592653589793, '12345', 123, 3.141592653589793, 3.141592653589793]\n",
      "5\n"
     ]
    }
   ],
   "source": [
    "import math\n",
    "a = math.pi\n",
    "my_list = [1,2,3]\n",
    "print(my_list)\n",
    "my_list = [a, '12345', 123, a, a]\n",
    "print(my_list)\n",
    "print(len(my_list))"
   ]
  },
  {
   "cell_type": "markdown",
   "metadata": {},
   "source": [
    "## Lists of lists (of lists)"
   ]
  },
  {
   "cell_type": "code",
   "execution_count": 2,
   "metadata": {},
   "outputs": [
    {
     "data": {
      "text/plain": [
       "[[1, 2, 3],\n",
       " [3.141592653589793, '12345', 123, 3.141592653589793, 3.141592653589793],\n",
       " [[3.141592653589793, '12345', 123, 3.141592653589793, 3.141592653589793],\n",
       "  [1, 2, 3]]]"
      ]
     },
     "execution_count": 2,
     "metadata": {},
     "output_type": "execute_result"
    }
   ],
   "source": [
    "lst = [1,2,3]\n",
    "[lst, my_list, [my_list, lst]]"
   ]
  },
  {
   "cell_type": "markdown",
   "metadata": {},
   "source": [
    "## Slicing & indexing\n",
    "\n",
    "Because they are sequences, lists support all the sequence operations we discussed for strings; the only difference is that the results are usually lists instead of strings."
   ]
  },
  {
   "cell_type": "code",
   "execution_count": 3,
   "metadata": {},
   "outputs": [
    {
     "name": "stdout",
     "output_type": "stream",
     "text": [
      "3.141592653589793\n",
      "[3.141592653589793, '12345', 123, 3.141592653589793]\n",
      "[3.141592653589793, '12345', 123, 3.141592653589793, 3.141592653589793, 4, 5, 6]\n",
      "[1, 2, 3, 1, 2, 3]\n"
     ]
    }
   ],
   "source": [
    "print(my_list[0])  # Indexing by position\n",
    "print(my_list[:-1]) # Slicing a list returns a new list\n",
    "print(my_list + [4, 5, 6]) # Concat/repeat make new lists too\n",
    "print([1,2,3] * 2)"
   ]
  },
  {
   "cell_type": "code",
   "execution_count": 4,
   "metadata": {},
   "outputs": [
    {
     "name": "stdout",
     "output_type": "stream",
     "text": [
      "[99, 199, '12345', 123, 3.141592653589793, 3.141592653589793]\n"
     ]
    }
   ],
   "source": [
    "my_list[0:1] = [99, 199]\n",
    "print(my_list)"
   ]
  },
  {
   "cell_type": "markdown",
   "metadata": {},
   "source": [
    "## Making a list of sequential integers"
   ]
  },
  {
   "cell_type": "code",
   "execution_count": 1,
   "metadata": {},
   "outputs": [
    {
     "data": {
      "text/plain": [
       "[0, 1, 2, 3, 4]"
      ]
     },
     "execution_count": 1,
     "metadata": {},
     "output_type": "execute_result"
    }
   ],
   "source": [
    "a = range(5)\n",
    "list(a)"
   ]
  },
  {
   "cell_type": "code",
   "execution_count": 2,
   "metadata": {},
   "outputs": [
    {
     "data": {
      "text/plain": [
       "[7, 8, 9]"
      ]
     },
     "execution_count": 2,
     "metadata": {},
     "output_type": "execute_result"
    }
   ],
   "source": [
    "a = range(7,10)\n",
    "a = list(a)\n",
    "a"
   ]
  },
  {
   "cell_type": "code",
   "execution_count": 3,
   "metadata": {},
   "outputs": [
    {
     "data": {
      "text/plain": [
       "[6, 7, 8, 9, 10, 11]"
      ]
     },
     "execution_count": 3,
     "metadata": {},
     "output_type": "execute_result"
    }
   ],
   "source": [
    "a = range(6,12)\n",
    "a = list(a)\n",
    "a"
   ]
  },
  {
   "cell_type": "markdown",
   "metadata": {},
   "source": [
    "## The Random module and lists"
   ]
  },
  {
   "cell_type": "code",
   "execution_count": 7,
   "metadata": {},
   "outputs": [],
   "source": [
    "import random"
   ]
  },
  {
   "cell_type": "code",
   "execution_count": 8,
   "metadata": {},
   "outputs": [
    {
     "name": "stdout",
     "output_type": "stream",
     "text": [
      "[7, 4, 6, 0, 9, 2, 3, 8, 5, 1]\n"
     ]
    }
   ],
   "source": [
    "my_list = list(range(0,10))\n",
    "random.shuffle(my_list)\n",
    "print(my_list)"
   ]
  },
  {
   "cell_type": "code",
   "execution_count": 9,
   "metadata": {},
   "outputs": [
    {
     "name": "stdout",
     "output_type": "stream",
     "text": [
      "8\n"
     ]
    }
   ],
   "source": [
    "my_list = list(range(0,10))\n",
    "c = random.choice(my_list)\n",
    "print(c)"
   ]
  },
  {
   "cell_type": "code",
   "execution_count": 10,
   "metadata": {},
   "outputs": [
    {
     "name": "stdout",
     "output_type": "stream",
     "text": [
      "[5, 7, 2]\n"
     ]
    }
   ],
   "source": [
    "my_list = list(range(0,10))\n",
    "c = random.sample(my_list,3)\n",
    "print(c)"
   ]
  },
  {
   "cell_type": "markdown",
   "metadata": {},
   "source": [
    "## Check whether a lists contains an item"
   ]
  },
  {
   "cell_type": "code",
   "execution_count": 11,
   "metadata": {},
   "outputs": [
    {
     "name": "stdout",
     "output_type": "stream",
     "text": [
      "True\n",
      "False\n"
     ]
    }
   ],
   "source": [
    "a = ['s','p','a','m']\n",
    "print('p' in a)\n",
    "print('t' in a)"
   ]
  },
  {
   "cell_type": "markdown",
   "metadata": {},
   "source": [
    "## List methods\n",
    "\n",
    "Just as strings, strings come with a number of functions that allow manipulating them. Here, I demonstrate a few of them:"
   ]
  },
  {
   "cell_type": "markdown",
   "metadata": {},
   "source": [
    "### Extending a list"
   ]
  },
  {
   "cell_type": "code",
   "execution_count": 12,
   "metadata": {},
   "outputs": [
    {
     "name": "stdout",
     "output_type": "stream",
     "text": [
      "[0, 1, 2, 3, 4, 5, 6, 7, 8, 9, 'add this']\n"
     ]
    }
   ],
   "source": [
    "my_list.append('add this') #Add an item to the end of the list\n",
    "print(my_list)"
   ]
  },
  {
   "cell_type": "code",
   "execution_count": 13,
   "metadata": {},
   "outputs": [
    {
     "data": {
      "text/plain": [
       "[0, 1, 2, 3, 4, 5, 6, 7, 8, 9, 'add this', 1, 2, 3]"
      ]
     },
     "execution_count": 13,
     "metadata": {},
     "output_type": "execute_result"
    }
   ],
   "source": [
    "my_list + [1,2,3] # Concatenate lists"
   ]
  },
  {
   "cell_type": "code",
   "execution_count": 14,
   "metadata": {},
   "outputs": [
    {
     "name": "stdout",
     "output_type": "stream",
     "text": [
      "[1, 2, 3, 4]\n"
     ]
    }
   ],
   "source": [
    "b = [1,2,4]\n",
    "b.insert(2,3) # Insert an item at a specific location\n",
    "print(b)"
   ]
  },
  {
   "cell_type": "markdown",
   "metadata": {},
   "source": [
    "### Counting items"
   ]
  },
  {
   "cell_type": "code",
   "execution_count": 15,
   "metadata": {},
   "outputs": [
    {
     "name": "stdout",
     "output_type": "stream",
     "text": [
      "[0, 1, 2, 3, 4, 5, 6, 7, 8, 9, 'add this']\n",
      "1\n"
     ]
    }
   ],
   "source": [
    "print(my_list)\n",
    "print(my_list.count('add this')) #Returns count of how many times obj occurs in list"
   ]
  },
  {
   "cell_type": "code",
   "execution_count": 16,
   "metadata": {},
   "outputs": [
    {
     "data": {
      "text/plain": [
       "2"
      ]
     },
     "execution_count": 16,
     "metadata": {},
     "output_type": "execute_result"
    }
   ],
   "source": [
    "my_list.index(2) #Returns the lowest index in list that obj appears"
   ]
  },
  {
   "cell_type": "markdown",
   "metadata": {},
   "source": [
    "### Removing items"
   ]
  },
  {
   "cell_type": "code",
   "execution_count": 17,
   "metadata": {},
   "outputs": [
    {
     "name": "stdout",
     "output_type": "stream",
     "text": [
      "3\n",
      "[0, 1, 2, 4, 5, 6, 7, 8, 9, 'add this']\n"
     ]
    }
   ],
   "source": [
    "#Items can be removed by index\n",
    "removed_item = my_list.pop(3)\n",
    "print(removed_item)\n",
    "print(my_list)"
   ]
  },
  {
   "cell_type": "code",
   "execution_count": 18,
   "metadata": {},
   "outputs": [
    {
     "name": "stdout",
     "output_type": "stream",
     "text": [
      "[0, 1, 2, 4, 5, 6, 7, 8, 'add this']\n"
     ]
    }
   ],
   "source": [
    "my_list.remove(9)\n",
    "print(my_list)"
   ]
  },
  {
   "cell_type": "markdown",
   "metadata": {},
   "source": [
    "### Reversing the list"
   ]
  },
  {
   "cell_type": "code",
   "execution_count": 19,
   "metadata": {},
   "outputs": [
    {
     "name": "stdout",
     "output_type": "stream",
     "text": [
      "['add this', 8, 7, 6, 5, 4, 2, 1, 0]\n"
     ]
    }
   ],
   "source": [
    "my_list.reverse() #Flip the list\n",
    "print(my_list)"
   ]
  },
  {
   "cell_type": "markdown",
   "metadata": {},
   "source": [
    "### List to string\n",
    "\n",
    "*join()* is a string method, **not** a list method. You can’t say **a.join(', ')**, even though it seems more intuitive. The argument to *join()* is a string or any iterable sequence of strings (including a list), and its output is a string."
   ]
  },
  {
   "cell_type": "code",
   "execution_count": 20,
   "metadata": {},
   "outputs": [
    {
     "data": {
      "text/plain": [
       "'s_p_a_m'"
      ]
     },
     "execution_count": 20,
     "metadata": {},
     "output_type": "execute_result"
    }
   ],
   "source": [
    "'_'.join(a)"
   ]
  },
  {
   "cell_type": "markdown",
   "metadata": {},
   "source": [
    "### Copying lists\n",
    "\n",
    "When you copy a list, you want to use the explicit `copy()` method."
   ]
  },
  {
   "cell_type": "code",
   "execution_count": 21,
   "metadata": {},
   "outputs": [
    {
     "name": "stdout",
     "output_type": "stream",
     "text": [
      "[1, 2, 3]\n",
      "[1, 2, 3]\n"
     ]
    }
   ],
   "source": [
    "a = [1,2,3]\n",
    "b = a.copy()\n",
    "print(a)\n",
    "print(b)"
   ]
  },
  {
   "cell_type": "markdown",
   "metadata": {},
   "source": [
    "Don't use this - I'll explain why in a minute"
   ]
  },
  {
   "cell_type": "code",
   "execution_count": 22,
   "metadata": {},
   "outputs": [
    {
     "name": "stdout",
     "output_type": "stream",
     "text": [
      "[1, 2, 3]\n",
      "[1, 2, 3]\n",
      "['1000', 2, 3]\n",
      "['1000', 2, 3]\n"
     ]
    }
   ],
   "source": [
    "b = a\n",
    "print(a)\n",
    "print(b)\n",
    "b[0] = '1000'\n",
    "print(b)\n",
    "print(a)"
   ]
  },
  {
   "cell_type": "markdown",
   "metadata": {},
   "source": [
    "# Excersises\n",
    "\n",
    "+ Make a list containing (1) your name, (2) the number 3 and (3) the value of $\\pi$ (using the math module).\n",
    "+ Append the boolean value True to the end of the list.\n",
    "+ Append the boolean value False to the beginning of the list.\n",
    "+ Create a list containing the numbers 1000 to 2500.\n",
    "+ Remove the number 1234 from the list.\n",
    "+ Remove the 1000th entry from the list, and print it.\n",
    "+ Randomize the order of the numbers in the list.\n",
    "+ Make a new list containing the first 10 entries in the randomized list.\n",
    "+ Use the *in* keyword to check whether the value 1000 is in the new list.\n",
    "+ Replace the third value in the list by the string 'some string'.\n",
    "+ More: http://www.w3resource.com/python-exercises/list/"
   ]
  }
 ],
 "metadata": {
  "anaconda-cloud": {},
  "kernelspec": {
   "display_name": "Python 3",
   "language": "python",
   "name": "python3"
  },
  "language_info": {
   "codemirror_mode": {
    "name": "ipython",
    "version": 3
   },
   "file_extension": ".py",
   "mimetype": "text/x-python",
   "name": "python",
   "nbconvert_exporter": "python",
   "pygments_lexer": "ipython3",
   "version": "3.6.4"
  },
  "nav_menu": {},
  "toc": {
   "base_numbering": 1,
   "nav_menu": {
    "height": "261px",
    "width": "252px"
   },
   "number_sections": true,
   "sideBar": true,
   "skip_h1_title": true,
   "title_cell": "Table of Contents",
   "title_sidebar": "Contents",
   "toc_cell": true,
   "toc_position": {
    "height": "293px",
    "left": "2px",
    "right": "20px",
    "top": "104px",
    "width": "212px"
   },
   "toc_section_display": true,
   "toc_window_display": true
  },
  "toc_position": {
   "height": "846px",
   "left": "0px",
   "right": "1708px",
   "top": "107px",
   "width": "212px"
  }
 },
 "nbformat": 4,
 "nbformat_minor": 1
}
