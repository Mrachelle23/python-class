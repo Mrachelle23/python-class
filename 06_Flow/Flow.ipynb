{
 "cells": [
  {
   "cell_type": "markdown",
   "metadata": {
    "toc": true
   },
   "source": [
    "<h1>Table of Contents<span class=\"tocSkip\"></span></h1>\n",
    "<div class=\"toc\"><ul class=\"toc-item\"><li><span><a href=\"#if-statement\" data-toc-modified-id=\"if-statement-1\"><span class=\"toc-item-num\">1&nbsp;&nbsp;</span>if statement</a></span></li><li><span><a href=\"#if...else\" data-toc-modified-id=\"if...else-2\"><span class=\"toc-item-num\">2&nbsp;&nbsp;</span>if...else</a></span></li><li><span><a href=\"#While-statement\" data-toc-modified-id=\"While-statement-3\"><span class=\"toc-item-num\">3&nbsp;&nbsp;</span>While statement</a></span><ul class=\"toc-item\"><li><span><a href=\"#Exercise\" data-toc-modified-id=\"Exercise-3.1\"><span class=\"toc-item-num\">3.1&nbsp;&nbsp;</span>Exercise</a></span></li></ul></li><li><span><a href=\"#For-statement\" data-toc-modified-id=\"For-statement-4\"><span class=\"toc-item-num\">4&nbsp;&nbsp;</span>For statement</a></span><ul class=\"toc-item\"><li><span><a href=\"#Exercise\" data-toc-modified-id=\"Exercise-4.1\"><span class=\"toc-item-num\">4.1&nbsp;&nbsp;</span>Exercise</a></span></li><li><span><a href=\"#Exercise\" data-toc-modified-id=\"Exercise-4.2\"><span class=\"toc-item-num\">4.2&nbsp;&nbsp;</span>Exercise</a></span></li><li><span><a href=\"#Exercise\" data-toc-modified-id=\"Exercise-4.3\"><span class=\"toc-item-num\">4.3&nbsp;&nbsp;</span>Exercise</a></span></li></ul></li><li><span><a href=\"#The-break-statement\" data-toc-modified-id=\"The-break-statement-5\"><span class=\"toc-item-num\">5&nbsp;&nbsp;</span>The break statement</a></span></li><li><span><a href=\"#Excersises\" data-toc-modified-id=\"Excersises-6\"><span class=\"toc-item-num\">6&nbsp;&nbsp;</span>Excersises</a></span><ul class=\"toc-item\"><li><span><a href=\"#Warm-up\" data-toc-modified-id=\"Warm-up-6.1\"><span class=\"toc-item-num\">6.1&nbsp;&nbsp;</span>Warm-up</a></span></li><li><span><a href=\"#Roman-numbers\" data-toc-modified-id=\"Roman-numbers-6.2\"><span class=\"toc-item-num\">6.2&nbsp;&nbsp;</span>Roman numbers</a></span></li><li><span><a href=\"#Cypher-text\" data-toc-modified-id=\"Cypher-text-6.3\"><span class=\"toc-item-num\">6.3&nbsp;&nbsp;</span>Cypher text</a></span><ul class=\"toc-item\"><li><span><a href=\"#Encoding\" data-toc-modified-id=\"Encoding-6.3.1\"><span class=\"toc-item-num\">6.3.1&nbsp;&nbsp;</span>Encoding</a></span></li><li><span><a href=\"#Decoding\" data-toc-modified-id=\"Decoding-6.3.2\"><span class=\"toc-item-num\">6.3.2&nbsp;&nbsp;</span>Decoding</a></span></li><li><span><a href=\"#More-cyphers\" data-toc-modified-id=\"More-cyphers-6.3.3\"><span class=\"toc-item-num\">6.3.3&nbsp;&nbsp;</span>More cyphers</a></span></li></ul></li><li><span><a href=\"#Text-processing\" data-toc-modified-id=\"Text-processing-6.4\"><span class=\"toc-item-num\">6.4&nbsp;&nbsp;</span>Text processing</a></span></li><li><span><a href=\"#The-Luhn-algorithm\" data-toc-modified-id=\"The-Luhn-algorithm-6.5\"><span class=\"toc-item-num\">6.5&nbsp;&nbsp;</span>The Luhn algorithm</a></span></li></ul></li></ul></div>"
   ]
  },
  {
   "cell_type": "markdown",
   "metadata": {},
   "source": [
    "# Flow\n",
    "\n",
    "## if statement"
   ]
  },
  {
   "cell_type": "code",
   "execution_count": 1,
   "metadata": {},
   "outputs": [
    {
     "name": "stdout",
     "output_type": "stream",
     "text": [
      "larger\n"
     ]
    }
   ],
   "source": [
    "if 2>1:\n",
    "    print('larger')"
   ]
  },
  {
   "cell_type": "code",
   "execution_count": 2,
   "metadata": {},
   "outputs": [
    {
     "name": "stdout",
     "output_type": "stream",
     "text": [
      "this is not relevant\n",
      "that is also right\n"
     ]
    }
   ],
   "source": [
    "my_variable = 4\n",
    "if my_variable > 2:\n",
    "    print('this is not relevant')\n",
    "    if 10 == 10:\n",
    "        print('that is also right')"
   ]
  },
  {
   "cell_type": "markdown",
   "metadata": {},
   "source": [
    "Exercise\n",
    "\n",
    "If it's the weekend and the termparture is higher 90 degrees than Ernie likes to go outside. If it's colder than 90 degrees, he stays in bed. During the week, Ernie goes to work. Complete the script below to print out what Ernies activity for the day will be."
   ]
  },
  {
   "cell_type": "code",
   "execution_count": 3,
   "metadata": {},
   "outputs": [
    {
     "data": {
      "text/plain": [
       "[Ellipsis]"
      ]
     },
     "execution_count": 3,
     "metadata": {},
     "output_type": "execute_result"
    }
   ],
   "source": [
    "temperature =65\n",
    "weekend = True\n",
    "[...]"
   ]
  },
  {
   "cell_type": "markdown",
   "metadata": {},
   "source": [
    "## if...else"
   ]
  },
  {
   "cell_type": "code",
   "execution_count": 4,
   "metadata": {},
   "outputs": [
    {
     "name": "stdout",
     "output_type": "stream",
     "text": [
      "not larger than 20\n"
     ]
    }
   ],
   "source": [
    "a = 10\n",
    "if a > 20:\n",
    "    print('larger than 20')\n",
    "else:\n",
    "    print('not larger than 20')"
   ]
  },
  {
   "cell_type": "markdown",
   "metadata": {},
   "source": [
    "Exercise\n",
    "\n",
    "Write a script that simulates a game of rock, scissors, paper for a player A and a player B. Both players choose one of options randomly. Print out what both players choose and who won.\n",
    "\n",
    "Hint: The `random` module has a function `choice()` that picks a random item from a list."
   ]
  },
  {
   "cell_type": "markdown",
   "metadata": {},
   "source": [
    "## While statement"
   ]
  },
  {
   "cell_type": "code",
   "execution_count": 5,
   "metadata": {},
   "outputs": [
    {
     "name": "stdout",
     "output_type": "stream",
     "text": [
      "9\n",
      "8\n",
      "7\n",
      "6\n",
      "5\n",
      "4\n",
      "3\n",
      "2\n",
      "1\n"
     ]
    }
   ],
   "source": [
    "a = 10\n",
    "while a > 1:\n",
    "    a = a - 1\n",
    "    print(a)"
   ]
  },
  {
   "cell_type": "markdown",
   "metadata": {},
   "source": [
    "Quick question: what would happen if you executed the following code?\n",
    "\n",
    "    while True:\n",
    "        print('looping')"
   ]
  },
  {
   "cell_type": "markdown",
   "metadata": {},
   "source": [
    "### Exercise\n",
    "\n",
    "Extend the rock, scissors, paper above to run until one of the players has won three times. The first player to get three wins, wins the game."
   ]
  },
  {
   "cell_type": "markdown",
   "metadata": {},
   "source": [
    "## For statement"
   ]
  },
  {
   "cell_type": "code",
   "execution_count": 6,
   "metadata": {},
   "outputs": [
    {
     "name": "stdout",
     "output_type": "stream",
     "text": [
      "j\n",
      "u\n",
      "s\n",
      "t\n",
      " \n",
      "s\n",
      "o\n",
      "m\n",
      "e\n",
      " \n",
      "t\n",
      "e\n",
      "x\n",
      "t\n",
      "j\n",
      "u\n",
      "s\n",
      "t\n",
      " \n",
      "s\n",
      "o\n",
      "m\n",
      "e\n",
      " \n",
      "t\n",
      "e\n",
      "x\n",
      "t\n"
     ]
    }
   ],
   "source": [
    "a = 'just some text'\n",
    "\n",
    "index = 0\n",
    "while index < len(a):\n",
    "    print(a[index])\n",
    "    index = index + 1    \n",
    "    \n",
    "for b in a:\n",
    "    print(b)"
   ]
  },
  {
   "cell_type": "code",
   "execution_count": 7,
   "metadata": {},
   "outputs": [
    {
     "name": "stdout",
     "output_type": "stream",
     "text": [
      "1\n",
      "2\n",
      "3\n",
      "4\n",
      "5\n"
     ]
    }
   ],
   "source": [
    "a = [1,2,3,4,5]\n",
    "for x in a:\n",
    "    print (x)"
   ]
  },
  {
   "cell_type": "markdown",
   "metadata": {},
   "source": [
    "Something that is used often is the *for x in range(a,b)* loop. This can be used to repeat something a set number of times."
   ]
  },
  {
   "cell_type": "code",
   "execution_count": 8,
   "metadata": {},
   "outputs": [
    {
     "name": "stdout",
     "output_type": "stream",
     "text": [
      "repetition 0\n",
      "repetition 1\n",
      "repetition 2\n"
     ]
    }
   ],
   "source": [
    "for x in range(0,3):\n",
    "    print('repetition', x)"
   ]
  },
  {
   "cell_type": "markdown",
   "metadata": {},
   "source": [
    "### Exercise\n",
    "\n",
    "Write a Python program to create the multiplication table (from 1 to 10) of a number. For example, for a number 6, the scripts prints:\n",
    "\n",
    "    6 x 1 = 6                                                               \n",
    "    6 x 2 = 12                                                              \n",
    "    6 x 3 = 18                                                              \n",
    "    6 x 4 = 24                                                              \n",
    "    6 x 5 = 30                                                              \n",
    "    6 x 6 = 36                                                              \n",
    "    6 x 7 = 42                                                              \n",
    "    6 x 8 = 48                                                              \n",
    "    6 x 9 = 54                                                              \n",
    "    6 x 10 = 60\n",
    "\n",
    "### Exercise\n",
    "\n",
    "Write a Python program to construct the following pattern, using a nested loop number. \n",
    "Expected Output:\n",
    "\n",
    "\n",
    "    1\n",
    "    22\n",
    "    333\n",
    "    4444\n",
    "    55555\n",
    "    666666\n",
    "    7777777\n",
    "    88888888\n",
    "    999999999\n",
    "    \n",
    " \n",
    " ### Exercise\n",
    " \n",
    " For every letter in a word (string), print whether the letter is a vowel or a consonant. For example, for the string `apple`:\n",
    " \n",
    "     a is a vowel\n",
    "     p is a consonant\n",
    "     p is a consonant\n",
    "     l is a consonant\n",
    "     e is a vowel\n",
    "    "
   ]
  },
  {
   "cell_type": "markdown",
   "metadata": {},
   "source": [
    "## The break statement"
   ]
  },
  {
   "cell_type": "code",
   "execution_count": 9,
   "metadata": {},
   "outputs": [
    {
     "name": "stdout",
     "output_type": "stream",
     "text": [
      "0.09248449092484534\n",
      "-------\n",
      "0.09248449092484534\n"
     ]
    }
   ],
   "source": [
    "import random\n",
    "while True:\n",
    "    x = random.random()\n",
    "    print(x)\n",
    "    if x < 0.1: break\n",
    "print('-------')\n",
    "print(x)"
   ]
  },
  {
   "cell_type": "markdown",
   "metadata": {},
   "source": [
    "## Excersises\n",
    "\n",
    "### Warm-up\n",
    "\n",
    "+ Write a script that assigns a value to `var1`. Next, it prints `odd` or `even` depending on the value of `var1`. You can test whether a value is even using this code: `var1%2==0`.\n",
    "+ Write a script that checks whether the numbers between 1000 and 1500 can be divided by 3. Numbers that can be divided by three are printed to the screen. Next, alter this script to stop once 10 numbers have been found.\n",
    "+ Write a script that checks whether a string, assigned to a variable, starts with the letter 'x'. If the string starts with an 'x', it prints 'starts with x'. Can you make sure that the script works for both capital and lower case letters? \n",
    "\n",
    "\n",
    "### Roman numbers\n",
    "\n",
    "Write a script that converts a number to the Roman notation. To make things easier, use the following table of values:\n",
    "\n",
    "    roman_numbers = [\n",
    "    [ 'M',  1000 ], [ 'CM',  900 ],\n",
    "    [ 'D',   500 ], [ 'CD',  400 ],\n",
    "    [ 'C',   100 ], [ 'XC',   90 ],\n",
    "    [ 'L',    50 ], [ 'XL',   40 ],\n",
    "    [ 'X',    10 ], [ 'IX',    9 ],\n",
    "    [ 'V',     5 ], [ 'IV',    4 ],\n",
    "    [ 'I',     1 ]\n",
    "    ]\n",
    "    \n",
    "### Cypher text\n",
    "\n",
    "\n",
    "#### Encoding\n",
    "Write a script that encrypts text using substitution. To do this, create a *mixed alphabet*. This is, for each letter in the alphabet, you select another letter to replace it with. Traditionally, mixed alphabets may be created by first writing out a keyword, removing repeated letters in it, then writing all the remaining letters in the alphabet in the usual order.  Using this system, the keyword \"zebras\" gives the following alphabets:\n",
    "    \n",
    "    Plaintext alphabet: \tABCDEFGHIJKLMNOPQRSTUVWXYZ\n",
    "    Ciphertext alphabet: \tZEBRASCDFGHIJKLMNOPQTUVWXY\n",
    "\n",
    "\n",
    "#### Decoding\n",
    "\n",
    "Adjust your previous script to decode a message, given the keyword.   \n",
    "\n",
    "#### More cyphers\n",
    "\n",
    "http://inventwithpython.com/cracking/\n",
    "\n",
    "### Text processing\n",
    "\n",
    "Use the code below to get the full text of Kafka's *Metamorphosis*. Remove all the punctuation and special characters. Convert the text to lowercase. \n",
    "\n",
    "    import urllib\n",
    "    link = 'https://tinyurl.com/yd4pugor'\n",
    "    f = urllib.request.urlopen(link)\n",
    "    txt = f.read()\n",
    "    txt = str(txt)\n",
    "    start = txt.find('One morning')\n",
    "    end = txt.find('End of the Project')\n",
    "    txt = txt[start:end]\n",
    "\n",
    "+ Create a list that contains for each letter in the alphabet how often it occurs in the text.\n",
    "+ Create a list of the `n` most common words in the text, excluding a list of stop words.\n",
    "\n",
    "### The Luhn algorithm\n",
    "\n",
    "Write a script that implements the Luhn algorithm for a given number: https://en.wikipedia.org/wiki/Luhn_algorithm. The algorithm is used to check whether a given number is a valid entry.\n",
    "\n",
    "Example for the number 4539 1488 0343 6467:\n",
    "\n",
    "The first step of the Luhn algorithm is to double every second digit, starting from the right. We will be doubling\n",
    "\n",
    "    4_3_ 1_8_ 0_4_ 6_6_\n",
    "\n",
    "If doubling the number results in a number greater than 9 then subtract 9 from the product. The results of our doubling:\n",
    "\n",
    "    8569 2478 0383 3437\n",
    "\n",
    "Then sum all of the digits:\n",
    "\n",
    "    8+5+6+9+2+4+7+8+0+3+8+3+3+4+3+7 = 80\n",
    "\n",
    "If the sum is evenly divisible by 10, then the number is valid. This number is valid!\n",
    "\n"
   ]
  }
 ],
 "metadata": {
  "anaconda-cloud": {},
  "kernelspec": {
   "display_name": "Python 3",
   "language": "python",
   "name": "python3"
  },
  "language_info": {
   "codemirror_mode": {
    "name": "ipython",
    "version": 3
   },
   "file_extension": ".py",
   "mimetype": "text/x-python",
   "name": "python",
   "nbconvert_exporter": "python",
   "pygments_lexer": "ipython3",
   "version": "3.6.4"
  },
  "nav_menu": {},
  "toc": {
   "base_numbering": 1,
   "nav_menu": {
    "height": "120px",
    "width": "252px"
   },
   "number_sections": true,
   "sideBar": true,
   "skip_h1_title": true,
   "title_cell": "Table of Contents",
   "title_sidebar": "Contents",
   "toc_cell": true,
   "toc_position": {},
   "toc_section_display": "block",
   "toc_window_display": true
  },
  "toc_position": {
   "height": "846px",
   "left": "0px",
   "right": "1708px",
   "top": "107px",
   "width": "212px"
  }
 },
 "nbformat": 4,
 "nbformat_minor": 1
}
