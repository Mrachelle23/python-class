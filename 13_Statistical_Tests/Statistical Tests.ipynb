{
 "cells": [
  {
   "cell_type": "markdown",
   "metadata": {
    "toc": true
   },
   "source": [
    "<h1>Table of Contents<span class=\"tocSkip\"></span></h1>\n",
    "<div class=\"toc\"><ul class=\"toc-item\"><li><span><a href=\"#Sources\" data-toc-modified-id=\"Sources-1\"><span class=\"toc-item-num\">1&nbsp;&nbsp;</span>Sources</a></span></li><li><span><a href=\"#Pearson-correlation:-scipy\" data-toc-modified-id=\"Pearson-correlation:-scipy-2\"><span class=\"toc-item-num\">2&nbsp;&nbsp;</span>Pearson correlation: scipy</a></span><ul class=\"toc-item\"><li><span><a href=\"#Running-the-Pearson-correlation\" data-toc-modified-id=\"Running-the-Pearson-correlation-2.1\"><span class=\"toc-item-num\">2.1&nbsp;&nbsp;</span>Running the Pearson correlation</a></span></li><li><span><a href=\"#Excersise\" data-toc-modified-id=\"Excersise-2.2\"><span class=\"toc-item-num\">2.2&nbsp;&nbsp;</span>Excersise</a></span></li></ul></li><li><span><a href=\"#Independent-samples-t-test\" data-toc-modified-id=\"Independent-samples-t-test-3\"><span class=\"toc-item-num\">3&nbsp;&nbsp;</span>Independent samples t-test</a></span><ul class=\"toc-item\"><li><span><a href=\"#Running-the-t-test\" data-toc-modified-id=\"Running-the-t-test-3.1\"><span class=\"toc-item-num\">3.1&nbsp;&nbsp;</span>Running the t-test</a></span></li><li><span><a href=\"#Looking-at-the-descriptive-statistics\" data-toc-modified-id=\"Looking-at-the-descriptive-statistics-3.2\"><span class=\"toc-item-num\">3.2&nbsp;&nbsp;</span>Looking at the descriptive statistics</a></span></li><li><span><a href=\"#The-non-parametric-equivalent:--Kruskal-Wallis-H-test\" data-toc-modified-id=\"The-non-parametric-equivalent:--Kruskal-Wallis-H-test-3.3\"><span class=\"toc-item-num\">3.3&nbsp;&nbsp;</span>The non-parametric equivalent:  Kruskal-Wallis H-test</a></span></li><li><span><a href=\"#Excersise\" data-toc-modified-id=\"Excersise-3.4\"><span class=\"toc-item-num\">3.4&nbsp;&nbsp;</span>Excersise</a></span></li></ul></li><li><span><a href=\"#Dependent-samples-t-test\" data-toc-modified-id=\"Dependent-samples-t-test-4\"><span class=\"toc-item-num\">4&nbsp;&nbsp;</span>Dependent samples t-test</a></span><ul class=\"toc-item\"><li><span><a href=\"#Example-1\" data-toc-modified-id=\"Example-1-4.1\"><span class=\"toc-item-num\">4.1&nbsp;&nbsp;</span>Example 1</a></span></li><li><span><a href=\"#Example-2\" data-toc-modified-id=\"Example-2-4.2\"><span class=\"toc-item-num\">4.2&nbsp;&nbsp;</span>Example 2</a></span></li><li><span><a href=\"#The-non-paramtric-equivalent:-Wilcoxon-test\" data-toc-modified-id=\"The-non-paramtric-equivalent:-Wilcoxon-test-4.3\"><span class=\"toc-item-num\">4.3&nbsp;&nbsp;</span>The non-paramtric equivalent: Wilcoxon test</a></span></li><li><span><a href=\"#T-test-using-the-stats-module\" data-toc-modified-id=\"T-test-using-the-stats-module-4.4\"><span class=\"toc-item-num\">4.4&nbsp;&nbsp;</span>T-test using the <code>stats</code> module</a></span></li></ul></li><li><span><a href=\"#Regression-using-the-stats-package\" data-toc-modified-id=\"Regression-using-the-stats-package-5\"><span class=\"toc-item-num\">5&nbsp;&nbsp;</span>Regression using the <code>stats</code> package</a></span><ul class=\"toc-item\"><li><span><a href=\"#Simple-lineair-regression:-one-predictor\" data-toc-modified-id=\"Simple-lineair-regression:-one-predictor-5.1\"><span class=\"toc-item-num\">5.1&nbsp;&nbsp;</span>Simple lineair regression: one predictor</a></span></li><li><span><a href=\"#Exercises\" data-toc-modified-id=\"Exercises-5.2\"><span class=\"toc-item-num\">5.2&nbsp;&nbsp;</span>Exercises</a></span></li><li><span><a href=\"#Multiple-Regression\" data-toc-modified-id=\"Multiple-Regression-5.3\"><span class=\"toc-item-num\">5.3&nbsp;&nbsp;</span>Multiple Regression</a></span></li><li><span><a href=\"#Multiple-Regression---with-a-categorical-variable\" data-toc-modified-id=\"Multiple-Regression---with-a-categorical-variable-5.4\"><span class=\"toc-item-num\">5.4&nbsp;&nbsp;</span>Multiple Regression - with a categorical variable</a></span></li><li><span><a href=\"#Multiple-regression-plot\" data-toc-modified-id=\"Multiple-regression-plot-5.5\"><span class=\"toc-item-num\">5.5&nbsp;&nbsp;</span>Multiple regression plot</a></span></li><li><span><a href=\"#Logistic-Regression:-one-predictor\" data-toc-modified-id=\"Logistic-Regression:-one-predictor-5.6\"><span class=\"toc-item-num\">5.6&nbsp;&nbsp;</span>Logistic Regression: one predictor</a></span></li><li><span><a href=\"#Logistic-regression-plot-using-seaborn\" data-toc-modified-id=\"Logistic-regression-plot-using-seaborn-5.7\"><span class=\"toc-item-num\">5.7&nbsp;&nbsp;</span>Logistic regression plot using <code>seaborn</code></a></span></li><li><span><a href=\"#Multiple-Logistic-Regression\" data-toc-modified-id=\"Multiple-Logistic-Regression-5.8\"><span class=\"toc-item-num\">5.8&nbsp;&nbsp;</span>Multiple Logistic Regression</a></span></li></ul></li><li><span><a href=\"#Exercises\" data-toc-modified-id=\"Exercises-6\"><span class=\"toc-item-num\">6&nbsp;&nbsp;</span>Exercises</a></span><ul class=\"toc-item\"><li><span><a href=\"#Purchases\" data-toc-modified-id=\"Purchases-6.1\"><span class=\"toc-item-num\">6.1&nbsp;&nbsp;</span>Purchases</a></span></li><li><span><a href=\"#Weight-loss\" data-toc-modified-id=\"Weight-loss-6.2\"><span class=\"toc-item-num\">6.2&nbsp;&nbsp;</span>Weight loss</a></span></li><li><span><a href=\"#Mice\" data-toc-modified-id=\"Mice-6.3\"><span class=\"toc-item-num\">6.3&nbsp;&nbsp;</span>Mice</a></span></li></ul></li><li><span><a href=\"#Regression-using-the-Statsmodels-package\" data-toc-modified-id=\"Regression-using-the-Statsmodels-package-7\"><span class=\"toc-item-num\">7&nbsp;&nbsp;</span>Regression using the <code>Statsmodels</code> package</a></span><ul class=\"toc-item\"><li><span><a href=\"#Example-1\" data-toc-modified-id=\"Example-1-7.1\"><span class=\"toc-item-num\">7.1&nbsp;&nbsp;</span>Example 1</a></span></li><li><span><a href=\"#Example-2\" data-toc-modified-id=\"Example-2-7.2\"><span class=\"toc-item-num\">7.2&nbsp;&nbsp;</span>Example 2</a></span></li><li><span><a href=\"#Plot-the-model\" data-toc-modified-id=\"Plot-the-model-7.3\"><span class=\"toc-item-num\">7.3&nbsp;&nbsp;</span>Plot the model</a></span></li><li><span><a href=\"#Template-for-a-linear-regression\" data-toc-modified-id=\"Template-for-a-linear-regression-7.4\"><span class=\"toc-item-num\">7.4&nbsp;&nbsp;</span>Template for a linear regression</a></span></li></ul></li></ul></div>"
   ]
  },
  {
   "cell_type": "markdown",
   "metadata": {},
   "source": [
    "# Statistical Tests\n",
    "\n",
    "## Sources\n",
    "\n",
    "+ Online book: http://greenteapress.com/thinkstats2/html/index.html\n",
    "+ Packages:\n",
    "    + scipy statistics: https://docs.scipy.org/doc/scipy/reference/stats.html\n",
    "    + sklearn: http://scikit-learn.org/stable/supervised_learning.html#supervised-learning\n",
    "    + statsmodels: http://www.statsmodels.org/stable/index.html\n",
    "    \n",
    "+ ANOVA and Repeated Measures: https://www.marsja.se/repeated-measures-anova-in-python-using-statsmodels/"
   ]
  },
  {
   "cell_type": "code",
   "execution_count": 2,
   "metadata": {},
   "outputs": [
    {
     "data": {
      "text/html": [
       "<div>\n",
       "<style scoped>\n",
       "    .dataframe tbody tr th:only-of-type {\n",
       "        vertical-align: middle;\n",
       "    }\n",
       "\n",
       "    .dataframe tbody tr th {\n",
       "        vertical-align: top;\n",
       "    }\n",
       "\n",
       "    .dataframe thead th {\n",
       "        text-align: right;\n",
       "    }\n",
       "</style>\n",
       "<table border=\"1\" class=\"dataframe\">\n",
       "  <thead>\n",
       "    <tr style=\"text-align: right;\">\n",
       "      <th></th>\n",
       "      <th>Biacromial</th>\n",
       "      <th>Biiliac</th>\n",
       "      <th>Bitrochanteric</th>\n",
       "      <th>ChestDepth</th>\n",
       "      <th>ChestDia</th>\n",
       "      <th>ElbowDia</th>\n",
       "      <th>WristDia</th>\n",
       "      <th>KneeDia</th>\n",
       "      <th>AnkleDia</th>\n",
       "      <th>Shoulder</th>\n",
       "      <th>...</th>\n",
       "      <th>Bicep</th>\n",
       "      <th>Forearm</th>\n",
       "      <th>Knee</th>\n",
       "      <th>Calf</th>\n",
       "      <th>Ankle</th>\n",
       "      <th>Wrist</th>\n",
       "      <th>Age</th>\n",
       "      <th>Weight</th>\n",
       "      <th>Height</th>\n",
       "      <th>Gender</th>\n",
       "    </tr>\n",
       "  </thead>\n",
       "  <tbody>\n",
       "    <tr>\n",
       "      <th>0</th>\n",
       "      <td>42.9</td>\n",
       "      <td>26.0</td>\n",
       "      <td>31.5</td>\n",
       "      <td>17.7</td>\n",
       "      <td>28.0</td>\n",
       "      <td>13.1</td>\n",
       "      <td>10.4</td>\n",
       "      <td>18.8</td>\n",
       "      <td>14.1</td>\n",
       "      <td>106.2</td>\n",
       "      <td>...</td>\n",
       "      <td>32.5</td>\n",
       "      <td>26.0</td>\n",
       "      <td>34.5</td>\n",
       "      <td>36.5</td>\n",
       "      <td>23.5</td>\n",
       "      <td>16.5</td>\n",
       "      <td>21</td>\n",
       "      <td>65.6</td>\n",
       "      <td>174.0</td>\n",
       "      <td>1</td>\n",
       "    </tr>\n",
       "    <tr>\n",
       "      <th>1</th>\n",
       "      <td>43.7</td>\n",
       "      <td>28.5</td>\n",
       "      <td>33.5</td>\n",
       "      <td>16.9</td>\n",
       "      <td>30.8</td>\n",
       "      <td>14.0</td>\n",
       "      <td>11.8</td>\n",
       "      <td>20.6</td>\n",
       "      <td>15.1</td>\n",
       "      <td>110.5</td>\n",
       "      <td>...</td>\n",
       "      <td>34.4</td>\n",
       "      <td>28.0</td>\n",
       "      <td>36.5</td>\n",
       "      <td>37.5</td>\n",
       "      <td>24.5</td>\n",
       "      <td>17.0</td>\n",
       "      <td>23</td>\n",
       "      <td>71.8</td>\n",
       "      <td>175.3</td>\n",
       "      <td>1</td>\n",
       "    </tr>\n",
       "    <tr>\n",
       "      <th>2</th>\n",
       "      <td>40.1</td>\n",
       "      <td>28.2</td>\n",
       "      <td>33.3</td>\n",
       "      <td>20.9</td>\n",
       "      <td>31.7</td>\n",
       "      <td>13.9</td>\n",
       "      <td>10.9</td>\n",
       "      <td>19.7</td>\n",
       "      <td>14.1</td>\n",
       "      <td>115.1</td>\n",
       "      <td>...</td>\n",
       "      <td>33.4</td>\n",
       "      <td>28.8</td>\n",
       "      <td>37.0</td>\n",
       "      <td>37.3</td>\n",
       "      <td>21.9</td>\n",
       "      <td>16.9</td>\n",
       "      <td>28</td>\n",
       "      <td>80.7</td>\n",
       "      <td>193.5</td>\n",
       "      <td>1</td>\n",
       "    </tr>\n",
       "    <tr>\n",
       "      <th>3</th>\n",
       "      <td>44.3</td>\n",
       "      <td>29.9</td>\n",
       "      <td>34.0</td>\n",
       "      <td>18.4</td>\n",
       "      <td>28.2</td>\n",
       "      <td>13.9</td>\n",
       "      <td>11.2</td>\n",
       "      <td>20.9</td>\n",
       "      <td>15.0</td>\n",
       "      <td>104.5</td>\n",
       "      <td>...</td>\n",
       "      <td>31.0</td>\n",
       "      <td>26.2</td>\n",
       "      <td>37.0</td>\n",
       "      <td>34.8</td>\n",
       "      <td>23.0</td>\n",
       "      <td>16.6</td>\n",
       "      <td>23</td>\n",
       "      <td>72.6</td>\n",
       "      <td>186.5</td>\n",
       "      <td>1</td>\n",
       "    </tr>\n",
       "    <tr>\n",
       "      <th>4</th>\n",
       "      <td>42.5</td>\n",
       "      <td>29.9</td>\n",
       "      <td>34.0</td>\n",
       "      <td>21.5</td>\n",
       "      <td>29.4</td>\n",
       "      <td>15.2</td>\n",
       "      <td>11.6</td>\n",
       "      <td>20.7</td>\n",
       "      <td>14.9</td>\n",
       "      <td>107.5</td>\n",
       "      <td>...</td>\n",
       "      <td>32.0</td>\n",
       "      <td>28.4</td>\n",
       "      <td>37.7</td>\n",
       "      <td>38.6</td>\n",
       "      <td>24.4</td>\n",
       "      <td>18.0</td>\n",
       "      <td>22</td>\n",
       "      <td>78.8</td>\n",
       "      <td>187.2</td>\n",
       "      <td>1</td>\n",
       "    </tr>\n",
       "  </tbody>\n",
       "</table>\n",
       "<p>5 rows × 25 columns</p>\n",
       "</div>"
      ],
      "text/plain": [
       "   Biacromial  Biiliac  Bitrochanteric  ChestDepth  ChestDia  ElbowDia  \\\n",
       "0        42.9     26.0            31.5        17.7      28.0      13.1   \n",
       "1        43.7     28.5            33.5        16.9      30.8      14.0   \n",
       "2        40.1     28.2            33.3        20.9      31.7      13.9   \n",
       "3        44.3     29.9            34.0        18.4      28.2      13.9   \n",
       "4        42.5     29.9            34.0        21.5      29.4      15.2   \n",
       "\n",
       "   WristDia  KneeDia  AnkleDia  Shoulder  ...  Bicep  Forearm  Knee  Calf  \\\n",
       "0      10.4     18.8      14.1     106.2  ...   32.5     26.0  34.5  36.5   \n",
       "1      11.8     20.6      15.1     110.5  ...   34.4     28.0  36.5  37.5   \n",
       "2      10.9     19.7      14.1     115.1  ...   33.4     28.8  37.0  37.3   \n",
       "3      11.2     20.9      15.0     104.5  ...   31.0     26.2  37.0  34.8   \n",
       "4      11.6     20.7      14.9     107.5  ...   32.0     28.4  37.7  38.6   \n",
       "\n",
       "   Ankle  Wrist  Age  Weight  Height  Gender  \n",
       "0   23.5   16.5   21    65.6   174.0       1  \n",
       "1   24.5   17.0   23    71.8   175.3       1  \n",
       "2   21.9   16.9   28    80.7   193.5       1  \n",
       "3   23.0   16.6   23    72.6   186.5       1  \n",
       "4   24.4   18.0   22    78.8   187.2       1  \n",
       "\n",
       "[5 rows x 25 columns]"
      ]
     },
     "execution_count": 2,
     "metadata": {},
     "output_type": "execute_result"
    }
   ],
   "source": [
    "%matplotlib inline\n",
    "import pandas\n",
    "data = pandas.read_csv('data/body.csv')\n",
    "data.head()"
   ]
  },
  {
   "cell_type": "markdown",
   "metadata": {},
   "source": [
    "## Pearson correlation: scipy\n",
    "\n",
    "For a Pearson correlation, each variable should be continuous.  If one or both of the variables are ordinal in measurement, then a Spearman correlation could be conducted instead. See [here](http://www.statisticssolutions.com/pearson-correlation-assumptions/) for more assumptions underlying the Pearson Correlation. \n",
    "\n",
    "### Running the Pearson correlation\n",
    "\n"
   ]
  },
  {
   "cell_type": "code",
   "execution_count": 3,
   "metadata": {},
   "outputs": [
    {
     "data": {
      "image/png": "[encoded data removed]",
      "text/plain": [
       "<Figure size 432x288 with 1 Axes>"
      ]
     },
     "metadata": {
      "needs_background": "light"
     },
     "output_type": "display_data"
    }
   ],
   "source": [
    "from matplotlib import pyplot\n",
    "var1 = data.Bicep\n",
    "var2 = data.Forearm\n",
    "pyplot.scatter(var1,var2);"
   ]
  },
  {
   "cell_type": "code",
   "execution_count": 4,
   "metadata": {},
   "outputs": [
    {
     "data": {
      "text/plain": [
       "(0.8666722028122296, 1.2563310442380804e-154)"
      ]
     },
     "execution_count": 4,
     "metadata": {},
     "output_type": "execute_result"
    }
   ],
   "source": [
    "# Running the pearson correlation\n",
    "from scipy.stats import pearsonr\n",
    "result = pearsonr(data.Bicep, data.Weight)\n",
    "result # Returns the correlation and the p-value"
   ]
  },
  {
   "cell_type": "markdown",
   "metadata": {},
   "source": [
    "### Excersise\n",
    "\n",
    "Select two variables from the data and run a correlation analysis. Try to find two variables that correlate strongly or weakly. Which variables should not be used for a correlation analysis?"
   ]
  },
  {
   "cell_type": "markdown",
   "metadata": {},
   "source": [
    "## Independent samples t-test\n",
    "\n",
    "The independent samples t-test whether there the associated population means are significantly different. See (here)[https://libguides.library.kent.edu/SPSS/IndependentTTest] for more information about the independent t-test.\n",
    "\n",
    "### Running the t-test"
   ]
  },
  {
   "cell_type": "code",
   "execution_count": 5,
   "metadata": {},
   "outputs": [],
   "source": [
    "# Split the data into two groups: men and women\n",
    "women = data.query('Gender==0')\n",
    "men = data.query('Gender==1')"
   ]
  },
  {
   "cell_type": "code",
   "execution_count": 6,
   "metadata": {},
   "outputs": [
    {
     "data": {
      "text/plain": [
       "Ttest_indResult(statistic=-21.109478245457304, pvalue=2.2340956600230777e-71)"
      ]
     },
     "execution_count": 6,
     "metadata": {},
     "output_type": "execute_result"
    }
   ],
   "source": [
    "# Perform the t-test\n",
    "from scipy.stats import ttest_ind\n",
    "\n",
    "result = ttest_ind(women.Height, men.Height)\n",
    "result"
   ]
  },
  {
   "cell_type": "code",
   "execution_count": 7,
   "metadata": {},
   "outputs": [
    {
     "data": {
      "text/plain": [
       "505"
      ]
     },
     "execution_count": 7,
     "metadata": {},
     "output_type": "execute_result"
    }
   ],
   "source": [
    "# Degrees of freedom\n",
    "df = len(women.Height) + len(men.Height) - 2\n",
    "df"
   ]
  },
  {
   "cell_type": "markdown",
   "metadata": {},
   "source": [
    "### Looking at the descriptive statistics"
   ]
  },
  {
   "cell_type": "code",
   "execution_count": 8,
   "metadata": {},
   "outputs": [
    {
     "data": {
      "text/plain": [
       "count    260.000000\n",
       "mean     164.872308\n",
       "std        6.544602\n",
       "min      147.200000\n",
       "25%      160.000000\n",
       "50%      164.500000\n",
       "75%      169.500000\n",
       "max      182.900000\n",
       "Name: Height, dtype: float64"
      ]
     },
     "execution_count": 8,
     "metadata": {},
     "output_type": "execute_result"
    }
   ],
   "source": [
    "women.Height.describe()"
   ]
  },
  {
   "cell_type": "code",
   "execution_count": 9,
   "metadata": {},
   "outputs": [
    {
     "data": {
      "text/plain": [
       "count    247.000000\n",
       "mean     177.745344\n",
       "std        7.183629\n",
       "min      157.200000\n",
       "25%      172.900000\n",
       "50%      177.800000\n",
       "75%      182.650000\n",
       "max      198.100000\n",
       "Name: Height, dtype: float64"
      ]
     },
     "execution_count": 9,
     "metadata": {},
     "output_type": "execute_result"
    }
   ],
   "source": [
    "men.Height.describe()"
   ]
  },
  {
   "cell_type": "markdown",
   "metadata": {},
   "source": [
    "\n",
    "### The non-parametric equivalent:  Kruskal-Wallis H-test"
   ]
  },
  {
   "cell_type": "code",
   "execution_count": 10,
   "metadata": {},
   "outputs": [
    {
     "data": {
      "image/png": "[encoded data removed]",
      "text/plain": [
       "<Figure size 432x288 with 2 Axes>"
      ]
     },
     "metadata": {
      "needs_background": "light"
     },
     "output_type": "display_data"
    }
   ],
   "source": [
    "pyplot.subplot(1,2,1);\n",
    "pyplot.hist(women.Waist);\n",
    "pyplot.subplot(1,2,2);\n",
    "pyplot.hist(men.Waist);"
   ]
  },
  {
   "cell_type": "code",
   "execution_count": 11,
   "metadata": {},
   "outputs": [
    {
     "data": {
      "text/plain": [
       "KruskalResult(statistic=251.4232515704874, pvalue=1.2710465503343314e-56)"
      ]
     },
     "execution_count": 11,
     "metadata": {},
     "output_type": "execute_result"
    }
   ],
   "source": [
    "from scipy.stats import kruskal\n",
    "kruskal(women.Waist, men.Waist)"
   ]
  },
  {
   "cell_type": "markdown",
   "metadata": {},
   "source": [
    "### Excersise\n",
    "\n",
    "Test whether people under 35 and over 35 differ significantly in weight or height."
   ]
  },
  {
   "cell_type": "code",
   "execution_count": 12,
   "metadata": {},
   "outputs": [
    {
     "data": {
      "image/png": "[encoded data removed]",
      "text/plain": [
       "<Figure size 432x288 with 1 Axes>"
      ]
     },
     "metadata": {
      "needs_background": "light"
     },
     "output_type": "display_data"
    }
   ],
   "source": [
    "pyplot.hist(data.Age);\n",
    "pyplot.title('Age distribution in data set');"
   ]
  },
  {
   "cell_type": "markdown",
   "metadata": {},
   "source": [
    "## Dependent samples t-test\n",
    "\n",
    "The dependent samples t-test evaluates whether repeated measures taken on a single group differ. See [here](https://statistics.laerd.com/statistical-guides/dependent-t-test-statistical-guide.php) for more information. This [webpage](https://www.statisticssolutions.com/manova-analysis-paired-sample-t-test/) lists the assumptions underlying a paired t-test.\n",
    "\n",
    "### Example 1"
   ]
  },
  {
   "cell_type": "code",
   "execution_count": 13,
   "metadata": {},
   "outputs": [
    {
     "data": {
      "text/plain": [
       "Ttest_relResult(statistic=-63.904013585663705, pvalue=1.9634191283434073e-244)"
      ]
     },
     "execution_count": 13,
     "metadata": {},
     "output_type": "execute_result"
    }
   ],
   "source": [
    "from scipy.stats import ttest_rel\n",
    "\n",
    "result = ttest_rel(data.Forearm, data.Bicep)\n",
    "result"
   ]
  },
  {
   "cell_type": "code",
   "execution_count": 14,
   "metadata": {},
   "outputs": [
    {
     "data": {
      "text/plain": [
       "506"
      ]
     },
     "execution_count": 14,
     "metadata": {},
     "output_type": "execute_result"
    }
   ],
   "source": [
    "#Degrees of freedom\n",
    "df = len(data.Forearm) - 1\n",
    "df"
   ]
  },
  {
   "cell_type": "markdown",
   "metadata": {},
   "source": [
    "### Example 2\n",
    "\n",
    "The data is described [here](https://vincentarelbundock.github.io/Rdatasets/doc/DAAG/pair65.html)."
   ]
  },
  {
   "cell_type": "code",
   "execution_count": 15,
   "metadata": {},
   "outputs": [
    {
     "data": {
      "text/html": [
       "<div>\n",
       "<style scoped>\n",
       "    .dataframe tbody tr th:only-of-type {\n",
       "        vertical-align: middle;\n",
       "    }\n",
       "\n",
       "    .dataframe tbody tr th {\n",
       "        vertical-align: top;\n",
       "    }\n",
       "\n",
       "    .dataframe thead th {\n",
       "        text-align: right;\n",
       "    }\n",
       "</style>\n",
       "<table border=\"1\" class=\"dataframe\">\n",
       "  <thead>\n",
       "    <tr style=\"text-align: right;\">\n",
       "      <th></th>\n",
       "      <th>heated</th>\n",
       "      <th>ambient</th>\n",
       "    </tr>\n",
       "  </thead>\n",
       "  <tbody>\n",
       "    <tr>\n",
       "      <th>1</th>\n",
       "      <td>244</td>\n",
       "      <td>225</td>\n",
       "    </tr>\n",
       "    <tr>\n",
       "      <th>2</th>\n",
       "      <td>255</td>\n",
       "      <td>247</td>\n",
       "    </tr>\n",
       "    <tr>\n",
       "      <th>3</th>\n",
       "      <td>253</td>\n",
       "      <td>249</td>\n",
       "    </tr>\n",
       "    <tr>\n",
       "      <th>4</th>\n",
       "      <td>254</td>\n",
       "      <td>253</td>\n",
       "    </tr>\n",
       "    <tr>\n",
       "      <th>5</th>\n",
       "      <td>251</td>\n",
       "      <td>245</td>\n",
       "    </tr>\n",
       "    <tr>\n",
       "      <th>6</th>\n",
       "      <td>269</td>\n",
       "      <td>259</td>\n",
       "    </tr>\n",
       "    <tr>\n",
       "      <th>7</th>\n",
       "      <td>248</td>\n",
       "      <td>242</td>\n",
       "    </tr>\n",
       "    <tr>\n",
       "      <th>8</th>\n",
       "      <td>252</td>\n",
       "      <td>255</td>\n",
       "    </tr>\n",
       "    <tr>\n",
       "      <th>9</th>\n",
       "      <td>292</td>\n",
       "      <td>286</td>\n",
       "    </tr>\n",
       "  </tbody>\n",
       "</table>\n",
       "</div>"
      ],
      "text/plain": [
       "   heated  ambient\n",
       "1     244      225\n",
       "2     255      247\n",
       "3     253      249\n",
       "4     254      253\n",
       "5     251      245\n",
       "6     269      259\n",
       "7     248      242\n",
       "8     252      255\n",
       "9     292      286"
      ]
     },
     "execution_count": 15,
     "metadata": {},
     "output_type": "execute_result"
    }
   ],
   "source": [
    "data = pandas.read_csv('data/bands.csv', index_col=0)\n",
    "data"
   ]
  },
  {
   "cell_type": "code",
   "execution_count": 16,
   "metadata": {},
   "outputs": [
    {
     "data": {
      "text/plain": [
       "Ttest_relResult(statistic=3.1130812979723537, pvalue=0.014378322977309298)"
      ]
     },
     "execution_count": 16,
     "metadata": {},
     "output_type": "execute_result"
    }
   ],
   "source": [
    "result = ttest_rel(data.heated, data.ambient)\n",
    "result"
   ]
  },
  {
   "cell_type": "markdown",
   "metadata": {},
   "source": [
    "### The non-paramtric equivalent: Wilcoxon test"
   ]
  },
  {
   "cell_type": "code",
   "execution_count": 24,
   "metadata": {},
   "outputs": [
    {
     "data": {
      "image/png": "[encoded data removed]",
      "text/plain": [
       "<Figure size 432x288 with 1 Axes>"
      ]
     },
     "metadata": {
      "needs_background": "light"
     },
     "output_type": "display_data"
    }
   ],
   "source": [
    "pyplot.hist(data.heated);"
   ]
  },
  {
   "cell_type": "code",
   "execution_count": 25,
   "metadata": {},
   "outputs": [
    {
     "name": "stderr",
     "output_type": "stream",
     "text": [
      "/home/dieter/anaconda3/envs/default/lib/python3.7/site-packages/scipy/stats/morestats.py:2778: UserWarning: Warning: sample size too small for normal approximation.\n",
      "  warnings.warn(\"Warning: sample size too small for normal approximation.\")\n"
     ]
    },
    {
     "data": {
      "text/plain": [
       "WilcoxonResult(statistic=2.0, pvalue=0.014801612180980936)"
      ]
     },
     "execution_count": 25,
     "metadata": {},
     "output_type": "execute_result"
    }
   ],
   "source": [
    "from scipy.stats import wilcoxon\n",
    "wilcoxon(data.heated, data.ambient)"
   ]
  },
  {
   "cell_type": "markdown",
   "metadata": {},
   "source": [
    "### T-test using the ```stats``` module"
   ]
  },
  {
   "cell_type": "code",
   "execution_count": 26,
   "metadata": {},
   "outputs": [
    {
     "name": "stdout",
     "output_type": "stream",
     "text": [
      "(0.8686108222457811, 16, 0.3979023385863938, 't(16) = 0.87, p = 0.40')\n",
      "t(16) = 0.87, p = 0.40\n"
     ]
    }
   ],
   "source": [
    "import stats\n",
    "\n",
    "# Independent t-test\n",
    "result = stats.ttest(data.heated, data.ambient, independent=True)\n",
    "print(result)\n",
    "print(result[3])"
   ]
  },
  {
   "cell_type": "code",
   "execution_count": 31,
   "metadata": {},
   "outputs": [
    {
     "name": "stdout",
     "output_type": "stream",
     "text": [
      "(3.1130812979723537, 8, 0.014378322977309298, 't(8) = 3.11, p = 0.01')\n",
      "t(8) = 3.11, p = 0.01\n"
     ]
    }
   ],
   "source": [
    "# Dependent t-test\n",
    "result = stats.ttest(data.heated, data.ambient, independent=False)\n",
    "print(result)\n",
    "print(result[3])"
   ]
  },
  {
   "cell_type": "markdown",
   "metadata": {},
   "source": [
    "## Regression using the `stats` package"
   ]
  },
  {
   "cell_type": "markdown",
   "metadata": {},
   "source": [
    "### Simple lineair regression: one predictor"
   ]
  },
  {
   "cell_type": "code",
   "execution_count": 43,
   "metadata": {},
   "outputs": [
    {
     "data": {
      "image/png": "[encoded data removed]",
      "text/plain": [
       "<Figure size 432x288 with 1 Axes>"
      ]
     },
     "metadata": {
      "needs_background": "light"
     },
     "output_type": "display_data"
    }
   ],
   "source": [
    "import stats\n",
    "data = pandas.read_csv('data/body.csv')\n",
    "result = stats.simple_regression('Weight','Height', data)"
   ]
  },
  {
   "cell_type": "code",
   "execution_count": 33,
   "metadata": {},
   "outputs": [
    {
     "name": "stdout",
     "output_type": "stream",
     "text": [
      "dict_keys(['fitted', 'summary', 'prediction', 'X', 'Y'])\n"
     ]
    }
   ],
   "source": [
    "print(result.keys())"
   ]
  },
  {
   "cell_type": "code",
   "execution_count": 34,
   "metadata": {},
   "outputs": [
    {
     "data": {
      "text/html": [
       "<table class=\"simpletable\">\n",
       "<tr>\n",
       "        <td>Model:</td>               <td>OLS</td>         <td>Adj. R-squared:</td>     <td>0.514</td>  \n",
       "</tr>\n",
       "<tr>\n",
       "  <td>Dependent Variable:</td>     <td>dependent</td>           <td>AIC:</td>         <td>3702.9106</td>\n",
       "</tr>\n",
       "<tr>\n",
       "         <td>Date:</td>        <td>2019-10-03 13:58</td>        <td>BIC:</td>         <td>3711.3676</td>\n",
       "</tr>\n",
       "<tr>\n",
       "   <td>No. Observations:</td>         <td>507</td>         <td>Log-Likelihood:</td>    <td>-1849.5</td> \n",
       "</tr>\n",
       "<tr>\n",
       "       <td>Df Model:</td>              <td>1</td>           <td>F-statistic:</td>       <td>535.2</td>  \n",
       "</tr>\n",
       "<tr>\n",
       "     <td>Df Residuals:</td>           <td>505</td>       <td>Prob (F-statistic):</td> <td>2.83e-81</td> \n",
       "</tr>\n",
       "<tr>\n",
       "      <td>R-squared:</td>            <td>0.515</td>            <td>Scale:</td>         <td>86.640</td>  \n",
       "</tr>\n",
       "</table>\n",
       "<table class=\"simpletable\">\n",
       "<tr>\n",
       "       <td></td>         <th>Coef.</th>   <th>Std.Err.</th>     <th>t</th>     <th>P>|t|</th>  <th>[0.025</th>    <th>0.975]</th> \n",
       "</tr>\n",
       "<tr>\n",
       "  <th>Intercept</th>   <td>-105.0113</td>  <td>7.5394</td>  <td>-13.9283</td> <td>0.0000</td> <td>-119.8237</td> <td>-90.1988</td>\n",
       "</tr>\n",
       "<tr>\n",
       "  <th>independent</th>  <td>1.0176</td>    <td>0.0440</td>   <td>23.1346</td> <td>0.0000</td>  <td>0.9312</td>    <td>1.1040</td> \n",
       "</tr>\n",
       "</table>\n",
       "<table class=\"simpletable\">\n",
       "<tr>\n",
       "     <td>Omnibus:</td>    <td>63.269</td>  <td>Durbin-Watson:</td>    <td>1.894</td>\n",
       "</tr>\n",
       "<tr>\n",
       "  <td>Prob(Omnibus):</td>  <td>0.000</td> <td>Jarque-Bera (JB):</td> <td>93.738</td>\n",
       "</tr>\n",
       "<tr>\n",
       "       <td>Skew:</td>      <td>0.840</td>     <td>Prob(JB):</td>      <td>0.000</td>\n",
       "</tr>\n",
       "<tr>\n",
       "     <td>Kurtosis:</td>    <td>4.270</td>  <td>Condition No.:</td>    <td>3126</td> \n",
       "</tr>\n",
       "</table>"
      ],
      "text/plain": [
       "<class 'statsmodels.iolib.summary2.Summary'>\n",
       "\"\"\"\n",
       "                 Results: Ordinary least squares\n",
       "==================================================================\n",
       "Model:              OLS              Adj. R-squared:     0.514    \n",
       "Dependent Variable: dependent        AIC:                3702.9106\n",
       "Date:               2019-10-03 13:58 BIC:                3711.3676\n",
       "No. Observations:   507              Log-Likelihood:     -1849.5  \n",
       "Df Model:           1                F-statistic:        535.2    \n",
       "Df Residuals:       505              Prob (F-statistic): 2.83e-81 \n",
       "R-squared:          0.515            Scale:              86.640   \n",
       "------------------------------------------------------------------\n",
       "               Coef.   Std.Err.    t     P>|t|    [0.025   0.975] \n",
       "------------------------------------------------------------------\n",
       "Intercept    -105.0113   7.5394 -13.9283 0.0000 -119.8237 -90.1988\n",
       "independent     1.0176   0.0440  23.1346 0.0000    0.9312   1.1040\n",
       "------------------------------------------------------------------\n",
       "Omnibus:               63.269       Durbin-Watson:          1.894 \n",
       "Prob(Omnibus):         0.000        Jarque-Bera (JB):       93.738\n",
       "Skew:                  0.840        Prob(JB):               0.000 \n",
       "Kurtosis:              4.270        Condition No.:          3126  \n",
       "==================================================================\n",
       "* The condition number is large (3e+03). This might indicate\n",
       "strong multicollinearity or other numerical problems.\n",
       "\"\"\""
      ]
     },
     "execution_count": 34,
     "metadata": {},
     "output_type": "execute_result"
    }
   ],
   "source": [
    "result['summary']"
   ]
  },
  {
   "cell_type": "markdown",
   "metadata": {},
   "source": [
    "### Exercises\n",
    "+ Does age predict weight?\n",
    "+ Re-assess the correlations above using simple linear regression.\n"
   ]
  },
  {
   "cell_type": "markdown",
   "metadata": {},
   "source": [
    "### Multiple Regression\n",
    "The `course` package also provides a function to easily perform multiple regression. In this case, no plot is provided. The model needs to specified using a formula."
   ]
  },
  {
   "cell_type": "code",
   "execution_count": 35,
   "metadata": {},
   "outputs": [
    {
     "data": {
      "text/html": [
       "<table class=\"simpletable\">\n",
       "<tr>\n",
       "        <td>Model:</td>               <td>OLS</td>         <td>Adj. R-squared:</td>     <td>0.820</td>  \n",
       "</tr>\n",
       "<tr>\n",
       "  <td>Dependent Variable:</td>      <td>Weight</td>             <td>AIC:</td>         <td>3200.7034</td>\n",
       "</tr>\n",
       "<tr>\n",
       "         <td>Date:</td>        <td>2019-10-03 13:58</td>        <td>BIC:</td>         <td>3217.6175</td>\n",
       "</tr>\n",
       "<tr>\n",
       "   <td>No. Observations:</td>         <td>507</td>         <td>Log-Likelihood:</td>    <td>-1596.4</td> \n",
       "</tr>\n",
       "<tr>\n",
       "       <td>Df Model:</td>              <td>3</td>           <td>F-statistic:</td>       <td>769.7</td>  \n",
       "</tr>\n",
       "<tr>\n",
       "     <td>Df Residuals:</td>           <td>503</td>       <td>Prob (F-statistic):</td> <td>1.69e-187</td>\n",
       "</tr>\n",
       "<tr>\n",
       "      <td>R-squared:</td>            <td>0.821</td>            <td>Scale:</td>         <td>32.050</td>  \n",
       "</tr>\n",
       "</table>\n",
       "<table class=\"simpletable\">\n",
       "<tr>\n",
       "      <td></td>        <th>Coef.</th>  <th>Std.Err.</th>     <th>t</th>     <th>P>|t|</th>  <th>[0.025</th>   <th>0.975]</th> \n",
       "</tr>\n",
       "<tr>\n",
       "  <th>Intercept</th> <td>-76.7850</td>  <td>4.7514</td>  <td>-16.1606</td> <td>0.0000</td> <td>-86.1200</td> <td>-67.4500</td>\n",
       "</tr>\n",
       "<tr>\n",
       "  <th>Age</th>        <td>0.0921</td>   <td>0.0267</td>   <td>3.4554</td>  <td>0.0006</td>  <td>0.0397</td>   <td>0.1445</td> \n",
       "</tr>\n",
       "<tr>\n",
       "  <th>Bicep</th>      <td>2.0927</td>   <td>0.0744</td>   <td>28.1269</td> <td>0.0000</td>  <td>1.9466</td>   <td>2.2389</td> \n",
       "</tr>\n",
       "<tr>\n",
       "  <th>Height</th>     <td>0.4553</td>   <td>0.0331</td>   <td>13.7454</td> <td>0.0000</td>  <td>0.3902</td>   <td>0.5204</td> \n",
       "</tr>\n",
       "</table>\n",
       "<table class=\"simpletable\">\n",
       "<tr>\n",
       "     <td>Omnibus:</td>    <td>78.150</td>  <td>Durbin-Watson:</td>    <td>2.030</td> \n",
       "</tr>\n",
       "<tr>\n",
       "  <td>Prob(Omnibus):</td>  <td>0.000</td> <td>Jarque-Bera (JB):</td> <td>168.274</td>\n",
       "</tr>\n",
       "<tr>\n",
       "       <td>Skew:</td>      <td>0.837</td>     <td>Prob(JB):</td>      <td>0.000</td> \n",
       "</tr>\n",
       "<tr>\n",
       "     <td>Kurtosis:</td>    <td>5.273</td>  <td>Condition No.:</td>    <td>3342</td>  \n",
       "</tr>\n",
       "</table>"
      ],
      "text/plain": [
       "<class 'statsmodels.iolib.summary2.Summary'>\n",
       "\"\"\"\n",
       "                 Results: Ordinary least squares\n",
       "==================================================================\n",
       "Model:              OLS              Adj. R-squared:     0.820    \n",
       "Dependent Variable: Weight           AIC:                3200.7034\n",
       "Date:               2019-10-03 13:58 BIC:                3217.6175\n",
       "No. Observations:   507              Log-Likelihood:     -1596.4  \n",
       "Df Model:           3                F-statistic:        769.7    \n",
       "Df Residuals:       503              Prob (F-statistic): 1.69e-187\n",
       "R-squared:          0.821            Scale:              32.050   \n",
       "-------------------------------------------------------------------\n",
       "            Coef.    Std.Err.     t      P>|t|    [0.025    0.975] \n",
       "-------------------------------------------------------------------\n",
       "Intercept  -76.7850    4.7514  -16.1606  0.0000  -86.1200  -67.4500\n",
       "Age          0.0921    0.0267    3.4554  0.0006    0.0397    0.1445\n",
       "Bicep        2.0927    0.0744   28.1269  0.0000    1.9466    2.2389\n",
       "Height       0.4553    0.0331   13.7454  0.0000    0.3902    0.5204\n",
       "------------------------------------------------------------------\n",
       "Omnibus:              78.150       Durbin-Watson:          2.030  \n",
       "Prob(Omnibus):        0.000        Jarque-Bera (JB):       168.274\n",
       "Skew:                 0.837        Prob(JB):               0.000  \n",
       "Kurtosis:             5.273        Condition No.:          3342   \n",
       "==================================================================\n",
       "* The condition number is large (3e+03). This might indicate\n",
       "strong multicollinearity or other numerical problems.\n",
       "\"\"\""
      ]
     },
     "execution_count": 35,
     "metadata": {},
     "output_type": "execute_result"
    }
   ],
   "source": [
    "formula = 'Weight ~ Age + Bicep + Height'\n",
    "result = stats.linear_regression(formula, data)\n",
    "result['summary']"
   ]
  },
  {
   "cell_type": "markdown",
   "metadata": {},
   "source": [
    "### Multiple Regression - with a categorical variable"
   ]
  },
  {
   "cell_type": "code",
   "execution_count": 36,
   "metadata": {},
   "outputs": [
    {
     "data": {
      "text/html": [
       "<table class=\"simpletable\">\n",
       "<tr>\n",
       "        <td>Model:</td>               <td>OLS</td>         <td>Adj. R-squared:</td>     <td>0.566</td>  \n",
       "</tr>\n",
       "<tr>\n",
       "  <td>Dependent Variable:</td>      <td>Weight</td>             <td>AIC:</td>         <td>3647.4550</td>\n",
       "</tr>\n",
       "<tr>\n",
       "         <td>Date:</td>        <td>2019-10-03 13:58</td>        <td>BIC:</td>         <td>3664.3690</td>\n",
       "</tr>\n",
       "<tr>\n",
       "   <td>No. Observations:</td>         <td>507</td>         <td>Log-Likelihood:</td>    <td>-1819.7</td> \n",
       "</tr>\n",
       "<tr>\n",
       "       <td>Df Model:</td>              <td>3</td>           <td>F-statistic:</td>       <td>220.7</td>  \n",
       "</tr>\n",
       "<tr>\n",
       "     <td>Df Residuals:</td>           <td>503</td>       <td>Prob (F-statistic):</td> <td>2.48e-91</td> \n",
       "</tr>\n",
       "<tr>\n",
       "      <td>R-squared:</td>            <td>0.568</td>            <td>Scale:</td>         <td>77.359</td>  \n",
       "</tr>\n",
       "</table>\n",
       "<table class=\"simpletable\">\n",
       "<tr>\n",
       "            <td></td>              <th>Coef.</th>  <th>Std.Err.</th>    <th>t</th>     <th>P>|t|</th>  <th>[0.025</th>   <th>0.975]</th> \n",
       "</tr>\n",
       "<tr>\n",
       "  <th>Intercept</th>             <td>-43.8193</td>  <td>13.7788</td> <td>-3.1802</td> <td>0.0016</td> <td>-70.8903</td> <td>-16.7483</td>\n",
       "</tr>\n",
       "<tr>\n",
       "  <th>C(Gender)[T.1]</th>        <td>-17.1341</td>  <td>19.5625</td> <td>-0.8759</td> <td>0.3815</td> <td>-55.5683</td>  <td>21.3002</td>\n",
       "</tr>\n",
       "<tr>\n",
       "  <th>Height</th>                 <td>0.6333</td>   <td>0.0835</td>  <td>7.5842</td>  <td>0.0000</td>  <td>0.4693</td>   <td>0.7974</td> \n",
       "</tr>\n",
       "<tr>\n",
       "  <th>Height:C(Gender)[T.1]</th>  <td>0.1492</td>   <td>0.1143</td>  <td>1.3055</td>  <td>0.1923</td>  <td>-0.0754</td>  <td>0.3738</td> \n",
       "</tr>\n",
       "</table>\n",
       "<table class=\"simpletable\">\n",
       "<tr>\n",
       "     <td>Omnibus:</td>    <td>92.455</td>  <td>Durbin-Watson:</td>    <td>1.952</td> \n",
       "</tr>\n",
       "<tr>\n",
       "  <td>Prob(Omnibus):</td>  <td>0.000</td> <td>Jarque-Bera (JB):</td> <td>183.581</td>\n",
       "</tr>\n",
       "<tr>\n",
       "       <td>Skew:</td>      <td>1.011</td>     <td>Prob(JB):</td>      <td>0.000</td> \n",
       "</tr>\n",
       "<tr>\n",
       "     <td>Kurtosis:</td>    <td>5.146</td>  <td>Condition No.:</td>    <td>11343</td> \n",
       "</tr>\n",
       "</table>"
      ],
      "text/plain": [
       "<class 'statsmodels.iolib.summary2.Summary'>\n",
       "\"\"\"\n",
       "                    Results: Ordinary least squares\n",
       "========================================================================\n",
       "Model:                OLS                Adj. R-squared:       0.566    \n",
       "Dependent Variable:   Weight             AIC:                  3647.4550\n",
       "Date:                 2019-10-03 13:58   BIC:                  3664.3690\n",
       "No. Observations:     507                Log-Likelihood:       -1819.7  \n",
       "Df Model:             3                  F-statistic:          220.7    \n",
       "Df Residuals:         503                Prob (F-statistic):   2.48e-91 \n",
       "R-squared:            0.568              Scale:                77.359   \n",
       "------------------------------------------------------------------------\n",
       "                       Coef.   Std.Err.    t    P>|t|   [0.025   0.975] \n",
       "------------------------------------------------------------------------\n",
       "Intercept             -43.8193  13.7788 -3.1802 0.0016 -70.8903 -16.7483\n",
       "C(Gender)[T.1]        -17.1341  19.5625 -0.8759 0.3815 -55.5683  21.3002\n",
       "Height                  0.6333   0.0835  7.5842 0.0000   0.4693   0.7974\n",
       "Height:C(Gender)[T.1]   0.1492   0.1143  1.3055 0.1923  -0.0754   0.3738\n",
       "------------------------------------------------------------------------\n",
       "Omnibus:                92.455         Durbin-Watson:            1.952  \n",
       "Prob(Omnibus):          0.000          Jarque-Bera (JB):         183.581\n",
       "Skew:                   1.011          Prob(JB):                 0.000  \n",
       "Kurtosis:               5.146          Condition No.:            11343  \n",
       "========================================================================\n",
       "* The condition number is large (1e+04). This might indicate\n",
       "strong multicollinearity or other numerical problems.\n",
       "\"\"\""
      ]
     },
     "execution_count": 36,
     "metadata": {},
     "output_type": "execute_result"
    }
   ],
   "source": [
    "formula = 'Weight ~ Height * C(Gender)'\n",
    "result = stats.linear_regression(formula, data)\n",
    "result['summary']"
   ]
  },
  {
   "cell_type": "code",
   "execution_count": 37,
   "metadata": {},
   "outputs": [
    {
     "data": {
      "image/png": "[encoded data removed]",
      "text/plain": [
       "<Figure size 432x288 with 1 Axes>"
      ]
     },
     "metadata": {
      "needs_background": "light"
     },
     "output_type": "display_data"
    }
   ],
   "source": [
    "t = data.groupby(['Gender','Height'])\n",
    "t = t.mean()\n",
    "t = t.reset_index()\n",
    "men = t[t.Gender==1]\n",
    "women = t[t.Gender==0]\n",
    "\n",
    "pyplot.plot(men.Height,men.Weight,'r.');\n",
    "pyplot.plot(women.Height,women.Weight,'g.');"
   ]
  },
  {
   "cell_type": "markdown",
   "metadata": {},
   "source": [
    "### Multiple regression plot\n",
    "\n",
    "The easiest way to plot a multiple regression is using the ```seaborn``` package. "
   ]
  },
  {
   "cell_type": "code",
   "execution_count": 38,
   "metadata": {},
   "outputs": [
    {
     "data": {
      "image/png": "[encoded data removed]",
      "text/plain": [
       "<Figure size 404.875x360 with 1 Axes>"
      ]
     },
     "metadata": {
      "needs_background": "light"
     },
     "output_type": "display_data"
    }
   ],
   "source": [
    "import seaborn\n",
    "seaborn.lmplot(x='Height', y='Weight', hue='Gender', data=data);"
   ]
  },
  {
   "cell_type": "code",
   "execution_count": 39,
   "metadata": {},
   "outputs": [
    {
     "data": {
      "text/html": [
       "<table class=\"simpletable\">\n",
       "<tr>\n",
       "        <td>Model:</td>               <td>OLS</td>         <td>Adj. R-squared:</td>     <td>0.566</td>  \n",
       "</tr>\n",
       "<tr>\n",
       "  <td>Dependent Variable:</td>      <td>Weight</td>             <td>AIC:</td>         <td>3647.4550</td>\n",
       "</tr>\n",
       "<tr>\n",
       "         <td>Date:</td>        <td>2019-10-03 13:58</td>        <td>BIC:</td>         <td>3664.3690</td>\n",
       "</tr>\n",
       "<tr>\n",
       "   <td>No. Observations:</td>         <td>507</td>         <td>Log-Likelihood:</td>    <td>-1819.7</td> \n",
       "</tr>\n",
       "<tr>\n",
       "       <td>Df Model:</td>              <td>3</td>           <td>F-statistic:</td>       <td>220.7</td>  \n",
       "</tr>\n",
       "<tr>\n",
       "     <td>Df Residuals:</td>           <td>503</td>       <td>Prob (F-statistic):</td> <td>2.48e-91</td> \n",
       "</tr>\n",
       "<tr>\n",
       "      <td>R-squared:</td>            <td>0.568</td>            <td>Scale:</td>         <td>77.359</td>  \n",
       "</tr>\n",
       "</table>\n",
       "<table class=\"simpletable\">\n",
       "<tr>\n",
       "            <td></td>              <th>Coef.</th>  <th>Std.Err.</th>    <th>t</th>     <th>P>|t|</th>  <th>[0.025</th>   <th>0.975]</th> \n",
       "</tr>\n",
       "<tr>\n",
       "  <th>Intercept</th>             <td>-43.8193</td>  <td>13.7788</td> <td>-3.1802</td> <td>0.0016</td> <td>-70.8903</td> <td>-16.7483</td>\n",
       "</tr>\n",
       "<tr>\n",
       "  <th>C(Gender)[T.1]</th>        <td>-17.1341</td>  <td>19.5625</td> <td>-0.8759</td> <td>0.3815</td> <td>-55.5683</td>  <td>21.3002</td>\n",
       "</tr>\n",
       "<tr>\n",
       "  <th>Height</th>                 <td>0.6333</td>   <td>0.0835</td>  <td>7.5842</td>  <td>0.0000</td>  <td>0.4693</td>   <td>0.7974</td> \n",
       "</tr>\n",
       "<tr>\n",
       "  <th>Height:C(Gender)[T.1]</th>  <td>0.1492</td>   <td>0.1143</td>  <td>1.3055</td>  <td>0.1923</td>  <td>-0.0754</td>  <td>0.3738</td> \n",
       "</tr>\n",
       "</table>\n",
       "<table class=\"simpletable\">\n",
       "<tr>\n",
       "     <td>Omnibus:</td>    <td>92.455</td>  <td>Durbin-Watson:</td>    <td>1.952</td> \n",
       "</tr>\n",
       "<tr>\n",
       "  <td>Prob(Omnibus):</td>  <td>0.000</td> <td>Jarque-Bera (JB):</td> <td>183.581</td>\n",
       "</tr>\n",
       "<tr>\n",
       "       <td>Skew:</td>      <td>1.011</td>     <td>Prob(JB):</td>      <td>0.000</td> \n",
       "</tr>\n",
       "<tr>\n",
       "     <td>Kurtosis:</td>    <td>5.146</td>  <td>Condition No.:</td>    <td>11343</td> \n",
       "</tr>\n",
       "</table>"
      ],
      "text/plain": [
       "<class 'statsmodels.iolib.summary2.Summary'>\n",
       "\"\"\"\n",
       "                    Results: Ordinary least squares\n",
       "========================================================================\n",
       "Model:                OLS                Adj. R-squared:       0.566    \n",
       "Dependent Variable:   Weight             AIC:                  3647.4550\n",
       "Date:                 2019-10-03 13:58   BIC:                  3664.3690\n",
       "No. Observations:     507                Log-Likelihood:       -1819.7  \n",
       "Df Model:             3                  F-statistic:          220.7    \n",
       "Df Residuals:         503                Prob (F-statistic):   2.48e-91 \n",
       "R-squared:            0.568              Scale:                77.359   \n",
       "------------------------------------------------------------------------\n",
       "                       Coef.   Std.Err.    t    P>|t|   [0.025   0.975] \n",
       "------------------------------------------------------------------------\n",
       "Intercept             -43.8193  13.7788 -3.1802 0.0016 -70.8903 -16.7483\n",
       "C(Gender)[T.1]        -17.1341  19.5625 -0.8759 0.3815 -55.5683  21.3002\n",
       "Height                  0.6333   0.0835  7.5842 0.0000   0.4693   0.7974\n",
       "Height:C(Gender)[T.1]   0.1492   0.1143  1.3055 0.1923  -0.0754   0.3738\n",
       "------------------------------------------------------------------------\n",
       "Omnibus:                92.455         Durbin-Watson:            1.952  \n",
       "Prob(Omnibus):          0.000          Jarque-Bera (JB):         183.581\n",
       "Skew:                   1.011          Prob(JB):                 0.000  \n",
       "Kurtosis:               5.146          Condition No.:            11343  \n",
       "========================================================================\n",
       "* The condition number is large (1e+04). This might indicate\n",
       "strong multicollinearity or other numerical problems.\n",
       "\"\"\""
      ]
     },
     "execution_count": 39,
     "metadata": {},
     "output_type": "execute_result"
    }
   ],
   "source": [
    "result['summary']"
   ]
  },
  {
   "cell_type": "markdown",
   "metadata": {},
   "source": [
    "### Logistic Regression: one predictor"
   ]
  },
  {
   "cell_type": "code",
   "execution_count": 40,
   "metadata": {},
   "outputs": [
    {
     "data": {
      "image/png": "[encoded data removed]",
      "text/plain": [
       "<Figure size 432x288 with 1 Axes>"
      ]
     },
     "metadata": {
      "needs_background": "light"
     },
     "output_type": "display_data"
    }
   ],
   "source": [
    "pyplot.scatter(data.Height, data.Gender);"
   ]
  },
  {
   "cell_type": "code",
   "execution_count": 41,
   "metadata": {},
   "outputs": [
    {
     "name": "stdout",
     "output_type": "stream",
     "text": [
      "Optimization terminated successfully.\n",
      "         Current function value: 0.384208\n",
      "         Iterations 7\n"
     ]
    },
    {
     "data": {
      "image/png": "[encoded data removed]",
      "text/plain": [
       "<Figure size 432x288 with 1 Axes>"
      ]
     },
     "metadata": {
      "needs_background": "light"
     },
     "output_type": "display_data"
    }
   ],
   "source": [
    "result = stats.simple_regression('Gender', 'Height', data, typ='log');"
   ]
  },
  {
   "cell_type": "code",
   "execution_count": 42,
   "metadata": {},
   "outputs": [
    {
     "data": {
      "text/html": [
       "<table class=\"simpletable\">\n",
       "<tr>\n",
       "        <td>Model:</td>              <td>Logit</td>      <td>Pseudo R-squared:</td>    <td>0.445</td>  \n",
       "</tr>\n",
       "<tr>\n",
       "  <td>Dependent Variable:</td>     <td>dependent</td>          <td>AIC:</td>         <td>393.5864</td> \n",
       "</tr>\n",
       "<tr>\n",
       "         <td>Date:</td>        <td>2019-10-03 13:59</td>       <td>BIC:</td>         <td>402.0434</td> \n",
       "</tr>\n",
       "<tr>\n",
       "   <td>No. Observations:</td>         <td>507</td>        <td>Log-Likelihood:</td>    <td>-194.79</td> \n",
       "</tr>\n",
       "<tr>\n",
       "       <td>Df Model:</td>              <td>1</td>            <td>LL-Null:</td>        <td>-351.26</td> \n",
       "</tr>\n",
       "<tr>\n",
       "     <td>Df Residuals:</td>           <td>505</td>         <td>LLR p-value:</td>    <td>5.0192e-70</td>\n",
       "</tr>\n",
       "<tr>\n",
       "      <td>Converged:</td>           <td>1.0000</td>           <td>Scale:</td>         <td>1.0000</td>  \n",
       "</tr>\n",
       "<tr>\n",
       "    <td>No. Iterations:</td>        <td>7.0000</td>              <td></td>               <td></td>     \n",
       "</tr>\n",
       "</table>\n",
       "<table class=\"simpletable\">\n",
       "<tr>\n",
       "       <td></td>         <th>Coef.</th>  <th>Std.Err.</th>     <th>z</th>     <th>P>|z|</th>  <th>[0.025</th>   <th>0.975]</th> \n",
       "</tr>\n",
       "<tr>\n",
       "  <th>Intercept</th>   <td>-46.7633</td>  <td>4.0062</td>  <td>-11.6729</td> <td>0.0000</td> <td>-54.6152</td> <td>-38.9114</td>\n",
       "</tr>\n",
       "<tr>\n",
       "  <th>independent</th>  <td>0.2729</td>   <td>0.0234</td>   <td>11.6692</td> <td>0.0000</td>  <td>0.2271</td>   <td>0.3188</td> \n",
       "</tr>\n",
       "</table>"
      ],
      "text/plain": [
       "<class 'statsmodels.iolib.summary2.Summary'>\n",
       "\"\"\"\n",
       "                         Results: Logit\n",
       "=================================================================\n",
       "Model:              Logit            Pseudo R-squared: 0.445     \n",
       "Dependent Variable: dependent        AIC:              393.5864  \n",
       "Date:               2019-10-03 13:59 BIC:              402.0434  \n",
       "No. Observations:   507              Log-Likelihood:   -194.79   \n",
       "Df Model:           1                LL-Null:          -351.26   \n",
       "Df Residuals:       505              LLR p-value:      5.0192e-70\n",
       "Converged:          1.0000           Scale:            1.0000    \n",
       "No. Iterations:     7.0000                                       \n",
       "-----------------------------------------------------------------\n",
       "               Coef.   Std.Err.    z     P>|z|   [0.025   0.975] \n",
       "-----------------------------------------------------------------\n",
       "Intercept     -46.7633   4.0062 -11.6729 0.0000 -54.6152 -38.9114\n",
       "independent     0.2729   0.0234  11.6692 0.0000   0.2271   0.3188\n",
       "=================================================================\n",
       "\n",
       "\"\"\""
      ]
     },
     "execution_count": 42,
     "metadata": {},
     "output_type": "execute_result"
    }
   ],
   "source": [
    "result['summary']"
   ]
  },
  {
   "cell_type": "markdown",
   "metadata": {},
   "source": [
    "### Logistic regression plot using ```seaborn```"
   ]
  },
  {
   "cell_type": "code",
   "execution_count": 33,
   "metadata": {},
   "outputs": [
    {
     "data": {
      "image/png": "[encoded data removed]",
      "text/plain": [
       "<Figure size 360x360 with 1 Axes>"
      ]
     },
     "metadata": {
      "needs_background": "light"
     },
     "output_type": "display_data"
    }
   ],
   "source": [
    "seaborn.lmplot(y='Gender',x='Height', logistic=True, data=data);"
   ]
  },
  {
   "cell_type": "markdown",
   "metadata": {},
   "source": [
    "### Multiple Logistic Regression"
   ]
  },
  {
   "cell_type": "code",
   "execution_count": 34,
   "metadata": {},
   "outputs": [
    {
     "name": "stdout",
     "output_type": "stream",
     "text": [
      "Optimization terminated successfully.\n",
      "         Current function value: 0.232869\n",
      "         Iterations 8\n"
     ]
    },
    {
     "data": {
      "text/html": [
       "<table class=\"simpletable\">\n",
       "<tr>\n",
       "        <td>Model:</td>              <td>Logit</td>      <td>Pseudo R-squared:</td>    <td>0.664</td>   \n",
       "</tr>\n",
       "<tr>\n",
       "  <td>Dependent Variable:</td>      <td>Gender</td>            <td>AIC:</td>         <td>242.1297</td>  \n",
       "</tr>\n",
       "<tr>\n",
       "         <td>Date:</td>        <td>2019-04-16 10:23</td>       <td>BIC:</td>         <td>254.8152</td>  \n",
       "</tr>\n",
       "<tr>\n",
       "   <td>No. Observations:</td>         <td>507</td>        <td>Log-Likelihood:</td>    <td>-118.06</td>  \n",
       "</tr>\n",
       "<tr>\n",
       "       <td>Df Model:</td>              <td>2</td>            <td>LL-Null:</td>        <td>-351.26</td>  \n",
       "</tr>\n",
       "<tr>\n",
       "     <td>Df Residuals:</td>           <td>504</td>         <td>LLR p-value:</td>    <td>5.3099e-102</td>\n",
       "</tr>\n",
       "<tr>\n",
       "      <td>Converged:</td>           <td>1.0000</td>           <td>Scale:</td>         <td>1.0000</td>   \n",
       "</tr>\n",
       "<tr>\n",
       "    <td>No. Iterations:</td>        <td>8.0000</td>              <td></td>               <td></td>      \n",
       "</tr>\n",
       "</table>\n",
       "<table class=\"simpletable\">\n",
       "<tr>\n",
       "      <td></td>        <th>Coef.</th>  <th>Std.Err.</th>     <th>z</th>     <th>P>|z|</th>  <th>[0.025</th>   <th>0.975]</th> \n",
       "</tr>\n",
       "<tr>\n",
       "  <th>Intercept</th> <td>-54.6049</td>  <td>5.3758</td>  <td>-10.1575</td> <td>0.0000</td> <td>-65.1414</td> <td>-44.0685</td>\n",
       "</tr>\n",
       "<tr>\n",
       "  <th>Height</th>     <td>0.2151</td>   <td>0.0281</td>   <td>7.6427</td>  <td>0.0000</td>  <td>0.1599</td>   <td>0.2702</td> \n",
       "</tr>\n",
       "<tr>\n",
       "  <th>Bicep</th>      <td>0.5718</td>   <td>0.0628</td>   <td>9.1092</td>  <td>0.0000</td>  <td>0.4488</td>   <td>0.6949</td> \n",
       "</tr>\n",
       "</table>"
      ],
      "text/plain": [
       "<class 'statsmodels.iolib.summary2.Summary'>\n",
       "\"\"\"\n",
       "                          Results: Logit\n",
       "==================================================================\n",
       "Model:              Logit            Pseudo R-squared: 0.664      \n",
       "Dependent Variable: Gender           AIC:              242.1297   \n",
       "Date:               2019-04-16 10:23 BIC:              254.8152   \n",
       "No. Observations:   507              Log-Likelihood:   -118.06    \n",
       "Df Model:           2                LL-Null:          -351.26    \n",
       "Df Residuals:       504              LLR p-value:      5.3099e-102\n",
       "Converged:          1.0000           Scale:            1.0000     \n",
       "No. Iterations:     8.0000                                        \n",
       "-------------------------------------------------------------------\n",
       "            Coef.    Std.Err.     z      P>|z|    [0.025    0.975] \n",
       "-------------------------------------------------------------------\n",
       "Intercept  -54.6049    5.3758  -10.1575  0.0000  -65.1414  -44.0685\n",
       "Height       0.2151    0.0281    7.6427  0.0000    0.1599    0.2702\n",
       "Bicep        0.5718    0.0628    9.1092  0.0000    0.4488    0.6949\n",
       "==================================================================\n",
       "\n",
       "\"\"\""
      ]
     },
     "execution_count": 34,
     "metadata": {},
     "output_type": "execute_result"
    }
   ],
   "source": [
    "formula = 'Gender ~ Height + Bicep'\n",
    "result = stats.regression(formula, data, typ='log');\n",
    "result['summary']"
   ]
  },
  {
   "cell_type": "markdown",
   "metadata": {},
   "source": [
    "## Exercises\n",
    "\n",
    "### Purchases"
   ]
  },
  {
   "cell_type": "code",
   "execution_count": 35,
   "metadata": {},
   "outputs": [
    {
     "data": {
      "text/html": [
       "<div>\n",
       "<style scoped>\n",
       "    .dataframe tbody tr th:only-of-type {\n",
       "        vertical-align: middle;\n",
       "    }\n",
       "\n",
       "    .dataframe tbody tr th {\n",
       "        vertical-align: top;\n",
       "    }\n",
       "\n",
       "    .dataframe thead th {\n",
       "        text-align: right;\n",
       "    }\n",
       "</style>\n",
       "<table border=\"1\" class=\"dataframe\">\n",
       "  <thead>\n",
       "    <tr style=\"text-align: right;\">\n",
       "      <th></th>\n",
       "      <th>User ID</th>\n",
       "      <th>Gender</th>\n",
       "      <th>Age</th>\n",
       "      <th>EstimatedSalary</th>\n",
       "      <th>Purchased</th>\n",
       "    </tr>\n",
       "  </thead>\n",
       "  <tbody>\n",
       "    <tr>\n",
       "      <th>0</th>\n",
       "      <td>15624510</td>\n",
       "      <td>Male</td>\n",
       "      <td>19</td>\n",
       "      <td>19000</td>\n",
       "      <td>0</td>\n",
       "    </tr>\n",
       "    <tr>\n",
       "      <th>1</th>\n",
       "      <td>15810944</td>\n",
       "      <td>Male</td>\n",
       "      <td>35</td>\n",
       "      <td>20000</td>\n",
       "      <td>0</td>\n",
       "    </tr>\n",
       "    <tr>\n",
       "      <th>2</th>\n",
       "      <td>15668575</td>\n",
       "      <td>Female</td>\n",
       "      <td>26</td>\n",
       "      <td>43000</td>\n",
       "      <td>0</td>\n",
       "    </tr>\n",
       "    <tr>\n",
       "      <th>3</th>\n",
       "      <td>15603246</td>\n",
       "      <td>Female</td>\n",
       "      <td>27</td>\n",
       "      <td>57000</td>\n",
       "      <td>0</td>\n",
       "    </tr>\n",
       "    <tr>\n",
       "      <th>4</th>\n",
       "      <td>15804002</td>\n",
       "      <td>Male</td>\n",
       "      <td>19</td>\n",
       "      <td>76000</td>\n",
       "      <td>0</td>\n",
       "    </tr>\n",
       "  </tbody>\n",
       "</table>\n",
       "</div>"
      ],
      "text/plain": [
       "    User ID  Gender  Age  EstimatedSalary  Purchased\n",
       "0  15624510    Male   19            19000          0\n",
       "1  15810944    Male   35            20000          0\n",
       "2  15668575  Female   26            43000          0\n",
       "3  15603246  Female   27            57000          0\n",
       "4  15804002    Male   19            76000          0"
      ]
     },
     "execution_count": 35,
     "metadata": {},
     "output_type": "execute_result"
    }
   ],
   "source": [
    "data = pandas.read_csv('data/social_network.csv')\n",
    "data.head()"
   ]
  },
  {
   "cell_type": "markdown",
   "metadata": {},
   "source": [
    "* Question: Model the prability of purchase as a function of salary, and as a function of salary and gender."
   ]
  },
  {
   "cell_type": "markdown",
   "metadata": {},
   "source": [
    "### Weight loss"
   ]
  },
  {
   "cell_type": "code",
   "execution_count": 36,
   "metadata": {},
   "outputs": [
    {
     "data": {
      "text/html": [
       "<div>\n",
       "<style scoped>\n",
       "    .dataframe tbody tr th:only-of-type {\n",
       "        vertical-align: middle;\n",
       "    }\n",
       "\n",
       "    .dataframe tbody tr th {\n",
       "        vertical-align: top;\n",
       "    }\n",
       "\n",
       "    .dataframe thead th {\n",
       "        text-align: right;\n",
       "    }\n",
       "</style>\n",
       "<table border=\"1\" class=\"dataframe\">\n",
       "  <thead>\n",
       "    <tr style=\"text-align: right;\">\n",
       "      <th></th>\n",
       "      <th>group</th>\n",
       "      <th>wl1</th>\n",
       "      <th>wl2</th>\n",
       "      <th>wl3</th>\n",
       "      <th>se1</th>\n",
       "      <th>se2</th>\n",
       "      <th>se3</th>\n",
       "    </tr>\n",
       "  </thead>\n",
       "  <tbody>\n",
       "    <tr>\n",
       "      <th>1</th>\n",
       "      <td>Control</td>\n",
       "      <td>4</td>\n",
       "      <td>3</td>\n",
       "      <td>3</td>\n",
       "      <td>14</td>\n",
       "      <td>13</td>\n",
       "      <td>15</td>\n",
       "    </tr>\n",
       "    <tr>\n",
       "      <th>2</th>\n",
       "      <td>Control</td>\n",
       "      <td>4</td>\n",
       "      <td>4</td>\n",
       "      <td>3</td>\n",
       "      <td>13</td>\n",
       "      <td>14</td>\n",
       "      <td>17</td>\n",
       "    </tr>\n",
       "    <tr>\n",
       "      <th>3</th>\n",
       "      <td>Control</td>\n",
       "      <td>4</td>\n",
       "      <td>3</td>\n",
       "      <td>1</td>\n",
       "      <td>17</td>\n",
       "      <td>12</td>\n",
       "      <td>16</td>\n",
       "    </tr>\n",
       "    <tr>\n",
       "      <th>4</th>\n",
       "      <td>Control</td>\n",
       "      <td>3</td>\n",
       "      <td>2</td>\n",
       "      <td>1</td>\n",
       "      <td>11</td>\n",
       "      <td>11</td>\n",
       "      <td>12</td>\n",
       "    </tr>\n",
       "    <tr>\n",
       "      <th>5</th>\n",
       "      <td>Control</td>\n",
       "      <td>5</td>\n",
       "      <td>3</td>\n",
       "      <td>2</td>\n",
       "      <td>16</td>\n",
       "      <td>15</td>\n",
       "      <td>14</td>\n",
       "    </tr>\n",
       "  </tbody>\n",
       "</table>\n",
       "</div>"
      ],
      "text/plain": [
       "     group  wl1  wl2  wl3  se1  se2  se3\n",
       "1  Control    4    3    3   14   13   15\n",
       "2  Control    4    4    3   13   14   17\n",
       "3  Control    4    3    1   17   12   16\n",
       "4  Control    3    2    1   11   11   12\n",
       "5  Control    5    3    2   16   15   14"
      ]
     },
     "execution_count": 36,
     "metadata": {},
     "output_type": "execute_result"
    }
   ],
   "source": [
    "# https://vincentarelbundock.github.io/Rdatasets/doc/carData/WeightLoss.html\n",
    "data = pandas.read_csv('https://tinyurl.com/y7asdwuj', index_col=0)\n",
    "data.head()"
   ]
  },
  {
   "cell_type": "markdown",
   "metadata": {},
   "source": [
    "+ Question 1 : Did the diet group loose more weight (`wl1` + `wl2` + `wl3`) than the control group?\n",
    "+ Question 2 : Does the total weight loss (`wl1` + `wl2` + `wl3`) predict the gain in self-esteem (`se1` + `se2` + `se3`)?"
   ]
  },
  {
   "cell_type": "markdown",
   "metadata": {},
   "source": [
    "### Mice"
   ]
  },
  {
   "cell_type": "code",
   "execution_count": 37,
   "metadata": {},
   "outputs": [
    {
     "data": {
      "text/html": [
       "<div>\n",
       "<style scoped>\n",
       "    .dataframe tbody tr th:only-of-type {\n",
       "        vertical-align: middle;\n",
       "    }\n",
       "\n",
       "    .dataframe tbody tr th {\n",
       "        vertical-align: top;\n",
       "    }\n",
       "\n",
       "    .dataframe thead th {\n",
       "        text-align: right;\n",
       "    }\n",
       "</style>\n",
       "<table border=\"1\" class=\"dataframe\">\n",
       "  <thead>\n",
       "    <tr style=\"text-align: right;\">\n",
       "      <th></th>\n",
       "      <th>lsize</th>\n",
       "      <th>bodywt</th>\n",
       "      <th>brainwt</th>\n",
       "    </tr>\n",
       "  </thead>\n",
       "  <tbody>\n",
       "    <tr>\n",
       "      <th>1</th>\n",
       "      <td>3</td>\n",
       "      <td>9.447</td>\n",
       "      <td>0.444</td>\n",
       "    </tr>\n",
       "    <tr>\n",
       "      <th>2</th>\n",
       "      <td>3</td>\n",
       "      <td>9.780</td>\n",
       "      <td>0.436</td>\n",
       "    </tr>\n",
       "    <tr>\n",
       "      <th>3</th>\n",
       "      <td>4</td>\n",
       "      <td>9.155</td>\n",
       "      <td>0.417</td>\n",
       "    </tr>\n",
       "    <tr>\n",
       "      <th>4</th>\n",
       "      <td>4</td>\n",
       "      <td>9.613</td>\n",
       "      <td>0.429</td>\n",
       "    </tr>\n",
       "    <tr>\n",
       "      <th>5</th>\n",
       "      <td>5</td>\n",
       "      <td>8.850</td>\n",
       "      <td>0.425</td>\n",
       "    </tr>\n",
       "  </tbody>\n",
       "</table>\n",
       "</div>"
      ],
      "text/plain": [
       "   lsize  bodywt  brainwt\n",
       "1      3   9.447    0.444\n",
       "2      3   9.780    0.436\n",
       "3      4   9.155    0.417\n",
       "4      4   9.613    0.429\n",
       "5      5   8.850    0.425"
      ]
     },
     "execution_count": 37,
     "metadata": {},
     "output_type": "execute_result"
    }
   ],
   "source": [
    "# https://vincentarelbundock.github.io/Rdatasets/doc/DAAG/litters.html\n",
    "data = pandas.read_csv('https://tinyurl.com/y8o4vxtb', index_col=0)\n",
    "data.head()"
   ]
  },
  {
   "cell_type": "markdown",
   "metadata": {},
   "source": [
    "+ Question: Does the litter size affect the body weight of mice? Does it affect their brain weight?"
   ]
  },
  {
   "cell_type": "markdown",
   "metadata": {},
   "source": [
    "## Regression using the `Statsmodels` package\n"
   ]
  },
  {
   "cell_type": "code",
   "execution_count": 38,
   "metadata": {
    "scrolled": true
   },
   "outputs": [],
   "source": [
    "from statsmodels.regression.linear_model import OLS;\n",
    "import statsmodels.api as sm;"
   ]
  },
  {
   "cell_type": "markdown",
   "metadata": {},
   "source": [
    "### Example 1"
   ]
  },
  {
   "cell_type": "code",
   "execution_count": 39,
   "metadata": {},
   "outputs": [
    {
     "data": {
      "text/html": [
       "<table class=\"simpletable\">\n",
       "<caption>OLS Regression Results</caption>\n",
       "<tr>\n",
       "  <th>Dep. Variable:</th>          <td>Bicep</td>      <th>  R-squared:         </th> <td>   0.891</td> \n",
       "</tr>\n",
       "<tr>\n",
       "  <th>Model:</th>                   <td>OLS</td>       <th>  Adj. R-squared:    </th> <td>   0.890</td> \n",
       "</tr>\n",
       "<tr>\n",
       "  <th>Method:</th>             <td>Least Squares</td>  <th>  F-statistic:       </th> <td>   1372.</td> \n",
       "</tr>\n",
       "<tr>\n",
       "  <th>Date:</th>             <td>Tue, 16 Apr 2019</td> <th>  Prob (F-statistic):</th> <td>1.12e-241</td>\n",
       "</tr>\n",
       "<tr>\n",
       "  <th>Time:</th>                 <td>10:23:33</td>     <th>  Log-Likelihood:    </th> <td> -890.05</td> \n",
       "</tr>\n",
       "<tr>\n",
       "  <th>No. Observations:</th>      <td>   507</td>      <th>  AIC:               </th> <td>   1788.</td> \n",
       "</tr>\n",
       "<tr>\n",
       "  <th>Df Residuals:</th>          <td>   503</td>      <th>  BIC:               </th> <td>   1805.</td> \n",
       "</tr>\n",
       "<tr>\n",
       "  <th>Df Model:</th>              <td>     3</td>      <th>                     </th>     <td> </td>    \n",
       "</tr>\n",
       "<tr>\n",
       "  <th>Covariance Type:</th>      <td>nonrobust</td>    <th>                     </th>     <td> </td>    \n",
       "</tr>\n",
       "</table>\n",
       "<table class=\"simpletable\">\n",
       "<tr>\n",
       "     <td></td>        <th>coef</th>     <th>std err</th>      <th>t</th>      <th>P>|t|</th>  <th>[0.025</th>    <th>0.975]</th>  \n",
       "</tr>\n",
       "<tr>\n",
       "  <th>const</th>   <td>   -3.3028</td> <td>    1.171</td> <td>   -2.820</td> <td> 0.005</td> <td>   -5.603</td> <td>   -1.002</td>\n",
       "</tr>\n",
       "<tr>\n",
       "  <th>Height</th>  <td>   -0.0219</td> <td>    0.009</td> <td>   -2.492</td> <td> 0.013</td> <td>   -0.039</td> <td>   -0.005</td>\n",
       "</tr>\n",
       "<tr>\n",
       "  <th>Age</th>     <td>    0.0177</td> <td>    0.007</td> <td>    2.686</td> <td> 0.007</td> <td>    0.005</td> <td>    0.031</td>\n",
       "</tr>\n",
       "<tr>\n",
       "  <th>Forearm</th> <td>    1.4528</td> <td>    0.029</td> <td>   49.263</td> <td> 0.000</td> <td>    1.395</td> <td>    1.511</td>\n",
       "</tr>\n",
       "</table>\n",
       "<table class=\"simpletable\">\n",
       "<tr>\n",
       "  <th>Omnibus:</th>       <td>16.176</td> <th>  Durbin-Watson:     </th> <td>   1.928</td>\n",
       "</tr>\n",
       "<tr>\n",
       "  <th>Prob(Omnibus):</th> <td> 0.000</td> <th>  Jarque-Bera (JB):  </th> <td>  16.870</td>\n",
       "</tr>\n",
       "<tr>\n",
       "  <th>Skew:</th>          <td> 0.420</td> <th>  Prob(JB):          </th> <td>0.000217</td>\n",
       "</tr>\n",
       "<tr>\n",
       "  <th>Kurtosis:</th>      <td> 3.304</td> <th>  Cond. No.          </th> <td>3.30e+03</td>\n",
       "</tr>\n",
       "</table><br/><br/>Warnings:<br/>[1] Standard Errors assume that the covariance matrix of the errors is correctly specified.<br/>[2] The condition number is large, 3.3e+03. This might indicate that there are<br/>strong multicollinearity or other numerical problems."
      ],
      "text/plain": [
       "<class 'statsmodels.iolib.summary.Summary'>\n",
       "\"\"\"\n",
       "                            OLS Regression Results                            \n",
       "==============================================================================\n",
       "Dep. Variable:                  Bicep   R-squared:                       0.891\n",
       "Model:                            OLS   Adj. R-squared:                  0.890\n",
       "Method:                 Least Squares   F-statistic:                     1372.\n",
       "Date:                Tue, 16 Apr 2019   Prob (F-statistic):          1.12e-241\n",
       "Time:                        10:23:33   Log-Likelihood:                -890.05\n",
       "No. Observations:                 507   AIC:                             1788.\n",
       "Df Residuals:                     503   BIC:                             1805.\n",
       "Df Model:                           3                                         \n",
       "Covariance Type:            nonrobust                                         \n",
       "==============================================================================\n",
       "                 coef    std err          t      P>|t|      [0.025      0.975]\n",
       "------------------------------------------------------------------------------\n",
       "const         -3.3028      1.171     -2.820      0.005      -5.603      -1.002\n",
       "Height        -0.0219      0.009     -2.492      0.013      -0.039      -0.005\n",
       "Age            0.0177      0.007      2.686      0.007       0.005       0.031\n",
       "Forearm        1.4528      0.029     49.263      0.000       1.395       1.511\n",
       "==============================================================================\n",
       "Omnibus:                       16.176   Durbin-Watson:                   1.928\n",
       "Prob(Omnibus):                  0.000   Jarque-Bera (JB):               16.870\n",
       "Skew:                           0.420   Prob(JB):                     0.000217\n",
       "Kurtosis:                       3.304   Cond. No.                     3.30e+03\n",
       "==============================================================================\n",
       "\n",
       "Warnings:\n",
       "[1] Standard Errors assume that the covariance matrix of the errors is correctly specified.\n",
       "[2] The condition number is large, 3.3e+03. This might indicate that there are\n",
       "strong multicollinearity or other numerical problems.\n",
       "\"\"\""
      ]
     },
     "execution_count": 39,
     "metadata": {},
     "output_type": "execute_result"
    }
   ],
   "source": [
    "# Read in the data\n",
    "data = pandas.read_csv('data/body.csv')\n",
    "\n",
    "# Prepare the predictors\n",
    "predictors = data.loc[:,('Height','Age','Forearm')]\n",
    "X = sm.add_constant(predictors)\n",
    "\n",
    "# Define the dependent\n",
    "dependent = data.Bicep\n",
    "\n",
    "# Run the analysis and get the results\n",
    "model = OLS(dependent, X)\n",
    "fitted = model.fit()\n",
    "fitted.summary()"
   ]
  },
  {
   "cell_type": "markdown",
   "metadata": {},
   "source": [
    "### Example 2"
   ]
  },
  {
   "cell_type": "code",
   "execution_count": 40,
   "metadata": {},
   "outputs": [
    {
     "data": {
      "text/html": [
       "<table class=\"simpletable\">\n",
       "<caption>OLS Regression Results</caption>\n",
       "<tr>\n",
       "  <th>Dep. Variable:</th>         <td>Weight</td>      <th>  R-squared:         </th> <td>   0.515</td>\n",
       "</tr>\n",
       "<tr>\n",
       "  <th>Model:</th>                   <td>OLS</td>       <th>  Adj. R-squared:    </th> <td>   0.514</td>\n",
       "</tr>\n",
       "<tr>\n",
       "  <th>Method:</th>             <td>Least Squares</td>  <th>  F-statistic:       </th> <td>   535.2</td>\n",
       "</tr>\n",
       "<tr>\n",
       "  <th>Date:</th>             <td>Tue, 16 Apr 2019</td> <th>  Prob (F-statistic):</th> <td>2.83e-81</td>\n",
       "</tr>\n",
       "<tr>\n",
       "  <th>Time:</th>                 <td>10:23:34</td>     <th>  Log-Likelihood:    </th> <td> -1849.5</td>\n",
       "</tr>\n",
       "<tr>\n",
       "  <th>No. Observations:</th>      <td>   507</td>      <th>  AIC:               </th> <td>   3703.</td>\n",
       "</tr>\n",
       "<tr>\n",
       "  <th>Df Residuals:</th>          <td>   505</td>      <th>  BIC:               </th> <td>   3711.</td>\n",
       "</tr>\n",
       "<tr>\n",
       "  <th>Df Model:</th>              <td>     1</td>      <th>                     </th>     <td> </td>   \n",
       "</tr>\n",
       "<tr>\n",
       "  <th>Covariance Type:</th>      <td>nonrobust</td>    <th>                     </th>     <td> </td>   \n",
       "</tr>\n",
       "</table>\n",
       "<table class=\"simpletable\">\n",
       "<tr>\n",
       "     <td></td>       <th>coef</th>     <th>std err</th>      <th>t</th>      <th>P>|t|</th>  <th>[0.025</th>    <th>0.975]</th>  \n",
       "</tr>\n",
       "<tr>\n",
       "  <th>const</th>  <td> -105.0113</td> <td>    7.539</td> <td>  -13.928</td> <td> 0.000</td> <td> -119.824</td> <td>  -90.199</td>\n",
       "</tr>\n",
       "<tr>\n",
       "  <th>Height</th> <td>    1.0176</td> <td>    0.044</td> <td>   23.135</td> <td> 0.000</td> <td>    0.931</td> <td>    1.104</td>\n",
       "</tr>\n",
       "</table>\n",
       "<table class=\"simpletable\">\n",
       "<tr>\n",
       "  <th>Omnibus:</th>       <td>63.269</td> <th>  Durbin-Watson:     </th> <td>   1.894</td>\n",
       "</tr>\n",
       "<tr>\n",
       "  <th>Prob(Omnibus):</th> <td> 0.000</td> <th>  Jarque-Bera (JB):  </th> <td>  93.738</td>\n",
       "</tr>\n",
       "<tr>\n",
       "  <th>Skew:</th>          <td> 0.840</td> <th>  Prob(JB):          </th> <td>4.42e-21</td>\n",
       "</tr>\n",
       "<tr>\n",
       "  <th>Kurtosis:</th>      <td> 4.270</td> <th>  Cond. No.          </th> <td>3.13e+03</td>\n",
       "</tr>\n",
       "</table><br/><br/>Warnings:<br/>[1] Standard Errors assume that the covariance matrix of the errors is correctly specified.<br/>[2] The condition number is large, 3.13e+03. This might indicate that there are<br/>strong multicollinearity or other numerical problems."
      ],
      "text/plain": [
       "<class 'statsmodels.iolib.summary.Summary'>\n",
       "\"\"\"\n",
       "                            OLS Regression Results                            \n",
       "==============================================================================\n",
       "Dep. Variable:                 Weight   R-squared:                       0.515\n",
       "Model:                            OLS   Adj. R-squared:                  0.514\n",
       "Method:                 Least Squares   F-statistic:                     535.2\n",
       "Date:                Tue, 16 Apr 2019   Prob (F-statistic):           2.83e-81\n",
       "Time:                        10:23:34   Log-Likelihood:                -1849.5\n",
       "No. Observations:                 507   AIC:                             3703.\n",
       "Df Residuals:                     505   BIC:                             3711.\n",
       "Df Model:                           1                                         \n",
       "Covariance Type:            nonrobust                                         \n",
       "==============================================================================\n",
       "                 coef    std err          t      P>|t|      [0.025      0.975]\n",
       "------------------------------------------------------------------------------\n",
       "const       -105.0113      7.539    -13.928      0.000    -119.824     -90.199\n",
       "Height         1.0176      0.044     23.135      0.000       0.931       1.104\n",
       "==============================================================================\n",
       "Omnibus:                       63.269   Durbin-Watson:                   1.894\n",
       "Prob(Omnibus):                  0.000   Jarque-Bera (JB):               93.738\n",
       "Skew:                           0.840   Prob(JB):                     4.42e-21\n",
       "Kurtosis:                       4.270   Cond. No.                     3.13e+03\n",
       "==============================================================================\n",
       "\n",
       "Warnings:\n",
       "[1] Standard Errors assume that the covariance matrix of the errors is correctly specified.\n",
       "[2] The condition number is large, 3.13e+03. This might indicate that there are\n",
       "strong multicollinearity or other numerical problems.\n",
       "\"\"\""
      ]
     },
     "execution_count": 40,
     "metadata": {},
     "output_type": "execute_result"
    }
   ],
   "source": [
    "# Prepare the predictors\n",
    "predictors = data.loc[:,('Height')]\n",
    "X = sm.add_constant(predictors)\n",
    "\n",
    "# Define the dependent\n",
    "dependent = data.Weight\n",
    "\n",
    "# Run the analysis and get the results\n",
    "model = OLS(dependent, X)\n",
    "fitted = model.fit()\n",
    "fitted.summary()"
   ]
  },
  {
   "cell_type": "markdown",
   "metadata": {},
   "source": [
    "### Plot the model\n",
    "\n",
    "For a model with one predictor, we can plot the results."
   ]
  },
  {
   "cell_type": "code",
   "execution_count": 41,
   "metadata": {},
   "outputs": [
    {
     "data": {
      "text/plain": [
       "(507,)"
      ]
     },
     "execution_count": 41,
     "metadata": {},
     "output_type": "execute_result"
    }
   ],
   "source": [
    "prediction = fitted.predict(X)\n",
    "prediction.shape"
   ]
  },
  {
   "cell_type": "code",
   "execution_count": 42,
   "metadata": {},
   "outputs": [
    {
     "data": {
      "image/png": "[encoded data removed]",
      "text/plain": [
       "<Figure size 432x288 with 1 Axes>"
      ]
     },
     "metadata": {
      "needs_background": "light"
     },
     "output_type": "display_data"
    }
   ],
   "source": [
    "pyplot.scatter(predictors, dependent);\n",
    "pyplot.plot(predictors, prediction,'r-');"
   ]
  },
  {
   "cell_type": "markdown",
   "metadata": {},
   "source": [
    "### Template for a linear regression"
   ]
  },
  {
   "cell_type": "code",
   "execution_count": 43,
   "metadata": {},
   "outputs": [
    {
     "name": "stdout",
     "output_type": "stream",
     "text": [
      "                            OLS Regression Results                            \n",
      "==============================================================================\n",
      "Dep. Variable:                 Weight   R-squared:                       0.540\n",
      "Model:                            OLS   Adj. R-squared:                  0.538\n",
      "Method:                 Least Squares   F-statistic:                     295.6\n",
      "Date:                Tue, 16 Apr 2019   Prob (F-statistic):           1.17e-85\n",
      "Time:                        10:23:35   Log-Likelihood:                -1835.9\n",
      "No. Observations:                 507   AIC:                             3678.\n",
      "Df Residuals:                     504   BIC:                             3691.\n",
      "Df Model:                           2                                         \n",
      "Covariance Type:            nonrobust                                         \n",
      "==============================================================================\n",
      "                 coef    std err          t      P>|t|      [0.025      0.975]\n",
      "------------------------------------------------------------------------------\n",
      "const       -109.0638      7.388    -14.762      0.000    -123.579     -94.548\n",
      "Height         1.0023      0.043     23.326      0.000       0.918       1.087\n",
      "Age            0.2213      0.042      5.260      0.000       0.139       0.304\n",
      "==============================================================================\n",
      "Omnibus:                       63.655   Durbin-Watson:                   1.914\n",
      "Prob(Omnibus):                  0.000   Jarque-Bera (JB):               96.899\n",
      "Skew:                           0.830   Prob(JB):                     9.09e-22\n",
      "Kurtosis:                       4.353   Cond. No.                     3.19e+03\n",
      "==============================================================================\n",
      "\n",
      "Warnings:\n",
      "[1] Standard Errors assume that the covariance matrix of the errors is correctly specified.\n",
      "[2] The condition number is large, 3.19e+03. This might indicate that there are\n",
      "strong multicollinearity or other numerical problems.\n",
      "Can not plot result for multiple predictors\n"
     ]
    }
   ],
   "source": [
    "# Prepare the predictors\n",
    "predictors = data.loc[:,('Height', 'Age')]\n",
    "X = sm.add_constant(predictors)\n",
    "\n",
    "# Define the dependent\n",
    "dependent = data.Weight\n",
    "\n",
    "# Run the analysis and get the results\n",
    "model = OLS(dependent, X)\n",
    "fitted = model.fit()\n",
    "print(fitted.summary())\n",
    "\n",
    "# Get the predicted values\n",
    "prediction = fitted.predict(X)\n",
    "\n",
    "if predictors.ndim == 1:\n",
    "    pyplot.scatter(predictors, dependent);\n",
    "    pyplot.plot(predictors, prediction,'r-');\n",
    "else:\n",
    "    print('Can not plot result for multiple predictors')\n"
   ]
  }
 ],
 "metadata": {
  "kernelspec": {
   "display_name": "Python 3",
   "language": "python",
   "name": "python3"
  },
  "language_info": {
   "codemirror_mode": {
    "name": "ipython",
    "version": 3
   },
   "file_extension": ".py",
   "mimetype": "text/x-python",
   "name": "python",
   "nbconvert_exporter": "python",
   "pygments_lexer": "ipython3",
   "version": "3.7.0"
  },
  "toc": {
   "base_numbering": 1,
   "nav_menu": {},
   "number_sections": true,
   "sideBar": true,
   "skip_h1_title": true,
   "title_cell": "Table of Contents",
   "title_sidebar": "Contents",
   "toc_cell": true,
   "toc_position": {},
   "toc_section_display": true,
   "toc_window_display": true
  }
 },
 "nbformat": 4,
 "nbformat_minor": 2
}
