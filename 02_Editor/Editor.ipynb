{
 "cells": [
  {
   "cell_type": "markdown",
   "metadata": {
    "nbpresent": {
     "id": "2f0efe72-0f55-4099-8ff3-bf33aa1a034b"
    }
   },
   "source": [
    "# Overview of the editor\n",
    "\n",
    "+ Why do we use Spyder?\n",
    "+ The editor pane.\n",
    "+ The iPython console.\n",
    "+ Setting the working directory.\n",
    "\n",
    "![title](spyder.png)\n",
    "\n",
    "The image above shows the default layout of Spyder. If you ever mess up the layout and you wish to return to the default one, goto `view > window layouts > Spyder Default Layout`.\n",
    "\n",
    "+ [1] This area is where we can edit Python files (files ending in `.py`). Python files are called *programs* or *scripts*. Python programs or scripts contain a bunch of code you can run by clicking the green arrow at the top of the screen.\n",
    "\n",
    "+ [2] This is the console. Output of programs or scripts appears here. You can also type short code (called commands) and press enter. The code will be directly executed and any results will be displayed. The console is often used to test out pieces of code quickly.\n",
    "\n",
    "+ [3] The Variable Explorer shows you the variables currently in Python's memory (you need to select the `Variable Explorer` tab to see it). The Variable Explorer gives you the name of the variable, its type and --for some types-- its value.\n",
    "\n",
    "+ [4] In this field the current working directory is listed. This is the directory where Python will look for files to read by default. It is also the directory will store files by default. If Python complains about not finding a file, check whether the working directory is set correctly. **Note: when running a Python script or program using the green button, the working directory changes to the directory of the file that's being run.**\n",
    "\n",
    "# Using the console\n",
    "\n",
    "## Elementary Calculations\n",
    "\n",
    "We can use the console to perform elementary operations."
   ]
  },
  {
   "cell_type": "code",
   "execution_count": 2,
   "metadata": {
    "nbpresent": {
     "id": "3773a4f5-00fe-42fe-84ca-0f4a0fc3ec89"
    }
   },
   "outputs": [
    {
     "data": {
      "text/plain": [
       "12"
      ]
     },
     "execution_count": 2,
     "metadata": {},
     "output_type": "execute_result"
    }
   ],
   "source": [
    "5+7"
   ]
  },
  {
   "cell_type": "code",
   "execution_count": 3,
   "metadata": {
    "nbpresent": {
     "id": "854578bd-158d-4b7a-a481-f828acf81fed"
    }
   },
   "outputs": [],
   "source": [
    "7/12"
   ]
  },
  {
   "cell_type": "code",
   "execution_count": 4,
   "metadata": {
    "nbpresent": {
     "id": "9da1b01e-82d6-4342-8f1d-06a45c1b35e7"
    }
   },
   "outputs": [],
   "source": [
    "(7/12) * 12"
   ]
  },
  {
   "cell_type": "code",
   "execution_count": 5,
   "metadata": {
    "nbpresent": {
     "id": "0000a667-b72e-4c17-a4c6-4c6d5319277a"
    }
   },
   "outputs": [
    {
     "data": {
      "text/plain": [
       "5"
      ]
     },
     "execution_count": 5,
     "metadata": {},
     "output_type": "execute_result"
    }
   ],
   "source": [
    "7^2 #Bitwise XOR, not power as you might expect (see https://en.wikipedia.org/wiki/Bitwise_operation#XOR)"
   ]
  },
  {
   "cell_type": "code",
   "execution_count": 6,
   "metadata": {
    "nbpresent": {
     "id": "7d11870b-2967-41d5-8c7a-6c46aa325127"
    }
   },
   "outputs": [
    {
     "data": {
      "text/plain": [
       "49"
      ]
     },
     "execution_count": 6,
     "metadata": {},
     "output_type": "execute_result"
    }
   ],
   "source": [
    "7 ** 2 #This is how you raise to the power"
   ]
  },
  {
   "cell_type": "markdown",
   "metadata": {},
   "source": [
    "## Comparisons and Boolean Logic"
   ]
  },
  {
   "cell_type": "markdown",
   "metadata": {
    "nbpresent": {
     "id": "2f1135f8-0a16-4160-abb4-f85a1cbe7a8b"
    }
   },
   "source": [
    "Python can also do comparisons:\n",
    "\n",
    "+ \\> Greater than\n",
    "+ < Less than\n",
    "+ == Equal to\n",
    "+ != Not equal to\n",
    "+ \\>= Greater than or equal to\n",
    "+ <= Less than or equal to\n",
    "\n",
    "Python will determine whether a statement is True of False."
   ]
  },
  {
   "cell_type": "code",
   "execution_count": 7,
   "metadata": {
    "nbpresent": {
     "id": "0687d7f1-c71c-4dce-9796-866e419e887f"
    }
   },
   "outputs": [
    {
     "data": {
      "text/plain": [
       "False"
      ]
     },
     "execution_count": 7,
     "metadata": {},
     "output_type": "execute_result"
    }
   ],
   "source": [
    "(((17*3)/2)**2) * 1000 == ((3*1)**6) * 10"
   ]
  },
  {
   "cell_type": "code",
   "execution_count": 8,
   "metadata": {
    "nbpresent": {
     "id": "b13f7dca-a5f3-459d-a59d-c6fca093ff40"
    }
   },
   "outputs": [
    {
     "data": {
      "text/plain": [
       "True"
      ]
     },
     "execution_count": 8,
     "metadata": {},
     "output_type": "execute_result"
    }
   ],
   "source": [
    "(((17*3)/2)**2) * 1000 != ((3*1)**6) * 10"
   ]
  },
  {
   "cell_type": "markdown",
   "metadata": {},
   "source": [
    "Python can also do Boolean logic:\n",
    "\n",
    "+ and\n",
    "+ or\n",
    "+ not"
   ]
  },
  {
   "cell_type": "code",
   "execution_count": 1,
   "metadata": {},
   "outputs": [
    {
     "name": "stdout",
     "output_type": "stream",
     "text": [
      "True\n",
      "True\n",
      "False\n"
     ]
    }
   ],
   "source": [
    "print (1==1 and 2==2)\n",
    "print (1==1 or 1==2)\n",
    "print (not(1==1 and 2==2))"
   ]
  },
  {
   "cell_type": "markdown",
   "metadata": {
    "nbpresent": {
     "id": "c9a2616d-da2c-4724-b97b-3758935cdd2e"
    }
   },
   "source": [
    "## Variable assignment\n",
    "\n",
    "We can assign numbers to variables. This allows us to reuse them at at later stage.\n",
    "\n",
    "### Numbers"
   ]
  },
  {
   "cell_type": "code",
   "execution_count": 10,
   "metadata": {},
   "outputs": [
    {
     "name": "stdout",
     "output_type": "stream",
     "text": [
      "10\n",
      "30\n"
     ]
    },
    {
     "data": {
      "text/plain": [
       "False"
      ]
     },
     "execution_count": 10,
     "metadata": {},
     "output_type": "execute_result"
    }
   ],
   "source": [
    "a = 10\n",
    "b = 30\n",
    "print(a)\n",
    "print(b)\n",
    "a > b"
   ]
  },
  {
   "cell_type": "code",
   "execution_count": 11,
   "metadata": {},
   "outputs": [
    {
     "data": {
      "text/plain": [
       "40"
      ]
     },
     "execution_count": 11,
     "metadata": {},
     "output_type": "execute_result"
    }
   ],
   "source": [
    "a + b"
   ]
  },
  {
   "cell_type": "code",
   "execution_count": 12,
   "metadata": {},
   "outputs": [],
   "source": [
    "a ** b"
   ]
  },
  {
   "cell_type": "markdown",
   "metadata": {},
   "source": [
    "### Text\n",
    "\n",
    "Text can also be assigned to a variable."
   ]
  },
  {
   "cell_type": "code",
   "execution_count": 13,
   "metadata": {},
   "outputs": [],
   "source": [
    "a = 'this is text'"
   ]
  },
  {
   "cell_type": "markdown",
   "metadata": {},
   "source": [
    "### Boolean value\n",
    "\n",
    "Boolean values are either True or False."
   ]
  },
  {
   "cell_type": "code",
   "execution_count": 14,
   "metadata": {},
   "outputs": [],
   "source": [
    "a = 2 > 1\n",
    "a"
   ]
  },
  {
   "cell_type": "code",
   "execution_count": 15,
   "metadata": {},
   "outputs": [
    {
     "data": {
      "text/plain": [
       "False"
      ]
     },
     "execution_count": 15,
     "metadata": {},
     "output_type": "execute_result"
    }
   ],
   "source": [
    "b = False\n",
    "b"
   ]
  },
  {
   "cell_type": "markdown",
   "metadata": {},
   "source": [
    "# Basic variable types"
   ]
  },
  {
   "cell_type": "markdown",
   "metadata": {},
   "source": [
    "Using the variable viewer in spyder, discuss (1) floats, (2) integers (3) strings and (4) boolean values."
   ]
  },
  {
   "cell_type": "markdown",
   "metadata": {},
   "source": [
    "# Introduction to functions\n",
    "\n",
    "For now, introduce the concept of a function using the standard functions (not from a module). A list of standard functions can be found here:\n",
    "\n",
    "https://docs.python.org/3/library/functions.html"
   ]
  },
  {
   "cell_type": "code",
   "execution_count": 16,
   "metadata": {},
   "outputs": [
    {
     "data": {
      "text/plain": [
       "10"
      ]
     },
     "execution_count": 16,
     "metadata": {},
     "output_type": "execute_result"
    }
   ],
   "source": [
    "abs(-10)"
   ]
  },
  {
   "cell_type": "code",
   "execution_count": 17,
   "metadata": {},
   "outputs": [
    {
     "data": {
      "text/plain": [
       "10"
      ]
     },
     "execution_count": 17,
     "metadata": {},
     "output_type": "execute_result"
    }
   ],
   "source": [
    "round(10.4)"
   ]
  },
  {
   "cell_type": "code",
   "execution_count": 18,
   "metadata": {},
   "outputs": [
    {
     "data": {
      "text/plain": [
       "int"
      ]
     },
     "execution_count": 18,
     "metadata": {},
     "output_type": "execute_result"
    }
   ],
   "source": [
    "type(1)"
   ]
  },
  {
   "cell_type": "markdown",
   "metadata": {},
   "source": [
    "# Excersises\n",
    "\n",
    "+ Assign your name to a variable `my_name`.\n",
    "+ Multiply the variable by 3. What happens?\n",
    "+ Try adding 4 to `my_name`. What happens?\n",
    "+ Assign the value `10` to a variable, for example `var1`. What is the type of this variable?\n",
    "+ Divide `var1` by 2.5 and assign the result to `var2`. What is the type of var2?\n",
    "+ Multiply `var2` by 2.5 and assign the result to `var2`. What is the type of `var3`?\n",
    "\n"
   ]
  }
 ],
 "metadata": {
  "anaconda-cloud": {},
  "kernelspec": {
   "display_name": "Python 3",
   "language": "python",
   "name": "python3"
  },
  "language_info": {
   "codemirror_mode": {
    "name": "ipython",
    "version": 3
   },
   "file_extension": ".py",
   "mimetype": "text/x-python",
   "name": "python",
   "nbconvert_exporter": "python",
   "pygments_lexer": "ipython3",
   "version": "3.6.3"
  },
  "nav_menu": {},
  "toc": {
   "base_numbering": 1,
   "nav_menu": {
    "height": "171px",
    "width": "252px"
   },
   "number_sections": false,
   "sideBar": true,
   "skip_h1_title": false,
   "title_cell": "Table of Contents",
   "title_sidebar": "Contents",
   "toc_cell": false,
   "toc_position": {},
   "toc_section_display": "block",
   "toc_window_display": true
  },
  "toc_position": {
   "height": "534px",
   "left": "0px",
   "right": "812px",
   "top": "107px",
   "width": "212px"
  }
 },
 "nbformat": 4,
 "nbformat_minor": 1
}
