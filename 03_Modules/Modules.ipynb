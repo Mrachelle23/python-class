{
 "cells": [
  {
   "cell_type": "markdown",
   "metadata": {
    "toc": "true"
   },
   "source": [
    "<h1>Table of Contents<span class=\"tocSkip\"></span></h1>\n",
    "<div class=\"toc\"><ul class=\"toc-item\"><li><span><a href=\"#The-Math-Module\" data-toc-modified-id=\"The-Math-Module-1\"><span class=\"toc-item-num\">1&nbsp;&nbsp;</span>The Math Module</a></span><ul class=\"toc-item\"><li><span><a href=\"#Functions\" data-toc-modified-id=\"Functions-1.1\"><span class=\"toc-item-num\">1.1&nbsp;&nbsp;</span>Functions</a></span></li><li><span><a href=\"#Constants\" data-toc-modified-id=\"Constants-1.2\"><span class=\"toc-item-num\">1.2&nbsp;&nbsp;</span>Constants</a></span></li></ul></li><li><span><a href=\"#The-Random-Module\" data-toc-modified-id=\"The-Random-Module-2\"><span class=\"toc-item-num\">2&nbsp;&nbsp;</span>The Random Module</a></span></li><li><span><a href=\"#The-Time-Module\" data-toc-modified-id=\"The-Time-Module-3\"><span class=\"toc-item-num\">3&nbsp;&nbsp;</span>The Time Module</a></span><ul class=\"toc-item\"><li><span><a href=\"#Timing-things\" data-toc-modified-id=\"Timing-things-3.1\"><span class=\"toc-item-num\">3.1&nbsp;&nbsp;</span>Timing things</a></span></li><li><span><a href=\"#Printing-the-time\" data-toc-modified-id=\"Printing-the-time-3.2\"><span class=\"toc-item-num\">3.2&nbsp;&nbsp;</span>Printing the time</a></span></li></ul></li><li><span><a href=\"#First-program\" data-toc-modified-id=\"First-program-4\"><span class=\"toc-item-num\">4&nbsp;&nbsp;</span>First program</a></span></li><li><span><a href=\"#Exercises\" data-toc-modified-id=\"Exercises-5\"><span class=\"toc-item-num\">5&nbsp;&nbsp;</span>Exercises</a></span></li></ul></div>"
   ]
  },
  {
   "cell_type": "markdown",
   "metadata": {},
   "source": [
    "# Modules\n",
    "See `.odp` file for an introduction on modules.\n",
    "\n",
    "\n",
    "Starting from the concept of a function, we will introduce modules as additional sets of functions. Python comes standard with a large number of modules, listed here: https://docs.python.org/3/py-modindex.html. However, we installed anaconda Python which comes with even more additional modules, listed here: https://docs.continuum.io/anaconda/pkg-docs.\n",
    "\n",
    "## The Math Module\n",
    "\n",
    "The Math module is a standard Python module. See https://docs.python.org/3/library/math.html for the complete documentation of the Math module.\n",
    "\n",
    "### Functions"
   ]
  },
  {
   "cell_type": "code",
   "execution_count": 1,
   "metadata": {},
   "outputs": [
    {
     "data": {
      "text/plain": [
       "111.15304764152893"
      ]
     },
     "execution_count": 1,
     "metadata": {},
     "output_type": "execute_result"
    }
   ],
   "source": [
    "import math\n",
    "a = math.sqrt(12355)\n",
    "a"
   ]
  },
  {
   "cell_type": "code",
   "execution_count": 2,
   "metadata": {},
   "outputs": [
    {
     "data": {
      "text/plain": [
       "0.8414709848078965"
      ]
     },
     "execution_count": 2,
     "metadata": {},
     "output_type": "execute_result"
    }
   ],
   "source": [
    "b = math.sin(1)\n",
    "b"
   ]
  },
  {
   "cell_type": "markdown",
   "metadata": {},
   "source": [
    "### Constants"
   ]
  },
  {
   "cell_type": "code",
   "execution_count": 3,
   "metadata": {},
   "outputs": [],
   "source": [
    "p = math.pi"
   ]
  },
  {
   "cell_type": "markdown",
   "metadata": {},
   "source": [
    "## The Random Module\n",
    "\n",
    "This is another standard Python module. See https://docs.python.org/3/library/random.html for the complete documentation of the Random module."
   ]
  },
  {
   "cell_type": "code",
   "execution_count": 4,
   "metadata": {},
   "outputs": [
    {
     "data": {
      "text/plain": [
       "0.47561907968588857"
      ]
     },
     "execution_count": 4,
     "metadata": {},
     "output_type": "execute_result"
    }
   ],
   "source": [
    "import random\n",
    "\n",
    "# a random number between 0 and 1\n",
    "random.random()"
   ]
  },
  {
   "cell_type": "code",
   "execution_count": 5,
   "metadata": {},
   "outputs": [
    {
     "data": {
      "text/plain": [
       "3.692852477685965"
      ]
     },
     "execution_count": 5,
     "metadata": {},
     "output_type": "execute_result"
    }
   ],
   "source": [
    "# a random number from a Gaussian distribution\n",
    "random.gauss(1, 3)"
   ]
  },
  {
   "cell_type": "markdown",
   "metadata": {},
   "source": [
    "## The Time Module\n",
    "The `time` module gives access to a number of timing functions. Here, we only cover a few of the things the module can be used for."
   ]
  },
  {
   "cell_type": "markdown",
   "metadata": {},
   "source": [
    "### Timing things"
   ]
  },
  {
   "cell_type": "code",
   "execution_count": 6,
   "metadata": {},
   "outputs": [],
   "source": [
    "import time"
   ]
  },
  {
   "cell_type": "markdown",
   "metadata": {},
   "source": [
    "The function `time()` return the time since an specific reference time and date. This reference point is platform dependent. For Unix, the reference is January 1, 1970, 00:00:00 (UTC). To find out what the epoch is on a given platform, look at `time.gmtime(0)`."
   ]
  },
  {
   "cell_type": "code",
   "execution_count": 7,
   "metadata": {},
   "outputs": [
    {
     "name": "stdout",
     "output_type": "stream",
     "text": [
      "1536258168.5664384\n"
     ]
    }
   ],
   "source": [
    "print(time.time())"
   ]
  },
  {
   "cell_type": "code",
   "execution_count": 8,
   "metadata": {},
   "outputs": [
    {
     "data": {
      "text/plain": [
       "time.struct_time(tm_year=1970, tm_mon=1, tm_mday=1, tm_hour=0, tm_min=0, tm_sec=0, tm_wday=3, tm_yday=1, tm_isdst=0)"
      ]
     },
     "execution_count": 8,
     "metadata": {},
     "output_type": "execute_result"
    }
   ],
   "source": [
    "time.gmtime(0)"
   ]
  },
  {
   "cell_type": "markdown",
   "metadata": {},
   "source": [
    "Altough the reference point for the `time()` function is arbitrary, we can still use it to measure time."
   ]
  },
  {
   "cell_type": "code",
   "execution_count": 9,
   "metadata": {},
   "outputs": [
    {
     "name": "stdout",
     "output_type": "stream",
     "text": [
      "This took me 0.10704994201660156 milliseconds\n"
     ]
    }
   ],
   "source": [
    "start = time.time()\n",
    "\n",
    "(math.pi * math.pi) ** 0.25\n",
    "\n",
    "completed = time.time()\n",
    "duration = (completed - start) * 1000 #Take the difference and convert to milliseconds (1/1000th of a second)\n",
    "print('This took me', duration, 'milliseconds') "
   ]
  },
  {
   "cell_type": "markdown",
   "metadata": {},
   "source": [
    "### Printing the time\n",
    "\n",
    "The time module has a an easy way to get the current time and date in a standard format (as text)."
   ]
  },
  {
   "cell_type": "code",
   "execution_count": 10,
   "metadata": {},
   "outputs": [
    {
     "name": "stdout",
     "output_type": "stream",
     "text": [
      "Thu Sep  6 14:22:48 2018\n"
     ]
    }
   ],
   "source": [
    "print(time.asctime())"
   ]
  },
  {
   "cell_type": "markdown",
   "metadata": {},
   "source": [
    "The module can also be used to print the current time and date in a specified format . The format is a string with placeholders in it. Python will replace these placeholders with the correct values. The place holders you can use are listed here: https://docs.python.org/3/library/time.html#time.strftime"
   ]
  },
  {
   "cell_type": "code",
   "execution_count": 11,
   "metadata": {},
   "outputs": [
    {
     "name": "stdout",
     "output_type": "stream",
     "text": [
      "This is the 36th week of the year. The current month is September.\n"
     ]
    }
   ],
   "source": [
    "formatting = 'This is the %Wth week of the year. The current month is %B.'\n",
    "result = time.strftime(formatting)\n",
    "print(result)"
   ]
  },
  {
   "cell_type": "markdown",
   "metadata": {},
   "source": [
    "## First program\n",
    "\n",
    "Here we start working with the editor. I'll explain\n",
    "+ How to enter a script\n",
    "+ How to save it\n",
    "+ How to run it\n",
    "\n",
    "Example script"
   ]
  },
  {
   "cell_type": "code",
   "execution_count": 12,
   "metadata": {},
   "outputs": [
    {
     "name": "stdout",
     "output_type": "stream",
     "text": [
      "7\n",
      "49\n",
      "28\n",
      "343\n"
     ]
    }
   ],
   "source": [
    "side = 7\n",
    "area = side * side\n",
    "circumference = side * 4\n",
    "volume = side**3\n",
    "\n",
    "print(side)\n",
    "print(area)\n",
    "print(circumference)\n",
    "print(volume)"
   ]
  },
  {
   "cell_type": "markdown",
   "metadata": {},
   "source": [
    "## Exercises\n",
    "\n",
    "+ Write a script that assigns a radius to a variable. Next, the script uses this radius to calculate the surface area  or the volume of sphere, using `math.pi`. Print the result to the screen.\n",
    "+ Write a script that prints the number of remaining days in the year.\n",
    "+ Print a script that prints out what percentage of the year has passed.\n",
    "+ Write a script that calculates the simple interest $i$ given a starting capital $p$, an interest rate `r`, and a duration in years $y$. The equation is:\n",
    "\n",
    "$$i = p \\times r \\times y$$\n",
    "\n",
    "The interest rate `r` should be entered as a percentage. However, the equation assumes the decimal notation.\n",
    "\n",
    "+ Expand the previous script to also print out the compounded interest:\n",
    "\n",
    "$$i = p \\times (1 + r)^y$$\n",
    "\n",
    "\n",
    "+ Suppose we want to develop a game in which a character throws a projectile at the player. The character throws the projectile with a random angle in the range [30-45] degrees and with a speed in the range of [5-10] m/s. Write a script that calculates, for a single throw, how far the projectile travels ($d$) and how long it is airborn ($t$). These are the relevant equations (see https://en.wikipedia.org/wiki/Projectile_motion):\n",
    "\n",
    "$$ t= \\frac{2 v_0 sin(\\theta)}{g}$$\n",
    "\n",
    "$$ d = \\frac{v_0^2}{g} \\times sin(2\\theta)$$"
   ]
  }
 ],
 "metadata": {
  "kernelspec": {
   "display_name": "Python 3",
   "language": "python",
   "name": "python3"
  },
  "language_info": {
   "codemirror_mode": {
    "name": "ipython",
    "version": 3
   },
   "file_extension": ".py",
   "mimetype": "text/x-python",
   "name": "python",
   "nbconvert_exporter": "python",
   "pygments_lexer": "ipython3",
   "version": "3.6.4"
  },
  "toc": {
   "base_numbering": 1,
   "nav_menu": {
    "height": "120px",
    "width": "252px"
   },
   "number_sections": true,
   "sideBar": true,
   "skip_h1_title": true,
   "title_cell": "Table of Contents",
   "title_sidebar": "Contents",
   "toc_cell": true,
   "toc_position": {},
   "toc_section_display": "block",
   "toc_window_display": true
  }
 },
 "nbformat": 4,
 "nbformat_minor": 2
}
