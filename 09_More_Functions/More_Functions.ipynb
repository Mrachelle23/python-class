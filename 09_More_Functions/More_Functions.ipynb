{
 "cells": [
  {
   "cell_type": "markdown",
   "metadata": {},
   "source": [
    "# Some Advanced Topics\n",
    "\n",
    "## Default argument values\n",
    "\n",
    "A function can be defined with default argument values. Arguments without defaults should preceed those with default values."
   ]
  },
  {
   "cell_type": "code",
   "execution_count": 1,
   "metadata": {},
   "outputs": [],
   "source": [
    "def power(x, pw=2):\n",
    "    return x ** pw"
   ]
  },
  {
   "cell_type": "code",
   "execution_count": 2,
   "metadata": {},
   "outputs": [
    {
     "data": {
      "text/plain": [
       "4"
      ]
     },
     "execution_count": 2,
     "metadata": {},
     "output_type": "execute_result"
    }
   ],
   "source": [
    "power(2)"
   ]
  },
  {
   "cell_type": "code",
   "execution_count": 3,
   "metadata": {},
   "outputs": [
    {
     "data": {
      "text/plain": [
       "8"
      ]
     },
     "execution_count": 3,
     "metadata": {},
     "output_type": "execute_result"
    }
   ],
   "source": [
    "power(2, 3)"
   ]
  },
  {
   "cell_type": "markdown",
   "metadata": {},
   "source": [
    "When reading Python documentation, you'll often find functions that take many arguments. However, most of those have default values and only need to be provided if you want to override the defaults. In documentation, arguments with default values are said to be optional. They can be listed between square brackets or their default values can be states in the documentation.\n",
    "\n",
    "+ Example 1: `random.randrange(start, stop[, step])`\n",
    "+ Example 2: `matplotlib.pyplot.bar(left, height, width=0.8, bottom=None, hold=None, data=None)`"
   ]
  },
  {
   "cell_type": "markdown",
   "metadata": {},
   "source": [
    "## Variable number of arguments\n",
    "\n",
    "Python allows defining functions with a variable number of arguments. This means that the function can be called providing variable number of arguments. This is done by specifying a special type of argument.\n",
    "\n",
    "+ Argument preceeded by a single asterisk (`*args`): a variable number of unnamed arguments\n",
    "+ Argument preceeded by double asterisk: (`**args`): a variable number of keyword arguments"
   ]
  },
  {
   "cell_type": "code",
   "execution_count": 4,
   "metadata": {},
   "outputs": [
    {
     "name": "stdout",
     "output_type": "stream",
     "text": [
      "1 2 (3, 'test')\n",
      "3\n",
      "test\n"
     ]
    }
   ],
   "source": [
    "def my_function(a,b, *args):\n",
    "    print(a,b,args)\n",
    "    print(args[0])\n",
    "    print(args[1])\n",
    "\n",
    "my_function(1,2,3,'test')"
   ]
  },
  {
   "cell_type": "code",
   "execution_count": 5,
   "metadata": {},
   "outputs": [
    {
     "name": "stdout",
     "output_type": "stream",
     "text": [
      "1 2 {'test1': 3, 'test2': 'test'}\n",
      "3\n",
      "test\n"
     ]
    }
   ],
   "source": [
    "def my_function(a,b, **args):\n",
    "    print(a,b,args)\n",
    "    print(args['test1'])\n",
    "    print(args['test2'])\n",
    "\n",
    "my_function(1,2,test1=3,test2='test')"
   ]
  }
 ],
 "metadata": {
  "kernelspec": {
   "display_name": "Python 3",
   "language": "python",
   "name": "python3"
  },
  "language_info": {
   "codemirror_mode": {
    "name": "ipython",
    "version": 3
   },
   "file_extension": ".py",
   "mimetype": "text/x-python",
   "name": "python",
   "nbconvert_exporter": "python",
   "pygments_lexer": "ipython3",
   "version": "3.6.4"
  },
  "toc": {
   "base_numbering": 1,
   "nav_menu": {
    "height": "53px",
    "width": "252px"
   },
   "number_sections": true,
   "sideBar": true,
   "skip_h1_title": false,
   "title_cell": "Table of Contents",
   "title_sidebar": "Contents",
   "toc_cell": false,
   "toc_position": {},
   "toc_section_display": "block",
   "toc_window_display": true
  }
 },
 "nbformat": 4,
 "nbformat_minor": 2
}
