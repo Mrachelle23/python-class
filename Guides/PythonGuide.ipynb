{
 "cells": [
  {
   "cell_type": "markdown",
   "metadata": {
    "toc": "true"
   },
   "source": [
    "# Table of Contents\n",
    " <p><div class=\"lev1 toc-item\"><a href=\"#Guide-for-the-confused\" data-toc-modified-id=\"Guide-for-the-confused-1\"><span class=\"toc-item-num\">1&nbsp;&nbsp;</span>Guide for the confused</a></div><div class=\"lev2 toc-item\"><a href=\"#Assigning-stuff-to-variables\" data-toc-modified-id=\"Assigning-stuff-to-variables-11\"><span class=\"toc-item-num\">1.1&nbsp;&nbsp;</span>Assigning stuff to variables</a></div><div class=\"lev2 toc-item\"><a href=\"#Checking-whether-things-are-true-or-false\" data-toc-modified-id=\"Checking-whether-things-are-true-or-false-12\"><span class=\"toc-item-num\">1.2&nbsp;&nbsp;</span>Checking whether things are true or false</a></div><div class=\"lev2 toc-item\"><a href=\"#Converting-between-types---some-possible-conversions\" data-toc-modified-id=\"Converting-between-types---some-possible-conversions-13\"><span class=\"toc-item-num\">1.3&nbsp;&nbsp;</span>Converting between types - some possible conversions</a></div><div class=\"lev2 toc-item\"><a href=\"#Working-with-strings\" data-toc-modified-id=\"Working-with-strings-14\"><span class=\"toc-item-num\">1.4&nbsp;&nbsp;</span>Working with strings</a></div><div class=\"lev3 toc-item\"><a href=\"#Getting-parts-of-a-string\" data-toc-modified-id=\"Getting-parts-of-a-string-141\"><span class=\"toc-item-num\">1.4.1&nbsp;&nbsp;</span>Getting parts of a string</a></div><div class=\"lev3 toc-item\"><a href=\"#length-of-a-string\" data-toc-modified-id=\"length-of-a-string-142\"><span class=\"toc-item-num\">1.4.2&nbsp;&nbsp;</span>length of a string</a></div><div class=\"lev3 toc-item\"><a href=\"#Operations-on-strings\" data-toc-modified-id=\"Operations-on-strings-143\"><span class=\"toc-item-num\">1.4.3&nbsp;&nbsp;</span>Operations on strings</a></div><div class=\"lev3 toc-item\"><a href=\"#Finding-in-strings\" data-toc-modified-id=\"Finding-in-strings-144\"><span class=\"toc-item-num\">1.4.4&nbsp;&nbsp;</span>Finding in strings</a></div><div class=\"lev3 toc-item\"><a href=\"#Concatenation-of-strings\" data-toc-modified-id=\"Concatenation-of-strings-145\"><span class=\"toc-item-num\">1.4.5&nbsp;&nbsp;</span>Concatenation of strings</a></div><div class=\"lev2 toc-item\"><a href=\"#Working-with-lists\" data-toc-modified-id=\"Working-with-lists-15\"><span class=\"toc-item-num\">1.5&nbsp;&nbsp;</span>Working with lists</a></div><div class=\"lev3 toc-item\"><a href=\"#Length-of-a-list\" data-toc-modified-id=\"Length-of-a-list-151\"><span class=\"toc-item-num\">1.5.1&nbsp;&nbsp;</span>Length of a list</a></div><div class=\"lev3 toc-item\"><a href=\"#Appending-to-a-list\" data-toc-modified-id=\"Appending-to-a-list-152\"><span class=\"toc-item-num\">1.5.2&nbsp;&nbsp;</span>Appending to a list</a></div><div class=\"lev3 toc-item\"><a href=\"#Getting-parts-of-a-list\" data-toc-modified-id=\"Getting-parts-of-a-list-153\"><span class=\"toc-item-num\">1.5.3&nbsp;&nbsp;</span>Getting parts of a list</a></div><div class=\"lev3 toc-item\"><a href=\"#Finding-in-a-list\" data-toc-modified-id=\"Finding-in-a-list-154\"><span class=\"toc-item-num\">1.5.4&nbsp;&nbsp;</span>Finding in a list</a></div><div class=\"lev3 toc-item\"><a href=\"#Removing-from-a-list,-by-index\" data-toc-modified-id=\"Removing-from-a-list,-by-index-155\"><span class=\"toc-item-num\">1.5.5&nbsp;&nbsp;</span>Removing from a list, by index</a></div><div class=\"lev3 toc-item\"><a href=\"#Removing-from-a-list,-by-item\" data-toc-modified-id=\"Removing-from-a-list,-by-item-156\"><span class=\"toc-item-num\">1.5.6&nbsp;&nbsp;</span>Removing from a list, by item</a></div><div class=\"lev2 toc-item\"><a href=\"#Math-Module\" data-toc-modified-id=\"Math-Module-16\"><span class=\"toc-item-num\">1.6&nbsp;&nbsp;</span>Math Module</a></div><div class=\"lev3 toc-item\"><a href=\"#Some-relevant-functions\" data-toc-modified-id=\"Some-relevant-functions-161\"><span class=\"toc-item-num\">1.6.1&nbsp;&nbsp;</span>Some relevant functions</a></div><div class=\"lev3 toc-item\"><a href=\"#Angles-should-be-expressed-as-radians!\" data-toc-modified-id=\"Angles-should-be-expressed-as-radians!-162\"><span class=\"toc-item-num\">1.6.2&nbsp;&nbsp;</span>Angles should be expressed as radians!</a></div><div class=\"lev2 toc-item\"><a href=\"#Random-module\" data-toc-modified-id=\"Random-module-17\"><span class=\"toc-item-num\">1.7&nbsp;&nbsp;</span>Random module</a></div><div class=\"lev3 toc-item\"><a href=\"#Random-operations-on-lists\" data-toc-modified-id=\"Random-operations-on-lists-171\"><span class=\"toc-item-num\">1.7.1&nbsp;&nbsp;</span>Random operations on lists</a></div><div class=\"lev2 toc-item\"><a href=\"#Random-numbers\" data-toc-modified-id=\"Random-numbers-18\"><span class=\"toc-item-num\">1.8&nbsp;&nbsp;</span>Random numbers</a></div><div class=\"lev2 toc-item\"><a href=\"#Flow-Control\" data-toc-modified-id=\"Flow-Control-19\"><span class=\"toc-item-num\">1.9&nbsp;&nbsp;</span>Flow Control</a></div><div class=\"lev3 toc-item\"><a href=\"#If-statement\" data-toc-modified-id=\"If-statement-191\"><span class=\"toc-item-num\">1.9.1&nbsp;&nbsp;</span>If statement</a></div><div class=\"lev3 toc-item\"><a href=\"#For-statement\" data-toc-modified-id=\"For-statement-192\"><span class=\"toc-item-num\">1.9.2&nbsp;&nbsp;</span>For statement</a></div><div class=\"lev3 toc-item\"><a href=\"#Using-the-for-statement-to-repeat-something-a-fixed-number-of-times\" data-toc-modified-id=\"Using-the-for-statement-to-repeat-something-a-fixed-number-of-times-193\"><span class=\"toc-item-num\">1.9.3&nbsp;&nbsp;</span>Using the for statement to repeat something a fixed number of times</a></div><div class=\"lev3 toc-item\"><a href=\"#While-statement\" data-toc-modified-id=\"While-statement-194\"><span class=\"toc-item-num\">1.9.4&nbsp;&nbsp;</span>While statement</a></div><div class=\"lev2 toc-item\"><a href=\"#Functions\" data-toc-modified-id=\"Functions-110\"><span class=\"toc-item-num\">1.10&nbsp;&nbsp;</span>Functions</a></div><div class=\"lev3 toc-item\"><a href=\"#A-function-with-one-input-and-one-output\" data-toc-modified-id=\"A-function-with-one-input-and-one-output-1101\"><span class=\"toc-item-num\">1.10.1&nbsp;&nbsp;</span>A function with one input and one output</a></div><div class=\"lev3 toc-item\"><a href=\"#A-function-with-three-inputs-and-one-output\" data-toc-modified-id=\"A-function-with-three-inputs-and-one-output-1102\"><span class=\"toc-item-num\">1.10.2&nbsp;&nbsp;</span>A function with three inputs and one output</a></div><div class=\"lev3 toc-item\"><a href=\"#A-function-with-three-inputs-and-two-outputs\" data-toc-modified-id=\"A-function-with-three-inputs-and-two-outputs-1103\"><span class=\"toc-item-num\">1.10.3&nbsp;&nbsp;</span>A function with three inputs and two outputs</a></div>"
   ]
  },
  {
   "cell_type": "markdown",
   "metadata": {},
   "source": [
    "# Guide for the confused\n",
    "\n",
    "## Assigning stuff to variables"
   ]
  },
  {
   "cell_type": "code",
   "execution_count": 2,
   "metadata": {
    "collapsed": false
   },
   "outputs": [
    {
     "name": "stdout",
     "output_type": "stream",
     "text": [
      "10 indiana jones\n"
     ]
    }
   ],
   "source": [
    "my_var = 10\n",
    "another_var = 'indiana jones'\n",
    "print(my_var, another_var)"
   ]
  },
  {
   "cell_type": "markdown",
   "metadata": {},
   "source": [
    "## Checking whether things are true or false"
   ]
  },
  {
   "cell_type": "code",
   "execution_count": 3,
   "metadata": {
    "collapsed": false
   },
   "outputs": [
    {
     "name": "stdout",
     "output_type": "stream",
     "text": [
      "True\n",
      "True\n",
      "False\n",
      "True\n",
      "True\n"
     ]
    }
   ],
   "source": [
    "\n",
    "print(my_var > 0)\n",
    "print(my_var != 0) # not equal to\n",
    "print(my_var == 100) # equal to\n",
    "print(my_var == 10 and another_var == 'indiana jones')\n",
    "print(my_var == 10 or another_var == 'batman')"
   ]
  },
  {
   "cell_type": "markdown",
   "metadata": {},
   "source": [
    "## Converting between types - some possible conversions"
   ]
  },
  {
   "cell_type": "code",
   "execution_count": 4,
   "metadata": {
    "collapsed": false
   },
   "outputs": [
    {
     "name": "stdout",
     "output_type": "stream",
     "text": [
      "15.5\n",
      "15\n",
      "False\n",
      "10000\n",
      "15.5\n",
      "10000.0\n",
      "0.0\n",
      "0\n"
     ]
    }
   ],
   "source": [
    "a_float = 15.5\n",
    "an_int = 10000\n",
    "a_boolean = False\n",
    "\n",
    "print(str(a_float))\n",
    "print(int(a_float))\n",
    "\n",
    "print(str(a_boolean))\n",
    "print(str(an_int))\n",
    "print(str(a_float))\n",
    "\n",
    "print(float(an_int))\n",
    "print(float(a_boolean))\n",
    "print(int(a_boolean))"
   ]
  },
  {
   "cell_type": "markdown",
   "metadata": {},
   "source": [
    "## Working with strings"
   ]
  },
  {
   "cell_type": "code",
   "execution_count": 5,
   "metadata": {
    "collapsed": false
   },
   "outputs": [
    {
     "name": "stdout",
     "output_type": "stream",
     "text": [
      "psychology!\n"
     ]
    }
   ],
   "source": [
    "my_text = 'psychology!'\n",
    "print(my_text)"
   ]
  },
  {
   "cell_type": "markdown",
   "metadata": {},
   "source": [
    "### Getting parts of a string"
   ]
  },
  {
   "cell_type": "code",
   "execution_count": 6,
   "metadata": {
    "collapsed": false
   },
   "outputs": [
    {
     "name": "stdout",
     "output_type": "stream",
     "text": [
      "p\n",
      "psych\n",
      "ology!\n"
     ]
    }
   ],
   "source": [
    "print(my_text[0]) \n",
    "print(my_text[0:5]) \n",
    "print(my_text[5:])"
   ]
  },
  {
   "cell_type": "markdown",
   "metadata": {},
   "source": [
    "### length of a string"
   ]
  },
  {
   "cell_type": "code",
   "execution_count": 7,
   "metadata": {
    "collapsed": false
   },
   "outputs": [
    {
     "name": "stdout",
     "output_type": "stream",
     "text": [
      "11\n"
     ]
    }
   ],
   "source": [
    "print(len(my_text))"
   ]
  },
  {
   "cell_type": "markdown",
   "metadata": {},
   "source": [
    "### Operations on strings"
   ]
  },
  {
   "cell_type": "code",
   "execution_count": 8,
   "metadata": {
    "collapsed": false
   },
   "outputs": [
    {
     "name": "stdout",
     "output_type": "stream",
     "text": [
      "Psychology!\n",
      "PSYCHOLOGY!\n",
      "psychology!\n",
      "ychology!\n",
      "psychology\n",
      "2\n",
      "psychxlxgy!\n"
     ]
    }
   ],
   "source": [
    "print(my_text.capitalize())\n",
    "print(my_text.upper())\n",
    "print(my_text.lower())\n",
    "print(my_text.lstrip('ps')) \n",
    "print(my_text.rstrip('!'))\n",
    "print(my_text.count('o')) \n",
    "print(my_text.replace('o','x')) "
   ]
  },
  {
   "cell_type": "markdown",
   "metadata": {},
   "source": [
    "### Finding in strings"
   ]
  },
  {
   "cell_type": "code",
   "execution_count": 9,
   "metadata": {
    "collapsed": false
   },
   "outputs": [
    {
     "name": "stdout",
     "output_type": "stream",
     "text": [
      "True\n",
      "5\n"
     ]
    }
   ],
   "source": [
    "print('ology' in my_text)\n",
    "print(my_text.index('o'))"
   ]
  },
  {
   "cell_type": "markdown",
   "metadata": {},
   "source": [
    "### Concatenation of strings"
   ]
  },
  {
   "cell_type": "code",
   "execution_count": 10,
   "metadata": {
    "collapsed": false
   },
   "outputs": [
    {
     "name": "stdout",
     "output_type": "stream",
     "text": [
      "batman & robin\n"
     ]
    }
   ],
   "source": [
    "print('batman' + ' & ' + 'robin')"
   ]
  },
  {
   "cell_type": "markdown",
   "metadata": {},
   "source": [
    "## Working with lists"
   ]
  },
  {
   "cell_type": "code",
   "execution_count": 11,
   "metadata": {
    "collapsed": false
   },
   "outputs": [],
   "source": [
    "reindeer = ['Dasher', 'Dancer','Prancer','Vixen', 'Comet']\n",
    "more_reindeer = ['Cupid','Donner','Blitzen']"
   ]
  },
  {
   "cell_type": "markdown",
   "metadata": {},
   "source": [
    "### Length of a list"
   ]
  },
  {
   "cell_type": "code",
   "execution_count": 12,
   "metadata": {
    "collapsed": false
   },
   "outputs": [
    {
     "name": "stdout",
     "output_type": "stream",
     "text": [
      "5\n"
     ]
    }
   ],
   "source": [
    "print(len(reindeer))"
   ]
  },
  {
   "cell_type": "markdown",
   "metadata": {},
   "source": [
    "### Appending to a list"
   ]
  },
  {
   "cell_type": "code",
   "execution_count": 13,
   "metadata": {
    "collapsed": false
   },
   "outputs": [
    {
     "name": "stdout",
     "output_type": "stream",
     "text": [
      "['Dasher', 'Dancer', 'Prancer', 'Vixen', 'Comet', 'Cupid', 'Donner', 'Blitzen']\n"
     ]
    }
   ],
   "source": [
    "all_reindeer = reindeer + more_reindeer\n",
    "print(all_reindeer)"
   ]
  },
  {
   "cell_type": "code",
   "execution_count": 14,
   "metadata": {
    "collapsed": false
   },
   "outputs": [
    {
     "name": "stdout",
     "output_type": "stream",
     "text": [
      "['Dasher', 'Dancer', 'Prancer', 'Vixen', 'Comet', 'Cupid', 'Donner', 'Blitzen', 'Rudolf']\n"
     ]
    }
   ],
   "source": [
    "all_reindeer.append('Rudolf')\n",
    "print(all_reindeer)"
   ]
  },
  {
   "cell_type": "markdown",
   "metadata": {},
   "source": [
    "### Getting parts of a list"
   ]
  },
  {
   "cell_type": "code",
   "execution_count": 15,
   "metadata": {
    "collapsed": false
   },
   "outputs": [
    {
     "name": "stdout",
     "output_type": "stream",
     "text": [
      "Cupid\n",
      "['Dasher', 'Dancer', 'Prancer', 'Vixen']\n",
      "['Comet', 'Cupid', 'Donner', 'Blitzen', 'Rudolf']\n"
     ]
    }
   ],
   "source": [
    "print(all_reindeer[5])\n",
    "print(all_reindeer[0:4])\n",
    "print(all_reindeer[4:])"
   ]
  },
  {
   "cell_type": "markdown",
   "metadata": {},
   "source": [
    "### Finding in a list"
   ]
  },
  {
   "cell_type": "code",
   "execution_count": 16,
   "metadata": {
    "collapsed": false
   },
   "outputs": [
    {
     "name": "stdout",
     "output_type": "stream",
     "text": [
      "2\n",
      "True\n",
      "False\n"
     ]
    }
   ],
   "source": [
    "print(all_reindeer.index('Prancer'))\n",
    "print('Rudolf' in  all_reindeer)\n",
    "print('Santa' in all_reindeer)"
   ]
  },
  {
   "cell_type": "markdown",
   "metadata": {},
   "source": [
    "### Removing from a list, by index"
   ]
  },
  {
   "cell_type": "code",
   "execution_count": 17,
   "metadata": {
    "collapsed": false
   },
   "outputs": [
    {
     "name": "stdout",
     "output_type": "stream",
     "text": [
      "['Dasher', 'Dancer', 'Prancer', 'Vixen', 'Comet', 'Cupid', 'Donner', 'Blitzen', 'Rudolf']\n",
      "['Dasher', 'Dancer', 'Prancer', 'Vixen', 'Comet', 'Cupid', 'Donner', 'Rudolf']\n"
     ]
    }
   ],
   "source": [
    "print(all_reindeer)\n",
    "all_reindeer.pop(7)\n",
    "print(all_reindeer)"
   ]
  },
  {
   "cell_type": "markdown",
   "metadata": {},
   "source": [
    "### Removing from a list, by item"
   ]
  },
  {
   "cell_type": "code",
   "execution_count": 18,
   "metadata": {
    "collapsed": false
   },
   "outputs": [
    {
     "name": "stdout",
     "output_type": "stream",
     "text": [
      "['Dasher', 'Dancer', 'Prancer', 'Vixen', 'Comet', 'Cupid', 'Donner', 'Rudolf']\n",
      "['Dasher', 'Dancer', 'Vixen', 'Comet', 'Cupid', 'Donner', 'Rudolf']\n"
     ]
    }
   ],
   "source": [
    "print(all_reindeer)\n",
    "all_reindeer.remove('Prancer')\n",
    "print(all_reindeer)"
   ]
  },
  {
   "cell_type": "markdown",
   "metadata": {},
   "source": [
    "## Math Module\n",
    "### Some relevant functions"
   ]
  },
  {
   "cell_type": "code",
   "execution_count": 19,
   "metadata": {
    "collapsed": false
   },
   "outputs": [
    {
     "name": "stdout",
     "output_type": "stream",
     "text": [
      "3.141592653589793\n",
      "6\n",
      "11\n"
     ]
    }
   ],
   "source": [
    "import math\n",
    "print(math.pi)\n",
    "print(math.gcd(18,12))\n",
    "print(math.ceil(10.2))"
   ]
  },
  {
   "cell_type": "markdown",
   "metadata": {},
   "source": [
    "### Angles should be expressed as radians!"
   ]
  },
  {
   "cell_type": "code",
   "execution_count": 20,
   "metadata": {
    "collapsed": false
   },
   "outputs": [
    {
     "name": "stdout",
     "output_type": "stream",
     "text": [
      "0.5403023058681398\n",
      "-0.4480736161291701\n"
     ]
    }
   ],
   "source": [
    "print(math.cos(1))\n",
    "print(math.cos(90))"
   ]
  },
  {
   "cell_type": "markdown",
   "metadata": {},
   "source": [
    "## Random module"
   ]
  },
  {
   "cell_type": "code",
   "execution_count": 21,
   "metadata": {
    "collapsed": false
   },
   "outputs": [],
   "source": [
    "import random\n"
   ]
  },
  {
   "cell_type": "markdown",
   "metadata": {},
   "source": [
    " ### Random operations on lists"
   ]
  },
  {
   "cell_type": "code",
   "execution_count": 22,
   "metadata": {
    "collapsed": false
   },
   "outputs": [
    {
     "name": "stdout",
     "output_type": "stream",
     "text": [
      "Dancer\n",
      "['Dasher', 'Dancer', 'Vixen', 'Comet', 'Cupid', 'Donner', 'Rudolf']\n",
      "['Comet', 'Dancer', 'Vixen', 'Rudolf', 'Donner', 'Cupid', 'Dasher']\n"
     ]
    }
   ],
   "source": [
    "print(random.choice(all_reindeer))\n",
    "print(all_reindeer)\n",
    "random.shuffle(all_reindeer)\n",
    "print(all_reindeer)"
   ]
  },
  {
   "cell_type": "code",
   "execution_count": 23,
   "metadata": {
    "collapsed": false
   },
   "outputs": [
    {
     "name": "stdout",
     "output_type": "stream",
     "text": [
      "['Dancer', 'Rudolf', 'Cupid']\n"
     ]
    }
   ],
   "source": [
    "print(random.sample(all_reindeer, 3))"
   ]
  },
  {
   "cell_type": "markdown",
   "metadata": {},
   "source": [
    "## Random numbers"
   ]
  },
  {
   "cell_type": "code",
   "execution_count": 24,
   "metadata": {
    "collapsed": false
   },
   "outputs": [
    {
     "name": "stdout",
     "output_type": "stream",
     "text": [
      "3\n",
      "5\n",
      "13.096638761188515\n"
     ]
    }
   ],
   "source": [
    "print(random.randint(0,10))\n",
    "print(random.randrange(0,10))\n",
    "print(random.gauss(10,3))"
   ]
  },
  {
   "cell_type": "markdown",
   "metadata": {},
   "source": [
    "## Flow Control\n",
    "\n",
    "### If statement"
   ]
  },
  {
   "cell_type": "code",
   "execution_count": 25,
   "metadata": {
    "collapsed": false
   },
   "outputs": [
    {
     "name": "stdout",
     "output_type": "stream",
     "text": [
      "a is 5\n"
     ]
    }
   ],
   "source": [
    "a = 5\n",
    "if a == 5:\n",
    "    print('a is 5')"
   ]
  },
  {
   "cell_type": "code",
   "execution_count": 26,
   "metadata": {
    "collapsed": false
   },
   "outputs": [
    {
     "name": "stdout",
     "output_type": "stream",
     "text": [
      "Dasher is in\n"
     ]
    }
   ],
   "source": [
    "if 'Dasher' in all_reindeer:\n",
    "    print('Dasher is in')\n",
    "else:\n",
    "    print('Dasher is out')"
   ]
  },
  {
   "cell_type": "markdown",
   "metadata": {},
   "source": [
    "### For statement"
   ]
  },
  {
   "cell_type": "code",
   "execution_count": 27,
   "metadata": {
    "collapsed": false
   },
   "outputs": [
    {
     "name": "stdout",
     "output_type": "stream",
     "text": [
      "go Comet, go!\n",
      "go Dancer, go!\n",
      "go Vixen, go!\n",
      "go Rudolf, go!\n",
      "go Donner, go!\n",
      "go Cupid, go!\n",
      "go Dasher, go!\n"
     ]
    }
   ],
   "source": [
    "for x in all_reindeer:\n",
    "    print('go ', x, ', go!', sep='')"
   ]
  },
  {
   "cell_type": "code",
   "execution_count": 28,
   "metadata": {
    "collapsed": false
   },
   "outputs": [
    {
     "name": "stdout",
     "output_type": "stream",
     "text": [
      "D\n",
      "a\n",
      "s\n",
      "h\n",
      "e\n",
      "r\n"
     ]
    }
   ],
   "source": [
    "for x in 'Dasher':\n",
    "    print(x)"
   ]
  },
  {
   "cell_type": "markdown",
   "metadata": {},
   "source": [
    "### Using the for statement to repeat something a fixed number of times"
   ]
  },
  {
   "cell_type": "code",
   "execution_count": 29,
   "metadata": {
    "collapsed": false
   },
   "outputs": [
    {
     "name": "stdout",
     "output_type": "stream",
     "text": [
      "1 times\n",
      "2 times\n",
      "3 times\n",
      "4 times\n",
      "5 times\n"
     ]
    }
   ],
   "source": [
    "for x in range(0,5):\n",
    "    print(x + 1, 'times')"
   ]
  },
  {
   "cell_type": "code",
   "execution_count": 30,
   "metadata": {
    "collapsed": false
   },
   "outputs": [
    {
     "name": "stdout",
     "output_type": "stream",
     "text": [
      "Comet is the 1th reindeer\n",
      "Dancer is the 2th reindeer\n",
      "Vixen is the 3th reindeer\n",
      "Rudolf is the 4th reindeer\n",
      "Donner is the 5th reindeer\n",
      "Cupid is the 6th reindeer\n",
      "Dasher is the 7th reindeer\n"
     ]
    }
   ],
   "source": [
    "for x in range(0,len(all_reindeer)):\n",
    "    print(all_reindeer[x], ' is the ', x + 1, 'th reindeer', sep='')"
   ]
  },
  {
   "cell_type": "markdown",
   "metadata": {},
   "source": [
    "### While statement"
   ]
  },
  {
   "cell_type": "code",
   "execution_count": 31,
   "metadata": {
    "collapsed": false
   },
   "outputs": [
    {
     "name": "stdout",
     "output_type": "stream",
     "text": [
      "0\n",
      "1\n",
      "2\n"
     ]
    }
   ],
   "source": [
    "counter = 0\n",
    "while counter < 3:\n",
    "    print(counter)\n",
    "    counter = counter + 1"
   ]
  },
  {
   "cell_type": "code",
   "execution_count": 32,
   "metadata": {
    "collapsed": false
   },
   "outputs": [
    {
     "name": "stdout",
     "output_type": "stream",
     "text": [
      "0\n",
      "1\n",
      "2\n"
     ]
    }
   ],
   "source": [
    "counter = 0\n",
    "while True:\n",
    "    print(counter)\n",
    "    counter = counter + 1\n",
    "    if counter > 2: break\n",
    "    "
   ]
  },
  {
   "cell_type": "code",
   "execution_count": 33,
   "metadata": {
    "collapsed": false
   },
   "outputs": [
    {
     "name": "stdout",
     "output_type": "stream",
     "text": [
      "Vixen\n",
      "Vixen\n",
      "Vixen\n",
      "Cupid\n",
      "Rudolf\n",
      "Dasher\n"
     ]
    }
   ],
   "source": [
    "reindeer = ''\n",
    "while reindeer != 'Dasher':\n",
    "    reindeer = random.choice(all_reindeer)\n",
    "    print(reindeer)"
   ]
  },
  {
   "cell_type": "markdown",
   "metadata": {},
   "source": [
    "## Functions\n",
    "\n",
    "### A function with one input and one output\n",
    "\n",
    "Defintion of the function"
   ]
  },
  {
   "cell_type": "code",
   "execution_count": 45,
   "metadata": {
    "collapsed": true
   },
   "outputs": [],
   "source": [
    "def celsius2fahrenheit(c):\n",
    "    f = 9/5 * c + 32\n",
    "    return f"
   ]
  },
  {
   "cell_type": "markdown",
   "metadata": {},
   "source": [
    "Using the function:"
   ]
  },
  {
   "cell_type": "code",
   "execution_count": 46,
   "metadata": {
    "collapsed": false
   },
   "outputs": [
    {
     "name": "stdout",
     "output_type": "stream",
     "text": [
      "212.0\n"
     ]
    }
   ],
   "source": [
    "x = celsius2fahrenheit(100)\n",
    "print(x)"
   ]
  },
  {
   "cell_type": "markdown",
   "metadata": {},
   "source": [
    "### A function with three inputs and one output\n",
    "\n",
    "Defition of the function"
   ]
  },
  {
   "cell_type": "code",
   "execution_count": 47,
   "metadata": {
    "collapsed": true
   },
   "outputs": [],
   "source": [
    "def bmi(feet,inches,pounds):\n",
    "    # convert everything to inches\n",
    "    inches = inches + 12 * feet\n",
    "    bmi = 703 * pounds / inches ** 2\n",
    "    return bmi"
   ]
  },
  {
   "cell_type": "markdown",
   "metadata": {},
   "source": [
    "Using the function:"
   ]
  },
  {
   "cell_type": "code",
   "execution_count": 48,
   "metadata": {
    "collapsed": false
   },
   "outputs": [
    {
     "name": "stdout",
     "output_type": "stream",
     "text": [
      "23.713948389273064\n"
     ]
    }
   ],
   "source": [
    "b = bmi(6,5,200)\n",
    "print(b)"
   ]
  },
  {
   "cell_type": "markdown",
   "metadata": {},
   "source": [
    "Compare this result to https://is.gd/i74GSn"
   ]
  },
  {
   "cell_type": "markdown",
   "metadata": {},
   "source": [
    "### A function with three inputs and two outputs"
   ]
  },
  {
   "cell_type": "code",
   "execution_count": 51,
   "metadata": {
    "collapsed": true
   },
   "outputs": [],
   "source": [
    "def bmi2(feet,inches,pounds):\n",
    "    # convert everything to inches\n",
    "    inches = inches + 12 * feet\n",
    "    bmi = 703 * pounds / inches ** 2\n",
    "    status = 'Underweight'\n",
    "    if bmi > 18.5: status = 'Normal'\n",
    "    if bmi > 25.0: status = 'Overweight'\n",
    "    if bmi > 30: status = 'Obese'\n",
    "    return bmi, status"
   ]
  },
  {
   "cell_type": "code",
   "execution_count": 52,
   "metadata": {
    "collapsed": false
   },
   "outputs": [
    {
     "name": "stdout",
     "output_type": "stream",
     "text": [
      "23.713948389273064 Normal\n"
     ]
    }
   ],
   "source": [
    "b,s = bmi2(6,5,200)\n",
    "print(b,s)"
   ]
  }
 ],
 "metadata": {
  "kernelspec": {
   "display_name": "Python 3",
   "language": "python",
   "name": "python3"
  },
  "language_info": {
   "codemirror_mode": {
    "name": "ipython",
    "version": 3
   },
   "file_extension": ".py",
   "mimetype": "text/x-python",
   "name": "python",
   "nbconvert_exporter": "python",
   "pygments_lexer": "ipython3",
   "version": "3.6.0"
  },
  "toc": {
   "colors": {
    "hover_highlight": "#DAA520",
    "running_highlight": "#FF0000",
    "selected_highlight": "#FFD700"
   },
   "moveMenuLeft": true,
   "nav_menu": {
    "height": "415px",
    "width": "252px"
   },
   "navigate_menu": true,
   "number_sections": true,
   "sideBar": true,
   "threshold": 4,
   "toc_cell": true,
   "toc_position": {
    "height": "964px",
    "left": "0px",
    "right": "1773.62px",
    "top": "81.8833px",
    "width": "338px"
   },
   "toc_section_display": "block",
   "toc_window_display": true,
   "widenNotebook": false
  }
 },
 "nbformat": 4,
 "nbformat_minor": 2
}
